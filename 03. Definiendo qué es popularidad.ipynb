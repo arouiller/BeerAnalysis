{
 "cells": [
  {
   "cell_type": "markdown",
   "id": "51d9a7fa-6628-4e43-8ac6-38851d6946c3",
   "metadata": {
    "tags": []
   },
   "source": [
    "# 3. Definiendo qué es la popularidad"
   ]
  },
  {
   "cell_type": "markdown",
   "id": "b7b7e04e-3491-4699-9f41-8b9bef03f06d",
   "metadata": {},
   "source": [
    "### Algunas cosas para leer\n",
    "\n",
    "#### ¿Qué es un boxplot?\n",
    "https://datavizcatalogue.com/ES/metodos/diagrama_cajas_y_bigotes.html\n",
    "\n",
    "#### ¿Qué es un diagrama de violín?\n",
    "https://datavizcatalogue.com/ES/metodos/diagrama_de_violin.html\n"
   ]
  },
  {
   "cell_type": "markdown",
   "id": "30332897-7eaf-462e-b73c-751f9614bce3",
   "metadata": {
    "tags": []
   },
   "source": [
    "## Importamos paquetes necesarios"
   ]
  },
  {
   "cell_type": "code",
   "execution_count": 2,
   "id": "2a1530cc-481e-4d1a-8a60-693577d7f6b6",
   "metadata": {
    "tags": []
   },
   "outputs": [],
   "source": [
    "import pandas as pd\n",
    "import numpy as np\n",
    "\n",
    "import seaborn as sns\n",
    "import matplotlib.pyplot as plt\n",
    "from matplotlib.colors import ListedColormap\n",
    "\n",
    "import chart_utils as acu"
   ]
  },
  {
   "cell_type": "markdown",
   "id": "1a6a9af4-e2c8-4e07-ac53-37dcc62873d5",
   "metadata": {},
   "source": [
    "## ¿Qué hace popular a una cerveza?"
   ]
  },
  {
   "cell_type": "markdown",
   "id": "1190b026-fc22-4f84-a429-71c3b0cb0783",
   "metadata": {},
   "source": [
    "### Análisis general de la cantidad de revisiones"
   ]
  },
  {
   "cell_type": "code",
   "execution_count": 3,
   "id": "4c63b4b4-119d-4527-af22-16ab64e6a756",
   "metadata": {
    "tags": []
   },
   "outputs": [
    {
     "data": {
      "text/html": [
       "<div>\n",
       "<style scoped>\n",
       "    .dataframe tbody tr th:only-of-type {\n",
       "        vertical-align: middle;\n",
       "    }\n",
       "\n",
       "    .dataframe tbody tr th {\n",
       "        vertical-align: top;\n",
       "    }\n",
       "\n",
       "    .dataframe thead th {\n",
       "        text-align: right;\n",
       "    }\n",
       "</style>\n",
       "<table border=\"1\" class=\"dataframe\">\n",
       "  <thead>\n",
       "    <tr style=\"text-align: right;\">\n",
       "      <th></th>\n",
       "      <th>beer_beerid</th>\n",
       "      <th>beer_name</th>\n",
       "      <th>brewery_id</th>\n",
       "      <th>brewery_name</th>\n",
       "      <th>beer_style</th>\n",
       "      <th>beer_abv</th>\n",
       "      <th>review_overall</th>\n",
       "      <th>review_aroma</th>\n",
       "      <th>review_appearance</th>\n",
       "      <th>review_palate</th>\n",
       "      <th>review_taste</th>\n",
       "      <th>cantidad_revisiones</th>\n",
       "      <th>revision_primera</th>\n",
       "      <th>revision_ultima</th>\n",
       "      <th>edad</th>\n",
       "      <th>disponibilidad</th>\n",
       "    </tr>\n",
       "  </thead>\n",
       "  <tbody>\n",
       "    <tr>\n",
       "      <th>0</th>\n",
       "      <td>47986</td>\n",
       "      <td>Sausa Weizen</td>\n",
       "      <td>10325</td>\n",
       "      <td>Vecchio Birraio</td>\n",
       "      <td>Hefeweizen</td>\n",
       "      <td>5.0</td>\n",
       "      <td>1.5</td>\n",
       "      <td>2.0</td>\n",
       "      <td>2.5</td>\n",
       "      <td>1.5</td>\n",
       "      <td>1.5</td>\n",
       "      <td>1</td>\n",
       "      <td>2009-02-16</td>\n",
       "      <td>2009-02-16</td>\n",
       "      <td>3</td>\n",
       "      <td>1</td>\n",
       "    </tr>\n",
       "    <tr>\n",
       "      <th>1</th>\n",
       "      <td>48213</td>\n",
       "      <td>Red Moon</td>\n",
       "      <td>10325</td>\n",
       "      <td>Vecchio Birraio</td>\n",
       "      <td>English Strong Ale</td>\n",
       "      <td>6.2</td>\n",
       "      <td>3.0</td>\n",
       "      <td>2.5</td>\n",
       "      <td>3.0</td>\n",
       "      <td>3.0</td>\n",
       "      <td>3.0</td>\n",
       "      <td>1</td>\n",
       "      <td>2009-03-01</td>\n",
       "      <td>2009-03-01</td>\n",
       "      <td>3</td>\n",
       "      <td>1</td>\n",
       "    </tr>\n",
       "    <tr>\n",
       "      <th>2</th>\n",
       "      <td>48215</td>\n",
       "      <td>Black Horse Black Beer</td>\n",
       "      <td>10325</td>\n",
       "      <td>Vecchio Birraio</td>\n",
       "      <td>Foreign / Export Stout</td>\n",
       "      <td>6.5</td>\n",
       "      <td>3.0</td>\n",
       "      <td>2.5</td>\n",
       "      <td>3.0</td>\n",
       "      <td>3.0</td>\n",
       "      <td>3.0</td>\n",
       "      <td>1</td>\n",
       "      <td>2009-03-01</td>\n",
       "      <td>2009-03-01</td>\n",
       "      <td>3</td>\n",
       "      <td>1</td>\n",
       "    </tr>\n",
       "    <tr>\n",
       "      <th>3</th>\n",
       "      <td>47969</td>\n",
       "      <td>Sausa Pils</td>\n",
       "      <td>10325</td>\n",
       "      <td>Vecchio Birraio</td>\n",
       "      <td>German Pilsener</td>\n",
       "      <td>5.0</td>\n",
       "      <td>3.0</td>\n",
       "      <td>3.0</td>\n",
       "      <td>3.5</td>\n",
       "      <td>2.5</td>\n",
       "      <td>3.0</td>\n",
       "      <td>1</td>\n",
       "      <td>2009-02-15</td>\n",
       "      <td>2009-02-15</td>\n",
       "      <td>3</td>\n",
       "      <td>1</td>\n",
       "    </tr>\n",
       "    <tr>\n",
       "      <th>4</th>\n",
       "      <td>64883</td>\n",
       "      <td>Cauldron DIPA</td>\n",
       "      <td>1075</td>\n",
       "      <td>Caldera Brewing Company</td>\n",
       "      <td>American Double / Imperial IPA</td>\n",
       "      <td>7.7</td>\n",
       "      <td>4.0</td>\n",
       "      <td>4.5</td>\n",
       "      <td>4.0</td>\n",
       "      <td>4.0</td>\n",
       "      <td>4.5</td>\n",
       "      <td>1</td>\n",
       "      <td>2010-12-30</td>\n",
       "      <td>2010-12-30</td>\n",
       "      <td>2</td>\n",
       "      <td>1</td>\n",
       "    </tr>\n",
       "  </tbody>\n",
       "</table>\n",
       "</div>"
      ],
      "text/plain": [
       "   beer_beerid               beer_name  brewery_id             brewery_name   \n",
       "0        47986            Sausa Weizen       10325          Vecchio Birraio  \\\n",
       "1        48213                Red Moon       10325          Vecchio Birraio   \n",
       "2        48215  Black Horse Black Beer       10325          Vecchio Birraio   \n",
       "3        47969              Sausa Pils       10325          Vecchio Birraio   \n",
       "4        64883           Cauldron DIPA        1075  Caldera Brewing Company   \n",
       "\n",
       "                       beer_style  beer_abv  review_overall  review_aroma   \n",
       "0                      Hefeweizen       5.0             1.5           2.0  \\\n",
       "1              English Strong Ale       6.2             3.0           2.5   \n",
       "2          Foreign / Export Stout       6.5             3.0           2.5   \n",
       "3                 German Pilsener       5.0             3.0           3.0   \n",
       "4  American Double / Imperial IPA       7.7             4.0           4.5   \n",
       "\n",
       "   review_appearance  review_palate  review_taste  cantidad_revisiones   \n",
       "0                2.5            1.5           1.5                    1  \\\n",
       "1                3.0            3.0           3.0                    1   \n",
       "2                3.0            3.0           3.0                    1   \n",
       "3                3.5            2.5           3.0                    1   \n",
       "4                4.0            4.0           4.5                    1   \n",
       "\n",
       "  revision_primera revision_ultima  edad  disponibilidad  \n",
       "0       2009-02-16      2009-02-16     3               1  \n",
       "1       2009-03-01      2009-03-01     3               1  \n",
       "2       2009-03-01      2009-03-01     3               1  \n",
       "3       2009-02-15      2009-02-15     3               1  \n",
       "4       2010-12-30      2010-12-30     2               1  "
      ]
     },
     "execution_count": 3,
     "metadata": {},
     "output_type": "execute_result"
    }
   ],
   "source": [
    "file_cervezas_unicas_resumen_valores = 'dataset/cervezas_unicas_resumen_valores.csv'\n",
    "\n",
    "df = pd.read_csv(file_cervezas_unicas_resumen_valores)\n",
    "df.head()"
   ]
  },
  {
   "cell_type": "code",
   "execution_count": 17,
   "id": "0aeafba0-f140-4750-8ec2-69569c9c1d6e",
   "metadata": {
    "tags": []
   },
   "outputs": [
    {
     "data": {
      "image/png": "[encoded data removed]",
      "text/plain": [
       "<Figure size 1600x400 with 2 Axes>"
      ]
     },
     "metadata": {},
     "output_type": "display_data"
    }
   ],
   "source": [
    "acu.plot_boxplot_violin(df['cantidad_revisiones'],  'Cantidad de revisiones')"
   ]
  },
  {
   "cell_type": "code",
   "execution_count": 10,
   "id": "64c2b80a-e453-450b-85b7-9e1a3d142415",
   "metadata": {
    "tags": []
   },
   "outputs": [
    {
     "data": {
      "text/html": [
       "<div>\n",
       "<style scoped>\n",
       "    .dataframe tbody tr th:only-of-type {\n",
       "        vertical-align: middle;\n",
       "    }\n",
       "\n",
       "    .dataframe tbody tr th {\n",
       "        vertical-align: top;\n",
       "    }\n",
       "\n",
       "    .dataframe thead th {\n",
       "        text-align: right;\n",
       "    }\n",
       "</style>\n",
       "<table border=\"1\" class=\"dataframe\">\n",
       "  <thead>\n",
       "    <tr style=\"text-align: right;\">\n",
       "      <th></th>\n",
       "      <th>Titulo</th>\n",
       "      <th>Valores</th>\n",
       "    </tr>\n",
       "  </thead>\n",
       "  <tbody>\n",
       "    <tr>\n",
       "      <th>0</th>\n",
       "      <td>Minima cantidad de revisiones</td>\n",
       "      <td>1</td>\n",
       "    </tr>\n",
       "    <tr>\n",
       "      <th>1</th>\n",
       "      <td>Q1 (25%)</td>\n",
       "      <td>1.0</td>\n",
       "    </tr>\n",
       "    <tr>\n",
       "      <th>2</th>\n",
       "      <td>Q2 (50%)</td>\n",
       "      <td>3.0</td>\n",
       "    </tr>\n",
       "    <tr>\n",
       "      <th>3</th>\n",
       "      <td>Q3 (75%)</td>\n",
       "      <td>10.0</td>\n",
       "    </tr>\n",
       "    <tr>\n",
       "      <th>4</th>\n",
       "      <td>Bigote superior (Q3 + 1.5 RI)</td>\n",
       "      <td>23.5</td>\n",
       "    </tr>\n",
       "    <tr>\n",
       "      <th>5</th>\n",
       "      <td>Maxima cantidad de revisiones</td>\n",
       "      <td>3206</td>\n",
       "    </tr>\n",
       "  </tbody>\n",
       "</table>\n",
       "</div>"
      ],
      "text/plain": [
       "                          Titulo Valores\n",
       "0  Minima cantidad de revisiones       1\n",
       "1                       Q1 (25%)     1.0\n",
       "2                       Q2 (50%)     3.0\n",
       "3                       Q3 (75%)    10.0\n",
       "4  Bigote superior (Q3 + 1.5 RI)    23.5\n",
       "5  Maxima cantidad de revisiones    3206"
      ]
     },
     "execution_count": 10,
     "metadata": {},
     "output_type": "execute_result"
    }
   ],
   "source": [
    "min_rev = min(df['cantidad_revisiones'])\n",
    "q1_rev = np.quantile(df['cantidad_revisiones'], .25)\n",
    "q2_rev = np.quantile(df['cantidad_revisiones'], .50)\n",
    "q3_rev = np.quantile(df['cantidad_revisiones'], .75)\n",
    "max_rev = max(df['cantidad_revisiones'])\n",
    "ri_rev = q3_rev - q1_rev\n",
    "pd.DataFrame(\n",
    "    {\n",
    "        'Titulo' : ['Minima cantidad de revisiones', 'Q1 (25%)', 'Q2 (50%)', 'Q3 (75%)','Bigote superior (Q3 + 1.5 RI)', 'Maxima cantidad de revisiones'],\n",
    "        'Valores' : [\n",
    "            str(min_rev),\n",
    "            str(round(q1_rev, 3)),\n",
    "            str(round(q2_rev, 3)),\n",
    "            str(round(q3_rev, 3)),\n",
    "            str(round(q3_rev + 1.5*ri_rev, 3)),\n",
    "            str(max_rev)\n",
    "        ]\n",
    "    }\n",
    ")\n"
   ]
  },
  {
   "cell_type": "code",
   "execution_count": 19,
   "id": "2a4a05af-f7de-48cf-a913-4b70f87e7987",
   "metadata": {
    "tags": []
   },
   "outputs": [
    {
     "data": {
      "image/png": "[encoded data removed]",
      "text/plain": [
       "<Figure size 1600x400 with 2 Axes>"
      ]
     },
     "metadata": {},
     "output_type": "display_data"
    }
   ],
   "source": [
    "acu.plot_boxplot_violin(df['cantidad_revisiones'],  'Cantidad de revisiones', min_=-0, max_=40)"
   ]
  },
  {
   "cell_type": "markdown",
   "id": "3e0223c1-d9f7-4478-9e0e-865984200060",
   "metadata": {},
   "source": [
    "### Análizando el Log de la cantidad de revisiones"
   ]
  },
  {
   "cell_type": "code",
   "execution_count": 14,
   "id": "f882840d-4f7d-4230-bad7-b6bbf1ecc9ae",
   "metadata": {
    "tags": []
   },
   "outputs": [
    {
     "data": {
      "text/html": [
       "<div>\n",
       "<style scoped>\n",
       "    .dataframe tbody tr th:only-of-type {\n",
       "        vertical-align: middle;\n",
       "    }\n",
       "\n",
       "    .dataframe tbody tr th {\n",
       "        vertical-align: top;\n",
       "    }\n",
       "\n",
       "    .dataframe thead th {\n",
       "        text-align: right;\n",
       "    }\n",
       "</style>\n",
       "<table border=\"1\" class=\"dataframe\">\n",
       "  <thead>\n",
       "    <tr style=\"text-align: right;\">\n",
       "      <th></th>\n",
       "      <th>Titulo</th>\n",
       "      <th>Valores</th>\n",
       "    </tr>\n",
       "  </thead>\n",
       "  <tbody>\n",
       "    <tr>\n",
       "      <th>0</th>\n",
       "      <td>Minimo log revisiones</td>\n",
       "      <td>0.0</td>\n",
       "    </tr>\n",
       "    <tr>\n",
       "      <th>1</th>\n",
       "      <td>Q1 (25%)</td>\n",
       "      <td>0.0</td>\n",
       "    </tr>\n",
       "    <tr>\n",
       "      <th>2</th>\n",
       "      <td>Q2 (50%)</td>\n",
       "      <td>1.099</td>\n",
       "    </tr>\n",
       "    <tr>\n",
       "      <th>3</th>\n",
       "      <td>Q3 (75%)</td>\n",
       "      <td>2.303</td>\n",
       "    </tr>\n",
       "    <tr>\n",
       "      <th>4</th>\n",
       "      <td>Bigote superior (Q3 + 1.5 RI)</td>\n",
       "      <td>5.756</td>\n",
       "    </tr>\n",
       "    <tr>\n",
       "      <th>5</th>\n",
       "      <td>Max log de revisiones</td>\n",
       "      <td>8.072779333169498</td>\n",
       "    </tr>\n",
       "  </tbody>\n",
       "</table>\n",
       "</div>"
      ],
      "text/plain": [
       "                          Titulo            Valores\n",
       "0          Minimo log revisiones                0.0\n",
       "1                       Q1 (25%)                0.0\n",
       "2                       Q2 (50%)              1.099\n",
       "3                       Q3 (75%)              2.303\n",
       "4  Bigote superior (Q3 + 1.5 RI)              5.756\n",
       "5          Max log de revisiones  8.072779333169498"
      ]
     },
     "execution_count": 14,
     "metadata": {},
     "output_type": "execute_result"
    }
   ],
   "source": [
    "min_rev = min(np.log(df['cantidad_revisiones']))\n",
    "q1_rev = np.quantile(np.log(df['cantidad_revisiones']), .25)\n",
    "q2_rev = np.quantile(np.log(df['cantidad_revisiones']), .50)\n",
    "q3_rev = np.quantile(np.log(df['cantidad_revisiones']), .75)\n",
    "max_rev = max(np.log(df['cantidad_revisiones']))\n",
    "ri_rev = q3_rev - q1_rev\n",
    "pd.DataFrame(\n",
    "    {\n",
    "        'Titulo' : ['Minimo log revisiones', 'Q1 (25%)', 'Q2 (50%)', 'Q3 (75%)','Bigote superior (Q3 + 1.5 RI)', 'Max log de revisiones'],\n",
    "        'Valores' : [\n",
    "            str(min_rev),\n",
    "            str(round(q1_rev, 3)),\n",
    "            str(round(q2_rev, 3)),\n",
    "            str(round(q3_rev, 3)),\n",
    "            str(round(q3_rev + 1.5*ri_rev, 3)),\n",
    "            str(max_rev)\n",
    "        ]\n",
    "    }\n",
    ")\n"
   ]
  },
  {
   "cell_type": "code",
   "execution_count": 16,
   "id": "76bae6fb-f71a-4573-b4aa-09c6e9c0b93b",
   "metadata": {
    "tags": []
   },
   "outputs": [
    {
     "data": {
      "text/html": [
       "<div>\n",
       "<style scoped>\n",
       "    .dataframe tbody tr th:only-of-type {\n",
       "        vertical-align: middle;\n",
       "    }\n",
       "\n",
       "    .dataframe tbody tr th {\n",
       "        vertical-align: top;\n",
       "    }\n",
       "\n",
       "    .dataframe thead th {\n",
       "        text-align: right;\n",
       "    }\n",
       "</style>\n",
       "<table border=\"1\" class=\"dataframe\">\n",
       "  <thead>\n",
       "    <tr style=\"text-align: right;\">\n",
       "      <th></th>\n",
       "      <th>Titulo</th>\n",
       "      <th>Valores</th>\n",
       "    </tr>\n",
       "  </thead>\n",
       "  <tbody>\n",
       "    <tr>\n",
       "      <th>0</th>\n",
       "      <td>Minimo log revisiones</td>\n",
       "      <td>0.0</td>\n",
       "    </tr>\n",
       "    <tr>\n",
       "      <th>1</th>\n",
       "      <td>Q1 (25%)</td>\n",
       "      <td>0.0</td>\n",
       "    </tr>\n",
       "    <tr>\n",
       "      <th>2</th>\n",
       "      <td>Q2 (50%)</td>\n",
       "      <td>1.099</td>\n",
       "    </tr>\n",
       "    <tr>\n",
       "      <th>3</th>\n",
       "      <td>Q3 (75%)</td>\n",
       "      <td>2.303</td>\n",
       "    </tr>\n",
       "    <tr>\n",
       "      <th>4</th>\n",
       "      <td>Bigote superior (Q3 + 1.5 RI)</td>\n",
       "      <td>5.756</td>\n",
       "    </tr>\n",
       "    <tr>\n",
       "      <th>5</th>\n",
       "      <td>Max log de revisiones</td>\n",
       "      <td>8.072779333169498</td>\n",
       "    </tr>\n",
       "  </tbody>\n",
       "</table>\n",
       "</div>"
      ],
      "text/plain": [
       "                          Titulo            Valores\n",
       "0          Minimo log revisiones                0.0\n",
       "1                       Q1 (25%)                0.0\n",
       "2                       Q2 (50%)              1.099\n",
       "3                       Q3 (75%)              2.303\n",
       "4  Bigote superior (Q3 + 1.5 RI)              5.756\n",
       "5          Max log de revisiones  8.072779333169498"
      ]
     },
     "execution_count": 16,
     "metadata": {},
     "output_type": "execute_result"
    }
   ],
   "source": [
    "log_revisiones = np.log(df['cantidad_revisiones'])\n",
    "min_rev = min(log_revisiones)\n",
    "q1_rev = np.quantile(log_revisiones, .25)\n",
    "q2_rev = np.quantile(log_revisiones, .50)\n",
    "q3_rev = np.quantile(log_revisiones, .75)\n",
    "max_rev = max(log_revisiones)\n",
    "ri_rev = q3_rev - q1_rev\n",
    "pd.DataFrame(\n",
    "    {\n",
    "        'Titulo' : ['Minimo log revisiones', 'Q1 (25%)', 'Q2 (50%)', 'Q3 (75%)','Bigote superior (Q3 + 1.5 RI)', 'Max log de revisiones'],\n",
    "        'Valores' : [\n",
    "            str(min_rev),\n",
    "            str(round(q1_rev, 3)),\n",
    "            str(round(q2_rev, 3)),\n",
    "            str(round(q3_rev, 3)),\n",
    "            str(round(q3_rev + 1.5*ri_rev, 3)),\n",
    "            str(max_rev)\n",
    "        ]\n",
    "    }\n",
    ")"
   ]
  },
  {
   "cell_type": "code",
   "execution_count": 17,
   "id": "111a8a6b-4f25-4a53-995a-db31d87fb3d7",
   "metadata": {
    "tags": []
   },
   "outputs": [
    {
     "data": {
      "image/png": "[encoded data removed]",
      "text/plain": [
       "<Figure size 1600x400 with 2 Axes>"
      ]
     },
     "metadata": {},
     "output_type": "display_data"
    }
   ],
   "source": [
    "acu.plot_boxplot_violin( np.log(df['cantidad_revisiones']),  'Log. Cantidad de revisiones', min_=-0, max_=0)"
   ]
  },
  {
   "cell_type": "code",
   "execution_count": 35,
   "id": "911e2d41-642b-4004-baca-503ddad73297",
   "metadata": {
    "tags": []
   },
   "outputs": [
    {
     "data": {
      "text/plain": [
       "2"
      ]
     },
     "execution_count": 35,
     "metadata": {},
     "output_type": "execute_result"
    }
   ],
   "source": [
    "len(df[df['cantidad_revisiones']>3000])"
   ]
  },
  {
   "cell_type": "code",
   "execution_count": 52,
   "id": "eae7cdf9-0f4c-4011-8299-6703b74301aa",
   "metadata": {
    "tags": []
   },
   "outputs": [
    {
     "name": "stdout",
     "output_type": "stream",
     "text": [
      "     Cuantil  Log valores  Puntuaciones Nro cervezas ↓ Nro cervezas ↑      % ↑\n",
      "0          0         0.00           1.0              0          49011  100.0 %\n",
      "1          1         0.00           1.0              0          49011  100.0 %\n",
      "2          2         0.00           1.0              0          49011  100.0 %\n",
      "3          3         0.00           1.0              0          49011  100.0 %\n",
      "4          4         0.00           1.0              0          49011  100.0 %\n",
      "5          5         0.00           1.0              0          49011  100.0 %\n",
      "6          6         0.00           1.0              0          49011  100.0 %\n",
      "7          7         0.00           1.0              0          49011  100.0 %\n",
      "8          8         0.00           1.0              0          49011  100.0 %\n",
      "9          9         0.00           1.0              0          49011  100.0 %\n",
      "10        10         0.00           1.0              0          49011  100.0 %\n",
      "11        11         0.00           1.0              0          49011  100.0 %\n",
      "12        12         0.00           1.0              0          49011  100.0 %\n",
      "13        13         0.00           1.0              0          49011  100.0 %\n",
      "14        14         0.00           1.0              0          49011  100.0 %\n",
      "15        15         0.00           1.0              0          49011  100.0 %\n",
      "16        16         0.00           1.0              0          49011  100.0 %\n",
      "17        17         0.00           1.0              0          49011  100.0 %\n",
      "18        18         0.00           1.0              0          49011  100.0 %\n",
      "19        19         0.00           1.0              0          49011  100.0 %\n",
      "20        20         0.00           1.0              0          49011  100.0 %\n",
      "21        21         0.00           1.0              0          49011  100.0 %\n",
      "22        22         0.00           1.0              0          49011  100.0 %\n",
      "23        23         0.00           1.0              0          49011  100.0 %\n",
      "24        24         0.00           1.0              0          49011  100.0 %\n",
      "25        25         0.00           1.0              0          49011  100.0 %\n",
      "26        26         0.00           1.0              0          49011  100.0 %\n",
      "27        27         0.00           1.0              0          49011  100.0 %\n",
      "28        28         0.00           1.0              0          49011  100.0 %\n",
      "29        29         0.00           1.0              0          49011  100.0 %\n",
      "30        30         0.00           1.0              0          49011  100.0 %\n",
      "31        31         0.00           1.0              0          49011  100.0 %\n",
      "32        32         0.69           2.0          15677          33334  68.01 %\n",
      "33        33         0.69           2.0          15677          33334  68.01 %\n",
      "34        34         0.69           2.0          15677          33334  68.01 %\n",
      "35        35         0.69           2.0          15677          33334  68.01 %\n",
      "36        36         0.69           2.0          15677          33334  68.01 %\n",
      "37        37         0.69           2.0          15677          33334  68.01 %\n",
      "38        38         0.69           2.0          15677          33334  68.01 %\n",
      "39        39         0.69           2.0          15677          33334  68.01 %\n",
      "40        40         0.69           2.0          15677          33334  68.01 %\n",
      "41        41         0.69           2.0          15677          33334  68.01 %\n",
      "42        42         0.69           2.0          15677          33334  68.01 %\n",
      "43        43         0.69           2.0          15677          33334  68.01 %\n",
      "44        44         0.69           2.0          15677          33334  68.01 %\n",
      "45        45         0.69           2.0          15677          33334  68.01 %\n",
      "46        46         0.69           2.0          15677          33334  68.01 %\n",
      "47        47         1.10           3.0          27083          21928  44.74 %\n",
      "48        48         1.10           3.0          27083          21928  44.74 %\n",
      "49        49         1.10           3.0          27083          21928  44.74 %\n",
      "50        50         1.10           3.0          27083          21928  44.74 %\n",
      "51        51         1.10           3.0          27083          21928  44.74 %\n",
      "52        52         1.10           3.0          27083          21928  44.74 %\n",
      "53        53         1.10           3.0          27083          21928  44.74 %\n",
      "54        54         1.10           3.0          27083          21928  44.74 %\n",
      "55        55         1.10           3.0          27083          21928  44.74 %\n",
      "56        56         1.39           4.0          27083          21928  44.74 %\n",
      "57        57         1.39           4.0          27083          21928  44.74 %\n",
      "58        58         1.39           4.0          27083          21928  44.74 %\n",
      "59        59         1.39           4.0          27083          21928  44.74 %\n",
      "60        60         1.39           4.0          27083          21928  44.74 %\n",
      "61        61         1.61           5.0          29857          19154  39.08 %\n",
      "62        62         1.61           5.0          29857          19154  39.08 %\n",
      "63        63         1.61           5.0          29857          19154  39.08 %\n",
      "64        64         1.61           5.0          29857          19154  39.08 %\n",
      "65        65         1.79           6.0          31824          17187  35.07 %\n",
      "66        66         1.79           6.0          31824          17187  35.07 %\n",
      "67        67         1.79           6.0          31824          17187  35.07 %\n",
      "68        68         1.95           7.0          33291          15720  32.07 %\n",
      "69        69         1.95           7.0          33291          15720  32.07 %\n",
      "70        70         1.95           7.0          33291          15720  32.07 %\n",
      "71        71         2.08           8.0          34473          14538  29.66 %\n",
      "72        72         2.08           8.0          34473          14538  29.66 %\n",
      "73        73         2.20           9.0          36183          12828  26.17 %\n",
      "74        74         2.30          10.0          36855          12156   24.8 %\n",
      "75        75         2.30          10.0          36855          12156   24.8 %\n",
      "76        76         2.40          11.0          37405          11606  23.68 %\n",
      "77        77         2.48          12.0          37405          11606  23.68 %\n",
      "78        78         2.56          13.0          37917          11094  22.64 %\n",
      "79        79         2.64          14.0          38404          10607  21.64 %\n",
      "80        80         2.77          16.0          39200           9811  20.02 %\n",
      "81        81         2.83          17.0          39545           9466  19.31 %\n",
      "82        82         2.94          19.0          40134           8877  18.11 %\n",
      "83        83         3.04          21.0          40609           8402  17.14 %\n",
      "84        84         3.14          23.0          41007           8004  16.33 %\n",
      "85        85         3.26          26.0          41724           7287  14.87 %\n",
      "86        86         3.37          29.0          42160           6851  13.98 %\n",
      "87        87         3.50          33.0          42536           6475  13.21 %\n",
      "88        88         3.64          38.0          43064           5947  12.13 %\n",
      "89        89         3.78          44.0          43592           5419  11.06 %\n",
      "90        90         3.93          51.0          44074           4937  10.07 %\n",
      "91        91         4.08          59.0          44604           4407   8.99 %\n",
      "92        92         4.25          70.0          45096           3915   7.99 %\n",
      "93        93         4.44          85.0          45604           3407   6.95 %\n",
      "94        94         4.65         105.0          46059           2952   6.02 %\n",
      "95        95         4.90         134.0          46552           2459   5.02 %\n",
      "96        96         5.15         173.0          47054           1957   3.99 %\n",
      "97        97         5.48         239.0          47548           1463   2.99 %\n",
      "98        98         5.83         340.0          48031            980    2.0 %\n",
      "99        99         6.35         575.0          48521            490    1.0 %\n",
      "100      100         8.07        3206.0          49010              1    0.0 %\n"
     ]
    }
   ],
   "source": [
    "log_revisiones = np.log(df['cantidad_revisiones'])\n",
    "\n",
    "cuantil = []\n",
    "valores = []\n",
    "puntuaciones = []\n",
    "nro_cervezas_por_encima = []\n",
    "nro_cervezas_por_debajo = []\n",
    "perc = []\n",
    "\n",
    "total_cervezas = len(df)\n",
    "\n",
    "for q in range(0,101, 1):\n",
    "    p = q/100\n",
    "    cuantil.append(q)\n",
    "    \n",
    "    quantile = np.quantile(log_revisiones, p)\n",
    "    valores.append(round(quantile, 2))\n",
    "    \n",
    "    puntuacion = np.exp(quantile)\n",
    "    puntuaciones.append(puntuacion)\n",
    "    \n",
    "    cervezas_por_encima = len(df[df['cantidad_revisiones']>=puntuacion])\n",
    "    cervezas_por_debajo = total_cervezas - cervezas_por_encima\n",
    "    nro_cervezas_por_encima.append(str(cervezas_por_encima))\n",
    "    nro_cervezas_por_debajo.append(str(cervezas_por_debajo))\n",
    "    \n",
    "    perc.append(str(round(cervezas_por_encima/total_cervezas * 100, 2)) + ' %')\n",
    "    \n",
    "tmp_df = pd.DataFrame(\n",
    "    {\n",
    "        'Cuantil' : cuantil,\n",
    "        'Log valores' : valores,\n",
    "        'Puntuaciones' : puntuaciones,\n",
    "        'Nro cervezas ↓' : nro_cervezas_por_debajo,\n",
    "        'Nro cervezas ↑' : nro_cervezas_por_encima,\n",
    "        '% ↑': perc\n",
    "    }\n",
    ")\n",
    "\n",
    "with pd.option_context('display.max_rows', None,\n",
    "                       'display.max_columns', None,\n",
    "                       'display.precision', 3,\n",
    "                       ):\n",
    "    print(tmp_df)"
   ]
  },
  {
   "cell_type": "code",
   "execution_count": 62,
   "id": "8999f58d-d8bb-446e-abce-d5a0249d2f07",
   "metadata": {
    "tags": []
   },
   "outputs": [
    {
     "data": {
      "text/plain": [
       "134.0"
      ]
     },
     "execution_count": 62,
     "metadata": {},
     "output_type": "execute_result"
    }
   ],
   "source": [
    "round(tmp_df[tmp_df['Cuantil'] == 95].Puntuaciones.values[0], 2)"
   ]
  },
  {
   "cell_type": "markdown",
   "id": "d633cf79-df0f-472e-8b44-e18fd758d083",
   "metadata": {},
   "source": [
    "#### Asignamos la clase al dataset principal"
   ]
  },
  {
   "cell_type": "code",
   "execution_count": 59,
   "id": "687f7d09-13d8-425c-8477-8a94dfd66ae1",
   "metadata": {
    "tags": []
   },
   "outputs": [
    {
     "data": {
      "text/html": [
       "<div>\n",
       "<style scoped>\n",
       "    .dataframe tbody tr th:only-of-type {\n",
       "        vertical-align: middle;\n",
       "    }\n",
       "\n",
       "    .dataframe tbody tr th {\n",
       "        vertical-align: top;\n",
       "    }\n",
       "\n",
       "    .dataframe thead th {\n",
       "        text-align: right;\n",
       "    }\n",
       "</style>\n",
       "<table border=\"1\" class=\"dataframe\">\n",
       "  <thead>\n",
       "    <tr style=\"text-align: right;\">\n",
       "      <th></th>\n",
       "      <th>beer_beerid</th>\n",
       "      <th>beer_name</th>\n",
       "      <th>brewery_id</th>\n",
       "      <th>brewery_name</th>\n",
       "      <th>beer_style</th>\n",
       "      <th>beer_abv</th>\n",
       "      <th>review_overall</th>\n",
       "      <th>review_aroma</th>\n",
       "      <th>review_appearance</th>\n",
       "      <th>review_palate</th>\n",
       "      <th>review_taste</th>\n",
       "      <th>cantidad_revisiones</th>\n",
       "      <th>revision_primera</th>\n",
       "      <th>revision_ultima</th>\n",
       "      <th>edad</th>\n",
       "      <th>disponibilidad</th>\n",
       "      <th>es_popular</th>\n",
       "    </tr>\n",
       "  </thead>\n",
       "  <tbody>\n",
       "    <tr>\n",
       "      <th>0</th>\n",
       "      <td>47986</td>\n",
       "      <td>Sausa Weizen</td>\n",
       "      <td>10325</td>\n",
       "      <td>Vecchio Birraio</td>\n",
       "      <td>Hefeweizen</td>\n",
       "      <td>5.0</td>\n",
       "      <td>1.5</td>\n",
       "      <td>2.0</td>\n",
       "      <td>2.5</td>\n",
       "      <td>1.5</td>\n",
       "      <td>1.5</td>\n",
       "      <td>1</td>\n",
       "      <td>2009-02-16</td>\n",
       "      <td>2009-02-16</td>\n",
       "      <td>3</td>\n",
       "      <td>1</td>\n",
       "      <td>NO</td>\n",
       "    </tr>\n",
       "    <tr>\n",
       "      <th>1</th>\n",
       "      <td>48213</td>\n",
       "      <td>Red Moon</td>\n",
       "      <td>10325</td>\n",
       "      <td>Vecchio Birraio</td>\n",
       "      <td>English Strong Ale</td>\n",
       "      <td>6.2</td>\n",
       "      <td>3.0</td>\n",
       "      <td>2.5</td>\n",
       "      <td>3.0</td>\n",
       "      <td>3.0</td>\n",
       "      <td>3.0</td>\n",
       "      <td>1</td>\n",
       "      <td>2009-03-01</td>\n",
       "      <td>2009-03-01</td>\n",
       "      <td>3</td>\n",
       "      <td>1</td>\n",
       "      <td>NO</td>\n",
       "    </tr>\n",
       "    <tr>\n",
       "      <th>2</th>\n",
       "      <td>48215</td>\n",
       "      <td>Black Horse Black Beer</td>\n",
       "      <td>10325</td>\n",
       "      <td>Vecchio Birraio</td>\n",
       "      <td>Foreign / Export Stout</td>\n",
       "      <td>6.5</td>\n",
       "      <td>3.0</td>\n",
       "      <td>2.5</td>\n",
       "      <td>3.0</td>\n",
       "      <td>3.0</td>\n",
       "      <td>3.0</td>\n",
       "      <td>1</td>\n",
       "      <td>2009-03-01</td>\n",
       "      <td>2009-03-01</td>\n",
       "      <td>3</td>\n",
       "      <td>1</td>\n",
       "      <td>NO</td>\n",
       "    </tr>\n",
       "    <tr>\n",
       "      <th>3</th>\n",
       "      <td>47969</td>\n",
       "      <td>Sausa Pils</td>\n",
       "      <td>10325</td>\n",
       "      <td>Vecchio Birraio</td>\n",
       "      <td>German Pilsener</td>\n",
       "      <td>5.0</td>\n",
       "      <td>3.0</td>\n",
       "      <td>3.0</td>\n",
       "      <td>3.5</td>\n",
       "      <td>2.5</td>\n",
       "      <td>3.0</td>\n",
       "      <td>1</td>\n",
       "      <td>2009-02-15</td>\n",
       "      <td>2009-02-15</td>\n",
       "      <td>3</td>\n",
       "      <td>1</td>\n",
       "      <td>NO</td>\n",
       "    </tr>\n",
       "    <tr>\n",
       "      <th>4</th>\n",
       "      <td>64883</td>\n",
       "      <td>Cauldron DIPA</td>\n",
       "      <td>1075</td>\n",
       "      <td>Caldera Brewing Company</td>\n",
       "      <td>American Double / Imperial IPA</td>\n",
       "      <td>7.7</td>\n",
       "      <td>4.0</td>\n",
       "      <td>4.5</td>\n",
       "      <td>4.0</td>\n",
       "      <td>4.0</td>\n",
       "      <td>4.5</td>\n",
       "      <td>1</td>\n",
       "      <td>2010-12-30</td>\n",
       "      <td>2010-12-30</td>\n",
       "      <td>2</td>\n",
       "      <td>1</td>\n",
       "      <td>NO</td>\n",
       "    </tr>\n",
       "  </tbody>\n",
       "</table>\n",
       "</div>"
      ],
      "text/plain": [
       "   beer_beerid               beer_name  brewery_id             brewery_name   \n",
       "0        47986            Sausa Weizen       10325          Vecchio Birraio  \\\n",
       "1        48213                Red Moon       10325          Vecchio Birraio   \n",
       "2        48215  Black Horse Black Beer       10325          Vecchio Birraio   \n",
       "3        47969              Sausa Pils       10325          Vecchio Birraio   \n",
       "4        64883           Cauldron DIPA        1075  Caldera Brewing Company   \n",
       "\n",
       "                       beer_style  beer_abv  review_overall  review_aroma   \n",
       "0                      Hefeweizen       5.0             1.5           2.0  \\\n",
       "1              English Strong Ale       6.2             3.0           2.5   \n",
       "2          Foreign / Export Stout       6.5             3.0           2.5   \n",
       "3                 German Pilsener       5.0             3.0           3.0   \n",
       "4  American Double / Imperial IPA       7.7             4.0           4.5   \n",
       "\n",
       "   review_appearance  review_palate  review_taste  cantidad_revisiones   \n",
       "0                2.5            1.5           1.5                    1  \\\n",
       "1                3.0            3.0           3.0                    1   \n",
       "2                3.0            3.0           3.0                    1   \n",
       "3                3.5            2.5           3.0                    1   \n",
       "4                4.0            4.0           4.5                    1   \n",
       "\n",
       "  revision_primera revision_ultima  edad  disponibilidad es_popular  \n",
       "0       2009-02-16      2009-02-16     3               1         NO  \n",
       "1       2009-03-01      2009-03-01     3               1         NO  \n",
       "2       2009-03-01      2009-03-01     3               1         NO  \n",
       "3       2009-02-15      2009-02-15     3               1         NO  \n",
       "4       2010-12-30      2010-12-30     2               1         NO  "
      ]
     },
     "execution_count": 59,
     "metadata": {},
     "output_type": "execute_result"
    }
   ],
   "source": [
    "cuantil_elegido = 95\n",
    "umbral = tmp_df[tmp_df['Cuantil'] == cuantil_elegido].Puntuaciones.values[0]\n",
    "\n",
    "df_cervezas_unicas_resumen_valores_con_clase = df.copy()\n",
    "\n",
    "df_cervezas_unicas_resumen_valores_con_clase['es_popular'] = np.where(\n",
    "    df_cervezas_unicas_resumen_valores_con_clase['cantidad_revisiones']>umbral, 'SI', 'NO')\n",
    "\n",
    "df_cervezas_unicas_resumen_valores_con_clase.head()"
   ]
  },
  {
   "cell_type": "code",
   "execution_count": 61,
   "id": "cd801830-c764-4a0a-851d-934114fcb548",
   "metadata": {
    "tags": []
   },
   "outputs": [
    {
     "data": {
      "text/html": [
       "<div>\n",
       "<style scoped>\n",
       "    .dataframe tbody tr th:only-of-type {\n",
       "        vertical-align: middle;\n",
       "    }\n",
       "\n",
       "    .dataframe tbody tr th {\n",
       "        vertical-align: top;\n",
       "    }\n",
       "\n",
       "    .dataframe thead th {\n",
       "        text-align: right;\n",
       "    }\n",
       "</style>\n",
       "<table border=\"1\" class=\"dataframe\">\n",
       "  <thead>\n",
       "    <tr style=\"text-align: right;\">\n",
       "      <th></th>\n",
       "      <th>es_popular</th>\n",
       "      <th>counts</th>\n",
       "    </tr>\n",
       "  </thead>\n",
       "  <tbody>\n",
       "    <tr>\n",
       "      <th>0</th>\n",
       "      <td>NO</td>\n",
       "      <td>46552</td>\n",
       "    </tr>\n",
       "    <tr>\n",
       "      <th>1</th>\n",
       "      <td>SI</td>\n",
       "      <td>2459</td>\n",
       "    </tr>\n",
       "  </tbody>\n",
       "</table>\n",
       "</div>"
      ],
      "text/plain": [
       "  es_popular  counts\n",
       "0         NO   46552\n",
       "1         SI    2459"
      ]
     },
     "execution_count": 61,
     "metadata": {},
     "output_type": "execute_result"
    }
   ],
   "source": [
    "df_cervezas_unicas_resumen_valores_con_clase.groupby(by=['es_popular']).size().reset_index(name='counts')"
   ]
  },
  {
   "cell_type": "code",
   "execution_count": 60,
   "id": "7279311c-ba6a-4d6d-9965-1f45bd1f61d6",
   "metadata": {
    "tags": []
   },
   "outputs": [],
   "source": [
    "file_cervezas_unicas_resumen_valores_con_clase = 'dataset/cervezas_unicas_resumen_valores_con_clase.csv'\n",
    "df_cervezas_unicas_resumen_valores_con_clase.to_csv(file_cervezas_unicas_resumen_valores_con_clase, index=False)"
   ]
  }
 ],
 "metadata": {
  "kernelspec": {
   "display_name": "Python 3 (ipykernel)",
   "language": "python",
   "name": "python3"
  },
  "language_info": {
   "codemirror_mode": {
    "name": "ipython",
    "version": 3
   },
   "file_extension": ".py",
   "mimetype": "text/x-python",
   "name": "python",
   "nbconvert_exporter": "python",
   "pygments_lexer": "ipython3",
   "version": "3.9.16"
  }
 },
 "nbformat": 4,
 "nbformat_minor": 5
}
