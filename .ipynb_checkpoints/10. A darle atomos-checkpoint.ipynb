{
 "cells": [
  {
   "cell_type": "markdown",
   "id": "bda83956-c5e4-45e9-9521-a8742b853736",
   "metadata": {},
   "source": [
    "https://www.kaggle.com/datasets/thedevastator/1-5-million-beer-reviews-from-beer-advocate?select=beer_reviews.csv"
   ]
  },
  {
   "cell_type": "markdown",
   "id": "897958ac-5ab5-44fe-adb8-bf304085da00",
   "metadata": {
    "tags": []
   },
   "source": [
    "# Adecuando el ambiente"
   ]
  },
  {
   "cell_type": "markdown",
   "id": "156fa186-1b1e-414f-8c97-a964eb8c7e9d",
   "metadata": {},
   "source": [
    "## Instalando paquetes necesarios"
   ]
  },
  {
   "cell_type": "code",
   "execution_count": null,
   "id": "8fb3013c-e4be-48ff-b599-00dffe43ed33",
   "metadata": {
    "tags": []
   },
   "outputs": [],
   "source": [
    "!pip install pandas"
   ]
  },
  {
   "cell_type": "code",
   "execution_count": null,
   "id": "f6bef96d-99e1-41c1-8bdb-7ec118e77ba6",
   "metadata": {
    "tags": []
   },
   "outputs": [],
   "source": [
    "!pip install seaborn"
   ]
  },
  {
   "cell_type": "code",
   "execution_count": null,
   "id": "d4f040cf-b112-4ee9-ba77-9dd9f4d7f068",
   "metadata": {
    "tags": []
   },
   "outputs": [],
   "source": [
    "!pip install scikit-learn"
   ]
  },
  {
   "cell_type": "code",
   "execution_count": null,
   "id": "19eaa03f-698c-41ed-81e0-3b2559981daa",
   "metadata": {},
   "outputs": [],
   "source": [
    "!pip install pydotplus"
   ]
  },
  {
   "cell_type": "code",
   "execution_count": null,
   "id": "82a9de78-cce3-489c-aeb5-316d4edfd2d6",
   "metadata": {
    "tags": []
   },
   "outputs": [],
   "source": [
    "!pip install mlflow"
   ]
  },
  {
   "cell_type": "markdown",
   "id": "51d9a7fa-6628-4e43-8ac6-38851d6946c3",
   "metadata": {
    "tags": []
   },
   "source": [
    "# Iniciando la aventura"
   ]
  },
  {
   "cell_type": "markdown",
   "id": "30332897-7eaf-462e-b73c-751f9614bce3",
   "metadata": {
    "tags": []
   },
   "source": [
    "## Importando paquetes necesarios"
   ]
  },
  {
   "cell_type": "code",
   "execution_count": 18,
   "id": "2a1530cc-481e-4d1a-8a60-693577d7f6b6",
   "metadata": {
    "tags": []
   },
   "outputs": [],
   "source": [
    "import pandas as pd\n",
    "import numpy as np\n",
    "import pydotplus\n",
    "\n",
    "import matplotlib.pyplot as plt\n",
    "import seaborn as sns\n",
    "\n",
    "from sklearn.model_selection import train_test_split\n",
    "from sklearn.metrics import ConfusionMatrixDisplay\n",
    "from sklearn.metrics import confusion_matrix\n",
    "from sklearn.tree import export_graphviz\n",
    "\n",
    "from sklearn.model_selection import KFold\n",
    "from sklearn.model_selection import cross_val_score\n",
    "from sklearn.model_selection import cross_validate\n",
    "\n",
    "import mlflow\n",
    "from mlflow import log_metric, log_param, log_params, log_artifacts\n",
    "\n",
    "from IPython.display import Image  \n",
    "\n",
    "import alejandro_model_utils as amu\n",
    "import alejandro_graphviz_tools as agt\n",
    "import alejandro_tree_utils as atu"
   ]
  },
  {
   "cell_type": "markdown",
   "id": "39462cb7-47aa-4db7-aebe-90ba81a77c38",
   "metadata": {
    "tags": []
   },
   "source": [
    "# Preparando nuestro primer modelo"
   ]
  },
  {
   "cell_type": "markdown",
   "id": "521c0be0-a693-4bcd-9eb0-3ee15e3ca3eb",
   "metadata": {},
   "source": [
    "## Cargamos nuestros dataset"
   ]
  },
  {
   "cell_type": "code",
   "execution_count": 2,
   "id": "ed045b71-c7d5-44fd-9a28-4cedbbde4fa8",
   "metadata": {},
   "outputs": [
    {
     "data": {
      "text/html": [
       "<div>\n",
       "<style scoped>\n",
       "    .dataframe tbody tr th:only-of-type {\n",
       "        vertical-align: middle;\n",
       "    }\n",
       "\n",
       "    .dataframe tbody tr th {\n",
       "        vertical-align: top;\n",
       "    }\n",
       "\n",
       "    .dataframe thead th {\n",
       "        text-align: right;\n",
       "    }\n",
       "</style>\n",
       "<table border=\"1\" class=\"dataframe\">\n",
       "  <thead>\n",
       "    <tr style=\"text-align: right;\">\n",
       "      <th></th>\n",
       "      <th>beer_abv</th>\n",
       "      <th>review_aroma</th>\n",
       "      <th>review_appearance</th>\n",
       "      <th>review_taste</th>\n",
       "      <th>review_overall</th>\n",
       "      <th>review_palate</th>\n",
       "      <th>es_popular</th>\n",
       "    </tr>\n",
       "  </thead>\n",
       "  <tbody>\n",
       "    <tr>\n",
       "      <th>0</th>\n",
       "      <td>8.2</td>\n",
       "      <td>4.500000</td>\n",
       "      <td>4.25</td>\n",
       "      <td>4.500000</td>\n",
       "      <td>4.50000</td>\n",
       "      <td>4.500000</td>\n",
       "      <td>NO</td>\n",
       "    </tr>\n",
       "    <tr>\n",
       "      <th>1</th>\n",
       "      <td>NaN</td>\n",
       "      <td>3.375000</td>\n",
       "      <td>3.50</td>\n",
       "      <td>3.250000</td>\n",
       "      <td>3.62500</td>\n",
       "      <td>3.250000</td>\n",
       "      <td>NO</td>\n",
       "    </tr>\n",
       "    <tr>\n",
       "      <th>2</th>\n",
       "      <td>4.2</td>\n",
       "      <td>3.391304</td>\n",
       "      <td>3.50</td>\n",
       "      <td>3.565217</td>\n",
       "      <td>3.76087</td>\n",
       "      <td>3.434783</td>\n",
       "      <td>NO</td>\n",
       "    </tr>\n",
       "    <tr>\n",
       "      <th>3</th>\n",
       "      <td>NaN</td>\n",
       "      <td>3.500000</td>\n",
       "      <td>3.50</td>\n",
       "      <td>4.000000</td>\n",
       "      <td>3.50000</td>\n",
       "      <td>3.500000</td>\n",
       "      <td>NO</td>\n",
       "    </tr>\n",
       "    <tr>\n",
       "      <th>4</th>\n",
       "      <td>5.0</td>\n",
       "      <td>2.750000</td>\n",
       "      <td>3.50</td>\n",
       "      <td>3.000000</td>\n",
       "      <td>3.00000</td>\n",
       "      <td>3.500000</td>\n",
       "      <td>NO</td>\n",
       "    </tr>\n",
       "  </tbody>\n",
       "</table>\n",
       "</div>"
      ],
      "text/plain": [
       "   beer_abv  review_aroma  review_appearance  review_taste  review_overall   \n",
       "0       8.2      4.500000               4.25      4.500000         4.50000  \\\n",
       "1       NaN      3.375000               3.50      3.250000         3.62500   \n",
       "2       4.2      3.391304               3.50      3.565217         3.76087   \n",
       "3       NaN      3.500000               3.50      4.000000         3.50000   \n",
       "4       5.0      2.750000               3.50      3.000000         3.00000   \n",
       "\n",
       "   review_palate es_popular  \n",
       "0       4.500000         NO  \n",
       "1       3.250000         NO  \n",
       "2       3.434783         NO  \n",
       "3       3.500000         NO  \n",
       "4       3.500000         NO  "
      ]
     },
     "execution_count": 2,
     "metadata": {},
     "output_type": "execute_result"
    }
   ],
   "source": [
    "file_cervezas_unicas_resumen_valores_con_clase_training = 'dataset/cervezas_unicas_resumen_valores_con_clase_train.csv'\n",
    "file_cervezas_unicas_resumen_valores_con_clase_validacion = 'dataset/cervezas_unicas_resumen_valores_con_clase_validation.csv'\n",
    "\n",
    "campos = ['beer_abv', 'review_aroma', 'review_appearance', 'review_taste', 'review_overall', 'review_palate', 'es_popular']\n",
    "\n",
    "df_training_testing = pd.read_csv(file_cervezas_unicas_resumen_valores_con_clase_training)\n",
    "df_validacion = pd.read_csv(file_cervezas_unicas_resumen_valores_con_clase_validacion)\n",
    "\n",
    "df_training_testing = df_training_testing.loc[:, campos]\n",
    "df_validacion = df_validacion.loc[:, campos]\n",
    "\n",
    "df_training_testing.head()"
   ]
  },
  {
   "cell_type": "markdown",
   "id": "2695a7d2-cbd7-4521-a4f0-66b39861cbc4",
   "metadata": {},
   "source": [
    "## Separamos en training y testing"
   ]
  },
  {
   "cell_type": "code",
   "execution_count": 9,
   "id": "1109ae17-3285-47dd-a8c8-608d65f68f8e",
   "metadata": {
    "tags": []
   },
   "outputs": [],
   "source": [
    "random_state = 1\n",
    "test_size = 0.3\n",
    "\n",
    "atributos = ['beer_abv', 'review_aroma', 'review_appearance', 'review_taste', 'review_overall', 'review_palate']\n",
    "clase = ['es_popular']\n",
    "\n",
    "X_df_training_testing = df_training_testing.loc[:, atributos]\n",
    "Y_df_training_testing = df_training_testing.loc[:, clase]"
   ]
  },
  {
   "cell_type": "markdown",
   "id": "72986fd7-057e-4515-b16a-cc2ff0234b5c",
   "metadata": {},
   "source": [
    "### Tambien abrimos en X e Y el dataset de validacion"
   ]
  },
  {
   "cell_type": "code",
   "execution_count": 10,
   "id": "5966e938-0962-4d32-98dc-e3ad12b5873b",
   "metadata": {
    "tags": []
   },
   "outputs": [],
   "source": [
    "X_validacion = df_validacion.loc[:, atributos]\n",
    "Y_validacion = df_validacion.loc[:, clase]"
   ]
  },
  {
   "cell_type": "markdown",
   "id": "4723c646-2160-4518-a5ae-9e0599ff94f6",
   "metadata": {},
   "source": [
    "## Generamos nuestro primer modelo"
   ]
  },
  {
   "cell_type": "markdown",
   "id": "1e618de0-dab4-4562-ac37-3accecaa858d",
   "metadata": {},
   "source": [
    "### El algoritmo no acepta valores nulos de variables"
   ]
  },
  {
   "cell_type": "code",
   "execution_count": 14,
   "id": "fff769e0-cf25-4ab2-bb4a-0685c8e6f8d9",
   "metadata": {
    "tags": []
   },
   "outputs": [],
   "source": [
    "X_df_training_testing = amu.trasform_dataframe(X_df_training_testing, [amu.transform_NaN_beerabv])\n",
    "X_validacion = amu.trasform_dataframe(X_validacion, [amu.transform_NaN_beerabv])"
   ]
  },
  {
   "cell_type": "code",
   "execution_count": null,
   "id": "14144996-c56e-4b68-b9df-e8c1506afc72",
   "metadata": {},
   "outputs": [],
   "source": [
    "def f(umbral_corte):\n",
    "    resultado = amu.calculate_metrics(\n",
    "        y_true=y_test['es_popular'].values, \n",
    "        y_pred = amu.evaluar_corte(df_y_test_pred_proba['NO_prob'].values, umbral_corte, 'SI', 'NO'), \n",
    "        labels = ['NO', 'SI'])\n",
    "    print([umbral_corte, resultado['metrica negocio']])\n",
    "    return -resultado['metrica negocio']"
   ]
  },
  {
   "cell_type": "code",
   "execution_count": null,
   "id": "86e0af2c-76a4-48e6-8533-06e3256f3885",
   "metadata": {},
   "outputs": [],
   "source": []
  },
  {
   "cell_type": "code",
   "execution_count": null,
   "id": "5e1d9789-bce4-4682-ad4b-4c1c5929f6bc",
   "metadata": {},
   "outputs": [],
   "source": []
  },
  {
   "cell_type": "code",
   "execution_count": null,
   "id": "0d5d3e3c-a7c4-49f6-8f5c-943e1a953391",
   "metadata": {},
   "outputs": [],
   "source": []
  },
  {
   "cell_type": "code",
   "execution_count": null,
   "id": "a5d9ae0c-db61-4c1e-bfb6-2a72582dcd88",
   "metadata": {},
   "outputs": [],
   "source": []
  },
  {
   "cell_type": "code",
   "execution_count": null,
   "id": "d3e70513-b814-40c9-ac37-bc28b17c3d3f",
   "metadata": {},
   "outputs": [],
   "source": []
  },
  {
   "cell_type": "code",
   "execution_count": 38,
   "id": "1170105e-60e9-4107-bd18-0de753b1bfce",
   "metadata": {
    "tags": []
   },
   "outputs": [
    {
     "name": "stdout",
     "output_type": "stream",
     "text": [
      "[0.9, 4, 78.29]\n"
     ]
    },
    {
     "data": {
      "text/plain": [
       "78.29"
      ]
     },
     "execution_count": 38,
     "metadata": {},
     "output_type": "execute_result"
    }
   ],
   "source": [
    "def cv_con_umbral_de_corte(params):\n",
    "    umbral_de_corte = params[0]\n",
    "    max_depth = params[1]\n",
    "    X = X_df_training_testing\n",
    "    y = Y_df_training_testing\n",
    "    #criterion='entropy'\n",
    "    criterion='gini'\n",
    "    #criterion='log_loss'\n",
    "    clf = DecisionTreeClassifier(\n",
    "                criterion = criterion,\n",
    "                max_depth=max_depth\n",
    "            )\n",
    "\n",
    "    # 5-fold cross validation\n",
    "    cv = KFold(n_splits=5, shuffle=True, random_state=42)\n",
    "\n",
    "    def all_metrics(clf, X, y):\n",
    "        y_pred = clf.predict_proba(X)\n",
    "        df_y_pred_proba = pd.DataFrame(y_pred, columns = ['NO_prob', 'SI_prob'])\n",
    "        df_y_pred_proba['prediccion'] = np.where(df_y_pred_proba['NO_prob'].values <= umbral_corte, 'SI', 'NO')\n",
    "\n",
    "        metricas = amu.calculate_metrics(\n",
    "            y_true = y['es_popular'].values, \n",
    "            y_pred = df_y_pred_proba['prediccion'].values, \n",
    "            labels=['NO', 'SI']\n",
    "        )\n",
    "\n",
    "        return metricas\n",
    "\n",
    "    scores = cross_validate(clf, X, y, scoring=all_metrics, cv=cv)\n",
    "    resultados = {\n",
    "        'true negatives':          round(np.mean(scores['test_true negatives']), 2),\n",
    "        'true positives':          round(np.mean(scores['test_true positives']),2),\n",
    "        'false positives':         round(np.mean(scores['test_false positives']),2),\n",
    "        'false negatives':         round(np.mean(scores['test_false negatives']),2),\n",
    "        'accuracy':                round(np.mean(scores['test_accuracy']),2),\n",
    "        'recall':                  round(np.mean(scores['test_recall']),2),\n",
    "        'precision':               round(np.mean(scores['test_precision']),2),\n",
    "        'specificity':             round(np.mean(scores['test_specificity']),2),\n",
    "        'tasa falso positivo':     round(np.mean(scores['test_tasa falso positivo']),2),\n",
    "        'tasa falso negativo':     round(np.mean(scores['test_tasa falso negativo']),2),\n",
    "        'f1':                      round(np.mean(scores['test_f1']),2),\n",
    "        'metrica negocio':         round(np.mean(scores['test_metrica negocio']),2),\n",
    "        'metrica optima negocio':  round(np.mean(scores['test_metrica optima negocio']),2)\n",
    "    }\n",
    "    print([umbral_de_corte, max_depth, resultados['metrica negocio']])\n",
    "    return resultados['metrica negocio']\n",
    "\n",
    "resultados = cv_con_umbral_de_corte([0.9, 4])\n",
    "resultados"
   ]
  },
  {
   "cell_type": "code",
   "execution_count": 54,
   "id": "3eda3cef-bd16-454c-a4b7-305a3150461c",
   "metadata": {
    "tags": []
   },
   "outputs": [
    {
     "name": "stdout",
     "output_type": "stream",
     "text": [
      "[0.6464497544046984, 4, 78.29]\n",
      "[0.636254291682395, 4, 78.29]\n",
      "[0.5635290438458104, 5, 82.53]\n",
      "[0.756333230201127, 6, 90.21]\n",
      "[0.3879867542090215, 4, 78.29]\n",
      "[0.3875795161700688, 5, 82.54]\n",
      "[0.38639825838312913, 6, 90.2]\n",
      "[0.9348256858175489, 4, 78.29]\n",
      "[0.9296758886594835, 5, 82.53]\n",
      "[0.11971063444956678, 5, 82.53]\n",
      "[0.9406374817405783, 3, 63.29]\n",
      "[0.0, 3, 63.29]\n",
      "[1.0, 3, 63.29]\n",
      "[0.0, 3, 63.29]\n",
      "[1.0, 3, 63.29]\n",
      "[0.0, 3, 63.29]\n",
      "[1.0, 3, 63.29]\n",
      "[0.0, 3, 63.29]\n",
      "[1.0, 3, 63.29]\n",
      "[1.9011474657881781e-06, 3, 63.29]\n",
      "[1.0, 3, 63.29]\n",
      "[0.0, 3, 63.29]\n",
      "[1.0, 3, 63.29]\n",
      "[0.0, 3, 63.29]\n",
      "[1.0, 3, 63.29]\n",
      "[0.0, 3, 63.29]\n",
      "[1.0, 3, 63.29]\n",
      "[0.0, 3, 63.29]\n",
      "[1.0, 3, 63.29]\n",
      "[0.0, 3, 63.29]\n",
      "[1.0, 3, 63.29]\n",
      "[0.0, 3, 63.29]\n",
      "[1.0, 3, 63.29]\n",
      "[0.0, 3, 63.29]\n",
      "[1.0, 3, 63.29]\n",
      "[0.0, 3, 63.29]\n",
      "[1.0, 3, 63.29]\n",
      "[0.0, 3, 63.29]\n",
      "[1.0, 3, 63.29]\n",
      "[0.00012503817511270735, 3, 63.29]\n",
      "[0.999992613957533, 3, 63.29]\n",
      "[6.300284092117146e-05, 3, 63.29]\n",
      "[0.9996251558840376, 3, 63.29]\n",
      "[0.0, 3, 63.29]\n",
      "[0.9997777525708927, 3, 63.29]\n",
      "[0.0, 3, 63.29]\n",
      "[1.0, 3, 63.29]\n",
      "[2.8313583304018403e-05, 3, 63.29]\n",
      "[0.9992384149329059, 3, 63.29]\n",
      "[0.00014088630125472286, 3, 63.29]\n"
     ]
    }
   ],
   "source": [
    "import warnings\n",
    "warnings.filterwarnings('ignore')\n",
    "\n",
    "from skopt import gp_minimize\n",
    "from skopt.acquisition import gaussian_lcb\n",
    "from sklearn.gaussian_process import GaussianProcessRegressor\n",
    "from sklearn.gaussian_process.kernels import Matern\n",
    "from skopt.space import Categorical, Dimension, Integer, Real  # noqa\n",
    "\n",
    "space  = [\n",
    "    Real(0, 1, name='umbral_corte'),\n",
    "    Integer(3, 6, name = 'max_depth')\n",
    "]\n",
    "\n",
    "res = gp_minimize(cv_con_umbral_de_corte,                  # the function to minimize\n",
    "                  space,     # the bounds on each dimension of x\n",
    "                  n_initial_points = 10,\n",
    "                  #acq=\"LCB\",          # the acquisition function (optional)\n",
    "                  #base_estimator=gp,  # a GP estimator (optional)\n",
    "                  n_calls=50,         # the number of evaluations of f including at x0\n",
    "                  n_random_starts=10,  # the number of random initialization points\n",
    "                  random_state=777)"
   ]
  },
  {
   "cell_type": "code",
   "execution_count": 55,
   "id": "4ff9d02d-a7fe-4031-97fb-3dc5e5c6de92",
   "metadata": {
    "tags": []
   },
   "outputs": [
    {
     "data": {
      "text/plain": [
       "[[0.9406374817405783, 3], -63.29]"
      ]
     },
     "execution_count": 55,
     "metadata": {},
     "output_type": "execute_result"
    }
   ],
   "source": [
    "[res.x, -res.fun]"
   ]
  },
  {
   "cell_type": "markdown",
   "id": "a6bc58ff-6870-4331-9fc6-c173931ef7f2",
   "metadata": {},
   "source": [
    "### Utilizamos estos parámetros para crear un nuevo modelo"
   ]
  },
  {
   "cell_type": "code",
   "execution_count": 63,
   "id": "1d714760-308a-4b2b-936a-783dfd069c7b",
   "metadata": {
    "tags": []
   },
   "outputs": [],
   "source": [
    "umbral_de_corte = res.x[0]\n",
    "max_depth = res.x[1]\n",
    "#criterion='entropy'\n",
    "criterion='gini'\n",
    "#criterion='log_loss'\n",
    "\n",
    "clf = DecisionTreeClassifier(\n",
    "            criterion = criterion,\n",
    "            max_depth=max_depth\n",
    "        )\n",
    "_ = clf.fit(X_df_training_testing, Y_df_training_testing)\n"
   ]
  },
  {
   "cell_type": "markdown",
   "id": "134cb1f8-9c6d-4909-a1bb-5df19aed7a96",
   "metadata": {},
   "source": [
    "### Probamos los nuevos parámetros en validación"
   ]
  },
  {
   "cell_type": "code",
   "execution_count": 64,
   "id": "3f206c4a-d787-4302-a72b-4abb138fce08",
   "metadata": {
    "tags": []
   },
   "outputs": [
    {
     "name": "stdout",
     "output_type": "stream",
     "text": [
      "Current tracking uri: http://localhost:5000\n"
     ]
    }
   ],
   "source": [
    "host = 'http://localhost:5000'\n",
    "\n",
    "mlflow.set_tracking_uri(host)\n",
    "tracking_uri = mlflow.get_tracking_uri()\n",
    "\n",
    "print(\"Current tracking uri: {}\".format(tracking_uri))"
   ]
  },
  {
   "cell_type": "code",
   "execution_count": 66,
   "id": "85e3b52a-a254-40c8-9f8f-dc38eda6205f",
   "metadata": {
    "tags": []
   },
   "outputs": [
    {
     "data": {
      "text/plain": [
       "{'true negatives': 16171,\n",
       " 'true positives': 488,\n",
       " 'false positives': 2695,\n",
       " 'false negatives': 462,\n",
       " 'accuracy': 0.8407,\n",
       " 'recall': 0.5137,\n",
       " 'precision': 0.1533,\n",
       " 'specificity': 0.8572,\n",
       " 'tasa falso positivo': 0.1428,\n",
       " 'tasa falso negativo': 0.0245,\n",
       " 'f1': 0.2361,\n",
       " 'metrica negocio': 71.30601534113848,\n",
       " 'metrica optima negocio': 191.76423092450545,\n",
       " 'max_depth': 3,\n",
       " 'umbral_corte': 0.9}"
      ]
     },
     "execution_count": 66,
     "metadata": {},
     "output_type": "execute_result"
    }
   ],
   "source": [
    "nombre_experimento = 'AnalisisDeCervezas'\n",
    "mlflow.set_experiment(nombre_experimento)\n",
    "experiment = mlflow.get_experiment_by_name(nombre_experimento)\n",
    "\n",
    "y_validacion_pred = clf.predict_proba(X_validacion)\n",
    "\n",
    "df_y_validacion_pred_proba = pd.DataFrame(y_validacion_pred, columns = ['NO_prob', 'SI_prob'])\n",
    "df_y_validacion_pred_proba['prediccion'] = np.where(df_y_validacion_pred_proba['NO_prob'].values <= umbral_corte, 'SI', 'NO')\n",
    "\n",
    "metricas = amu.calculate_metrics(\n",
    "    y_true = Y_validacion['es_popular'].values, \n",
    "    y_pred = df_y_validacion_pred_proba['prediccion'].values, \n",
    "    labels=['NO', 'SI']\n",
    ")\n",
    "\n",
    "metricas['max_depth'] = max_depth\n",
    "metricas['umbral_corte'] = umbral_corte\n",
    "\n",
    "with mlflow.start_run(experiment_id=experiment.experiment_id, run_name=\"Sexta ejecución\", description='CV + max_depth + umbral_de_corte'):\n",
    "    mlflow.set_tag(\"dataset\", \"validacion\")\n",
    "    \n",
    "    mlflow.log_param(\"max_depth\", metricas['max_depth'])\n",
    "    mlflow.log_param(\"umbral_corte\", metricas['umbral_corte'])\n",
    "    \n",
    "    mlflow.log_metric(\"true negatives\", metricas['true negatives'])\n",
    "    mlflow.log_metric(\"true positives\", metricas['true positives'])\n",
    "    mlflow.log_metric(\"false positives\", metricas['false positives'])\n",
    "    mlflow.log_metric(\"false negatives\", metricas['false negatives'])\n",
    "    mlflow.log_metric(\"accuracy\", metricas['accuracy'])\n",
    "    mlflow.log_metric(\"recall\", metricas['recall'])\n",
    "    mlflow.log_metric(\"precision\", metricas['precision'])\n",
    "    mlflow.log_metric(\"specificity\", metricas['specificity'])\n",
    "    mlflow.log_metric(\"tasa falso positivo\", metricas['tasa falso positivo'])\n",
    "    mlflow.log_metric(\"tasa falso negativo\", metricas['tasa falso negativo'])\n",
    "    mlflow.log_metric(\"f1\", metricas['f1'])\n",
    "    mlflow.log_metric(\"metrica negocio\", metricas['metrica negocio'])\n",
    "    mlflow.log_metric(\"metrica optima negocio\", metricas['metrica optima negocio'])\n",
    "    \n",
    "    mlflow.sklearn.log_model(\n",
    "        sk_model=clf,\n",
    "        artifact_path=\"clasification_tree_model\"\n",
    "    )\n",
    "        \n",
    "    mlflow.end_run()\n",
    "    \n",
    "metricas"
   ]
  },
  {
   "cell_type": "code",
   "execution_count": null,
   "id": "22333502-8a8c-4fe5-91a9-c62c6918baf3",
   "metadata": {},
   "outputs": [],
   "source": []
  },
  {
   "cell_type": "code",
   "execution_count": null,
   "id": "b62a6879-3754-4cdb-92a6-79c8ff1fcc11",
   "metadata": {},
   "outputs": [],
   "source": []
  },
  {
   "cell_type": "code",
   "execution_count": null,
   "id": "b4bffdad-10d6-4682-a105-fbac5f7e4be9",
   "metadata": {},
   "outputs": [],
   "source": []
  },
  {
   "cell_type": "code",
   "execution_count": null,
   "id": "b58ecffa-46e4-48f9-8832-7ff49264ced1",
   "metadata": {},
   "outputs": [],
   "source": []
  },
  {
   "cell_type": "code",
   "execution_count": null,
   "id": "e6092f6c-0e05-42b1-998d-eccacd0e716b",
   "metadata": {},
   "outputs": [],
   "source": []
  },
  {
   "cell_type": "code",
   "execution_count": null,
   "id": "6bb46d4f-c027-47fe-91ce-0fde9ff07a14",
   "metadata": {},
   "outputs": [],
   "source": []
  }
 ],
 "metadata": {
  "kernelspec": {
   "display_name": "Python 3 (ipykernel)",
   "language": "python",
   "name": "python3"
  },
  "language_info": {
   "codemirror_mode": {
    "name": "ipython",
    "version": 3
   },
   "file_extension": ".py",
   "mimetype": "text/x-python",
   "name": "python",
   "nbconvert_exporter": "python",
   "pygments_lexer": "ipython3",
   "version": "3.9.16"
  }
 },
 "nbformat": 4,
 "nbformat_minor": 5
}
