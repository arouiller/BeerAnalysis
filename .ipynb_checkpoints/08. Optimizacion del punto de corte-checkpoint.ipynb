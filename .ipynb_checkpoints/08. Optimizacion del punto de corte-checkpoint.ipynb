{
 "cells": [
  {
   "cell_type": "markdown",
   "id": "30332897-7eaf-462e-b73c-751f9614bce3",
   "metadata": {
    "tags": []
   },
   "source": [
    "## Importando paquetes necesarios"
   ]
  },
  {
   "cell_type": "code",
   "execution_count": 1,
   "id": "2a1530cc-481e-4d1a-8a60-693577d7f6b6",
   "metadata": {
    "tags": []
   },
   "outputs": [],
   "source": [
    "import pandas as pd\n",
    "import numpy as np\n",
    "import pydotplus\n",
    "\n",
    "import matplotlib.pyplot as plt\n",
    "import seaborn as sns\n",
    "\n",
    "from sklearn.model_selection import train_test_split\n",
    "from sklearn.metrics import ConfusionMatrixDisplay\n",
    "from sklearn.metrics import confusion_matrix\n",
    "from sklearn.tree import export_graphviz\n",
    "\n",
    "from sklearn.tree import DecisionTreeClassifier\n",
    "\n",
    "import mlflow\n",
    "from mlflow import log_metric, log_param, log_params, log_artifacts\n",
    "\n",
    "from IPython.display import Image  \n",
    "\n",
    "import alejandro_model_utils as amu\n",
    "import alejandro_graphviz_tools as agt\n",
    "import alejandro_tree_utils as atu"
   ]
  },
  {
   "cell_type": "markdown",
   "id": "39462cb7-47aa-4db7-aebe-90ba81a77c38",
   "metadata": {
    "tags": []
   },
   "source": [
    "# Preparando nuestro primer modelo"
   ]
  },
  {
   "cell_type": "markdown",
   "id": "521c0be0-a693-4bcd-9eb0-3ee15e3ca3eb",
   "metadata": {},
   "source": [
    "## Cargamos nuestros dataset"
   ]
  },
  {
   "cell_type": "code",
   "execution_count": 2,
   "id": "ed045b71-c7d5-44fd-9a28-4cedbbde4fa8",
   "metadata": {},
   "outputs": [
    {
     "data": {
      "text/html": [
       "<div>\n",
       "<style scoped>\n",
       "    .dataframe tbody tr th:only-of-type {\n",
       "        vertical-align: middle;\n",
       "    }\n",
       "\n",
       "    .dataframe tbody tr th {\n",
       "        vertical-align: top;\n",
       "    }\n",
       "\n",
       "    .dataframe thead th {\n",
       "        text-align: right;\n",
       "    }\n",
       "</style>\n",
       "<table border=\"1\" class=\"dataframe\">\n",
       "  <thead>\n",
       "    <tr style=\"text-align: right;\">\n",
       "      <th></th>\n",
       "      <th>beer_abv</th>\n",
       "      <th>review_aroma</th>\n",
       "      <th>review_appearance</th>\n",
       "      <th>review_taste</th>\n",
       "      <th>review_overall</th>\n",
       "      <th>review_palate</th>\n",
       "      <th>es_popular</th>\n",
       "    </tr>\n",
       "  </thead>\n",
       "  <tbody>\n",
       "    <tr>\n",
       "      <th>0</th>\n",
       "      <td>8.2</td>\n",
       "      <td>4.500000</td>\n",
       "      <td>4.25</td>\n",
       "      <td>4.500000</td>\n",
       "      <td>4.50000</td>\n",
       "      <td>4.500000</td>\n",
       "      <td>NO</td>\n",
       "    </tr>\n",
       "    <tr>\n",
       "      <th>1</th>\n",
       "      <td>NaN</td>\n",
       "      <td>3.375000</td>\n",
       "      <td>3.50</td>\n",
       "      <td>3.250000</td>\n",
       "      <td>3.62500</td>\n",
       "      <td>3.250000</td>\n",
       "      <td>NO</td>\n",
       "    </tr>\n",
       "    <tr>\n",
       "      <th>2</th>\n",
       "      <td>4.2</td>\n",
       "      <td>3.391304</td>\n",
       "      <td>3.50</td>\n",
       "      <td>3.565217</td>\n",
       "      <td>3.76087</td>\n",
       "      <td>3.434783</td>\n",
       "      <td>NO</td>\n",
       "    </tr>\n",
       "    <tr>\n",
       "      <th>3</th>\n",
       "      <td>NaN</td>\n",
       "      <td>3.500000</td>\n",
       "      <td>3.50</td>\n",
       "      <td>4.000000</td>\n",
       "      <td>3.50000</td>\n",
       "      <td>3.500000</td>\n",
       "      <td>NO</td>\n",
       "    </tr>\n",
       "    <tr>\n",
       "      <th>4</th>\n",
       "      <td>5.0</td>\n",
       "      <td>2.750000</td>\n",
       "      <td>3.50</td>\n",
       "      <td>3.000000</td>\n",
       "      <td>3.00000</td>\n",
       "      <td>3.500000</td>\n",
       "      <td>NO</td>\n",
       "    </tr>\n",
       "  </tbody>\n",
       "</table>\n",
       "</div>"
      ],
      "text/plain": [
       "   beer_abv  review_aroma  review_appearance  review_taste  review_overall   \n",
       "0       8.2      4.500000               4.25      4.500000         4.50000  \\\n",
       "1       NaN      3.375000               3.50      3.250000         3.62500   \n",
       "2       4.2      3.391304               3.50      3.565217         3.76087   \n",
       "3       NaN      3.500000               3.50      4.000000         3.50000   \n",
       "4       5.0      2.750000               3.50      3.000000         3.00000   \n",
       "\n",
       "   review_palate es_popular  \n",
       "0       4.500000         NO  \n",
       "1       3.250000         NO  \n",
       "2       3.434783         NO  \n",
       "3       3.500000         NO  \n",
       "4       3.500000         NO  "
      ]
     },
     "execution_count": 2,
     "metadata": {},
     "output_type": "execute_result"
    }
   ],
   "source": [
    "file_cervezas_unicas_resumen_valores_con_clase_training = 'dataset/cervezas_unicas_resumen_valores_con_clase_train.csv'\n",
    "file_cervezas_unicas_resumen_valores_con_clase_validacion = 'dataset/cervezas_unicas_resumen_valores_con_clase_validation.csv'\n",
    "\n",
    "campos = ['beer_abv', 'review_aroma', 'review_appearance', 'review_taste', 'review_overall', 'review_palate', 'es_popular']\n",
    "\n",
    "df_training_testing = pd.read_csv(file_cervezas_unicas_resumen_valores_con_clase_training)\n",
    "df_validacion = pd.read_csv(file_cervezas_unicas_resumen_valores_con_clase_validacion)\n",
    "\n",
    "df_training_testing = df_training_testing.loc[:, campos]\n",
    "df_validacion = df_validacion.loc[:, campos]\n",
    "\n",
    "df_training_testing.head()"
   ]
  },
  {
   "cell_type": "markdown",
   "id": "2695a7d2-cbd7-4521-a4f0-66b39861cbc4",
   "metadata": {},
   "source": [
    "## Separamos en training y testing"
   ]
  },
  {
   "cell_type": "code",
   "execution_count": 3,
   "id": "1109ae17-3285-47dd-a8c8-608d65f68f8e",
   "metadata": {
    "tags": []
   },
   "outputs": [],
   "source": [
    "random_state = 1\n",
    "test_size = 0.3\n",
    "\n",
    "atributos = ['beer_abv', 'review_aroma', 'review_appearance', 'review_taste', 'review_overall', 'review_palate']\n",
    "clase = ['es_popular']\n",
    "\n",
    "X_df_training_testing = df_training_testing.loc[:, atributos]\n",
    "Y_df_training_testing = df_training_testing.loc[:, clase]\n",
    "\n",
    "X_train, X_test, y_train, y_test = train_test_split(\n",
    "    X_df_training_testing, \n",
    "    Y_df_training_testing, \n",
    "    test_size=test_size, \n",
    "    random_state=random_state\n",
    ")"
   ]
  },
  {
   "cell_type": "markdown",
   "id": "72986fd7-057e-4515-b16a-cc2ff0234b5c",
   "metadata": {},
   "source": [
    "### Tambien abrimos en X e Y el dataset de validacion"
   ]
  },
  {
   "cell_type": "code",
   "execution_count": 4,
   "id": "5966e938-0962-4d32-98dc-e3ad12b5873b",
   "metadata": {
    "tags": []
   },
   "outputs": [],
   "source": [
    "X_validacion = df_validacion.loc[:, atributos]\n",
    "Y_validacion = df_validacion.loc[:, clase]"
   ]
  },
  {
   "cell_type": "markdown",
   "id": "4723c646-2160-4518-a5ae-9e0599ff94f6",
   "metadata": {},
   "source": [
    "## Generamos nuestro primer modelo"
   ]
  },
  {
   "cell_type": "markdown",
   "id": "1e618de0-dab4-4562-ac37-3accecaa858d",
   "metadata": {},
   "source": [
    "### El algoritmo no acepta valores nulos de variables"
   ]
  },
  {
   "cell_type": "code",
   "execution_count": 5,
   "id": "fff769e0-cf25-4ab2-bb4a-0685c8e6f8d9",
   "metadata": {
    "tags": []
   },
   "outputs": [],
   "source": [
    "X_train = amu.trasform_dataframe(X_train, [amu.transform_NaN_beerabv])\n",
    "X_validacion = amu.trasform_dataframe(X_validacion, [amu.transform_NaN_beerabv])\n",
    "X_test = amu.trasform_dataframe(X_test, [amu.transform_NaN_beerabv])"
   ]
  },
  {
   "cell_type": "markdown",
   "id": "c8067575-c294-4a29-a3cd-e60f9a8cfb0a",
   "metadata": {},
   "source": [
    "### Modelo con el nuevo dataset"
   ]
  },
  {
   "cell_type": "code",
   "execution_count": 6,
   "id": "70070f66-d9aa-4309-b999-1d6541c89546",
   "metadata": {
    "tags": []
   },
   "outputs": [],
   "source": [
    "max_depth = 4\n",
    "#criterion='entropy'\n",
    "criterion='gini'\n",
    "#criterion='log_loss'\n",
    "clf = DecisionTreeClassifier(\n",
    "            criterion = criterion,\n",
    "            max_depth=max_depth\n",
    "        )\n",
    "clf.fit(X_train, y_train)\n",
    "\n",
    "clf_ = DecisionTreeClassifier(\n",
    "            max_depth=max_depth\n",
    "        )\n",
    "_ = clf_.fit(X_train, y_train)\n"
   ]
  },
  {
   "cell_type": "code",
   "execution_count": 25,
   "id": "ceac01b7-5a45-4f5b-aa88-1789bb7cd1f1",
   "metadata": {
    "tags": []
   },
   "outputs": [
    {
     "data": {
      "text/plain": [
       "[[0.0, -0.014418571119602047],\n",
       " [0.1, -0.014418571119602047],\n",
       " [0.2, -0.014418571119602047],\n",
       " [0.3, -0.014418571119602047],\n",
       " [0.4, 3.258597073030063],\n",
       " [0.5, 3.258597073030063],\n",
       " [0.6, 3.258597073030063],\n",
       " [0.7, 3.258597073030063],\n",
       " [0.8, 72.33797130704347],\n",
       " [0.9, 80.47004541849903],\n",
       " [1, 1.9609256722658785]]"
      ]
     },
     "execution_count": 25,
     "metadata": {},
     "output_type": "execute_result"
    }
   ],
   "source": [
    "resultados = []\n",
    "\n",
    "y_test_pred = clf.predict_proba(X_test)\n",
    "df_y_test_pred_proba = pd.DataFrame(y_test_pred, columns = ['NO_prob', 'SI_prob'])\n",
    "\n",
    "\n",
    "\n",
    "for umbral_corte in [0.0, 0.1, 0.2, 0.3, 0.4, 0.5, 0.6, 0.7, 0.8, 0.9, 1]:\n",
    "    resultado = amu.calculate_metrics(\n",
    "        y_true=y_test['es_popular'].values, \n",
    "        y_pred = amu.evaluar_corte(df_y_test_pred_proba['NO_prob'].values, umbral_corte, 'SI', 'NO'), \n",
    "        labels = ['NO', 'SI'])\n",
    "    resultados.append([umbral_corte, resultado['metrica negocio']])\n",
    "    \n",
    "resultados"
   ]
  },
  {
   "cell_type": "code",
   "execution_count": 27,
   "id": "b728ee95-301d-490a-bb1d-534128a65211",
   "metadata": {},
   "outputs": [
    {
     "data": {
      "image/png": "[encoded data removed]",
      "text/plain": [
       "<Figure size 640x480 with 1 Axes>"
      ]
     },
     "metadata": {},
     "output_type": "display_data"
    }
   ],
   "source": [
    "sns.set_style(\"ticks\",{'axes.grid' : True})\n",
    "\n",
    "chart_df = pd.DataFrame(data = resultados, columns=['x', 'y'])\n",
    "_ = sns.lineplot(data=chart_df, x=\"x\", y=\"y\")"
   ]
  },
  {
   "cell_type": "code",
   "execution_count": 8,
   "id": "8dec7d13-0abc-497a-ae7a-3ca173f5fee4",
   "metadata": {
    "tags": []
   },
   "outputs": [],
   "source": [
    "def f(umbral_corte):\n",
    "    resultado = amu.calculate_metrics(\n",
    "        y_true=y_test['es_popular'].values, \n",
    "        y_pred = amu.evaluar_corte(df_y_test_pred_proba['NO_prob'].values, umbral_corte, 'SI', 'NO'), \n",
    "        labels = ['NO', 'SI'])\n",
    "    print([umbral_corte, resultado['metrica negocio']])\n",
    "    return -resultado['metrica negocio']"
   ]
  },
  {
   "cell_type": "code",
   "execution_count": 9,
   "id": "c8e4385a-150a-40f7-9606-5cde6122e8a6",
   "metadata": {
    "tags": []
   },
   "outputs": [
    {
     "name": "stdout",
     "output_type": "stream",
     "text": [
      "[[0.0], -0.014418571119602047]\n",
      "[[0.1], -0.014418571119602047]\n",
      "[[0.2], -0.014418571119602047]\n",
      "[[0.3], -0.014418571119602047]\n",
      "[[0.4], 3.258597073030063]\n",
      "[[0.5], 3.258597073030063]\n",
      "[[0.6], 3.258597073030063]\n",
      "[[0.7], 3.258597073030063]\n",
      "[[0.8], 72.33797130704347]\n",
      "[[0.9], 80.47004541849903]\n",
      "[[1.0], 1.9609256722658785]\n",
      "[[0.854154260505501], 80.47004541849903]\n",
      "[[0.8631351011321308], 80.47004541849903]\n",
      "[[0.8871365393563192], 80.47004541849903]\n",
      "[[0.8338928108342679], 80.47004541849903]\n",
      "[[0.8421706954123869], 80.47004541849903]\n",
      "[[0.8939334360310776], 80.47004541849903]\n",
      "[[0.874647471341251], 80.47004541849903]\n",
      "[[0.8403177871823913], 80.47004541849903]\n",
      "[[0.8939423519372082], 80.47004541849903]\n",
      "[[0.8940363212127287], 80.47004541849903]\n",
      "[[0.8400060367725044], 80.47004541849903]\n",
      "[[0.8684446670211564], 80.47004541849903]\n",
      "[[0.8940054644693094], 80.47004541849903]\n",
      "[[0.8398030659990581], 80.47004541849903]\n",
      "[[0.8603178447126861], 80.47004541849903]\n",
      "[[0.8478714664579822], 80.47004541849903]\n",
      "[[0.8798966930674202], 80.47004541849903]\n",
      "[[0.8934028737407171], 80.47004541849903]\n",
      "[[0.8695416286932846], 80.47004541849903]\n",
      "[[0.83925381881493], 80.47004541849903]\n",
      "[[0.8940757252900405], 80.47004541849903]\n",
      "[[0.8397015742244313], 80.47004541849903]\n",
      "[[0.8585892270100658], 80.47004541849903]\n",
      "[[0.8680317499787751], 80.47004541849903]\n",
      "[[0.882896371333144], 80.47004541849903]\n",
      "[[0.8468406907607174], 80.47004541849903]\n",
      "[[0.8937985203885029], 80.47004541849903]\n",
      "[[0.8747737011085219], 80.47004541849903]\n",
      "[[0.8389321124604102], 80.47004541849903]\n",
      "[[0.8638334113518447], 80.47004541849903]\n",
      "[[0.8959735004482949], 80.47004541849903]\n",
      "[[0.8892185287445401], 80.47004541849903]\n",
      "[[0.8534565560705863], 80.47004541849903]\n",
      "[[0.8410543579889683], 80.47004541849903]\n",
      "[[0.8749929152964137], 80.47004541849903]\n",
      "[[0.8378146763176245], 80.47004541849903]\n",
      "[[0.8955225007604644], 80.47004541849903]\n",
      "[[0.8647130661020737], 80.47004541849903]\n",
      "[[0.8439833228904214], 80.47004541849903]\n"
     ]
    }
   ],
   "source": [
    "from skopt import gp_minimize\n",
    "from skopt.acquisition import gaussian_lcb\n",
    "from sklearn.gaussian_process import GaussianProcessRegressor\n",
    "from sklearn.gaussian_process.kernels import Matern\n",
    "\n",
    "res = gp_minimize(f,                  # the function to minimize\n",
    "                  [(0.0, 1.0)],      # the bounds on each dimension of x\n",
    "                  x0=[[0.0], [0.1], [0.2], [0.3], [0.4], [0.5], [0.6], [0.7], [0.8], [0.9], [1.0]],            # the starting point\n",
    "                  #acq=\"LCB\",          # the acquisition function (optional)\n",
    "                  #base_estimator=gp,  # a GP estimator (optional)\n",
    "                  n_calls=50,         # the number of evaluations of f including at x0\n",
    "                  n_random_starts=0,  # the number of random initialization points\n",
    "                  random_state=777)"
   ]
  },
  {
   "cell_type": "code",
   "execution_count": 10,
   "id": "8b80e56c-7563-42ae-853f-d29d6beab625",
   "metadata": {
    "tags": []
   },
   "outputs": [
    {
     "data": {
      "text/plain": [
       "<Axes: xlabel='x', ylabel='y'>"
      ]
     },
     "execution_count": 10,
     "metadata": {},
     "output_type": "execute_result"
    },
    {
     "data": {
      "image/png": "[encoded data removed]",
      "text/plain": [
       "<Figure size 640x480 with 1 Axes>"
      ]
     },
     "metadata": {},
     "output_type": "display_data"
    }
   ],
   "source": [
    "sns.set_style(\"ticks\",{'axes.grid' : True})\n",
    "\n",
    "chart_df = pd.DataFrame(data = np.array(res.x_iters).reshape(1, -1)[0], columns=['x'])\n",
    "chart_df['y'] = -res.func_vals \n",
    "sns.lineplot(data=chart_df, x=\"x\", y=\"y\")"
   ]
  },
  {
   "cell_type": "code",
   "execution_count": 11,
   "id": "f73cf2ff-d208-423b-9356-9267b2c7d0e1",
   "metadata": {
    "tags": []
   },
   "outputs": [
    {
     "data": {
      "text/plain": [
       "[(0.7, 1.0)]"
      ]
     },
     "execution_count": 11,
     "metadata": {},
     "output_type": "execute_result"
    },
    {
     "data": {
      "image/png": "[encoded data removed]",
      "text/plain": [
       "<Figure size 640x480 with 1 Axes>"
      ]
     },
     "metadata": {},
     "output_type": "display_data"
    }
   ],
   "source": [
    "sns.set_style(\"ticks\",{'axes.grid' : True})\n",
    "\n",
    "g1 = sns.lineplot(data=chart_df, x=\"x\", y=\"y\")\n",
    "g1.set(xlim=(0.7, 1))\n",
    "#g1.set(ylim=(2400000, 2700000))"
   ]
  },
  {
   "cell_type": "code",
   "execution_count": 12,
   "id": "8ad11037-a05f-4c0e-adf9-381a9f198521",
   "metadata": {
    "tags": []
   },
   "outputs": [
    {
     "data": {
      "text/plain": [
       "[(0.8, 0.95)]"
      ]
     },
     "execution_count": 12,
     "metadata": {},
     "output_type": "execute_result"
    },
    {
     "data": {
      "image/png": "[encoded data removed]",
      "text/plain": [
       "<Figure size 640x480 with 1 Axes>"
      ]
     },
     "metadata": {},
     "output_type": "display_data"
    }
   ],
   "source": [
    "sns.set_style(\"ticks\",{'axes.grid' : True})\n",
    "\n",
    "g1 = sns.lineplot(data=chart_df, x=\"x\", y=\"y\")\n",
    "g1.set(xlim=(0.8, 0.95))\n",
    "#g1.set(ylim=(2400000, 2700000))"
   ]
  },
  {
   "cell_type": "code",
   "execution_count": 13,
   "id": "e7f48721-8a56-4c0c-9a74-ffc43c5e2d2b",
   "metadata": {
    "tags": []
   },
   "outputs": [
    {
     "data": {
      "text/plain": [
       "[[0.9], 80.47004541849903]"
      ]
     },
     "execution_count": 13,
     "metadata": {},
     "output_type": "execute_result"
    }
   ],
   "source": [
    "[res.x, -res.fun]"
   ]
  },
  {
   "cell_type": "markdown",
   "id": "1cdf45f8-3043-4874-b07e-5c2e3b5803a4",
   "metadata": {},
   "source": [
    "### Probamos el umbral en testing (ya lo probamos.. pero lo vamos a registrar)"
   ]
  },
  {
   "cell_type": "code",
   "execution_count": 41,
   "id": "ca95fa48-da0d-48fa-99f7-b18dbfd7545b",
   "metadata": {
    "tags": []
   },
   "outputs": [
    {
     "name": "stdout",
     "output_type": "stream",
     "text": [
      "Current tracking uri: http://localhost:5000\n"
     ]
    }
   ],
   "source": [
    "host = 'http://localhost:5000'\n",
    "\n",
    "mlflow.set_tracking_uri(host)\n",
    "tracking_uri = mlflow.get_tracking_uri()\n",
    "\n",
    "print(\"Current tracking uri: {}\".format(tracking_uri))"
   ]
  },
  {
   "cell_type": "code",
   "execution_count": 44,
   "id": "54111087-14db-4b73-a7c3-f0e106d2a093",
   "metadata": {
    "tags": []
   },
   "outputs": [
    {
     "name": "stderr",
     "output_type": "stream",
     "text": [
      "C:\\Users\\arouiller\\AppData\\Local\\miniconda3\\envs\\python_3_9_beer_analysis\\lib\\site-packages\\_distutils_hack\\__init__.py:33: UserWarning: Setuptools is replacing distutils.\n",
      "  warnings.warn(\"Setuptools is replacing distutils.\")\n"
     ]
    },
    {
     "data": {
      "text/plain": [
       "{'true negatives': 12165,\n",
       " 'true positives': 331,\n",
       " 'false positives': 1039,\n",
       " 'false negatives': 336,\n",
       " 'accuracy': 0.9009,\n",
       " 'recall': 0.4963,\n",
       " 'precision': 0.2416,\n",
       " 'specificity': 0.9213,\n",
       " 'tasa falso positivo': 0.0787,\n",
       " 'tasa falso negativo': 0.0254,\n",
       " 'f1': 0.325,\n",
       " 'metrica negocio': 80.47004541849903,\n",
       " 'metrica optima negocio': 192.3437387354913,\n",
       " 'max_depth': 4,\n",
       " 'umbral_corte': [0.9]}"
      ]
     },
     "execution_count": 44,
     "metadata": {},
     "output_type": "execute_result"
    }
   ],
   "source": [
    "nombre_experimento = 'AnalisisDeCervezas'\n",
    "mlflow.set_experiment(nombre_experimento)\n",
    "experiment = mlflow.get_experiment_by_name(nombre_experimento)\n",
    "\n",
    "umbral_corte = res.x\n",
    "y_testing_pred = clf.predict_proba(X_test)\n",
    "\n",
    "df_y_testing_pred_proba = pd.DataFrame(y_testing_pred, columns = ['NO_prob', 'SI_prob'])\n",
    "df_y_testing_pred_proba['prediccion'] = np.where(df_y_testing_pred_proba['NO_prob'].values <= umbral_corte, 'SI', 'NO')\n",
    "\n",
    "metricas = amu.calculate_metrics(\n",
    "    y_true = y_test['es_popular'].values, \n",
    "    y_pred = df_y_testing_pred_proba['prediccion'].values, \n",
    "    labels=['NO', 'SI']\n",
    ")\n",
    "\n",
    "metricas['max_depth'] = max_depth\n",
    "metricas['umbral_corte'] = umbral_corte\n",
    "\n",
    "with mlflow.start_run(experiment_id=experiment.experiment_id, run_name=\"Quinta ejecución\", description='Optimización de punto de corte'):\n",
    "    mlflow.set_tag(\"dataset\", \"testing\")\n",
    "    \n",
    "    mlflow.log_param(\"max_depth\", metricas['max_depth'])\n",
    "    mlflow.log_param(\"umbral_corte\", metricas['umbral_corte'])\n",
    "    \n",
    "    mlflow.log_metric(\"true negatives\", metricas['true negatives'])\n",
    "    mlflow.log_metric(\"true positives\", metricas['true positives'])\n",
    "    mlflow.log_metric(\"false positives\", metricas['false positives'])\n",
    "    mlflow.log_metric(\"false negatives\", metricas['false negatives'])\n",
    "    mlflow.log_metric(\"accuracy\", metricas['accuracy'])\n",
    "    mlflow.log_metric(\"recall\", metricas['recall'])\n",
    "    mlflow.log_metric(\"precision\", metricas['precision'])\n",
    "    mlflow.log_metric(\"specificity\", metricas['specificity'])\n",
    "    mlflow.log_metric(\"tasa falso positivo\", metricas['tasa falso positivo'])\n",
    "    mlflow.log_metric(\"tasa falso negativo\", metricas['tasa falso negativo'])\n",
    "    mlflow.log_metric(\"f1\", metricas['f1'])\n",
    "    mlflow.log_metric(\"metrica negocio\", metricas['metrica negocio'])\n",
    "    mlflow.log_metric(\"metrica optima negocio\", metricas['metrica optima negocio'])\n",
    "    \n",
    "    mlflow.sklearn.log_model(\n",
    "        sk_model=clf,\n",
    "        artifact_path=\"clasification_tree_model\"\n",
    "    )\n",
    "        \n",
    "    mlflow.end_run()\n",
    "    \n",
    "metricas"
   ]
  },
  {
   "cell_type": "markdown",
   "id": "adf01df5-c98d-4cd6-9dc5-9184e6cf2950",
   "metadata": {},
   "source": [
    "### Probamos el umbral de corte en validacion"
   ]
  },
  {
   "cell_type": "code",
   "execution_count": 45,
   "id": "bc064484-344a-4271-8f73-f28a812a45c4",
   "metadata": {
    "tags": []
   },
   "outputs": [
    {
     "data": {
      "text/plain": [
       "{'true negatives': 17380,\n",
       " 'true positives': 436,\n",
       " 'false positives': 1486,\n",
       " 'false negatives': 514,\n",
       " 'accuracy': 0.8991,\n",
       " 'recall': 0.4589,\n",
       " 'precision': 0.2268,\n",
       " 'specificity': 0.9212,\n",
       " 'tasa falso positivo': 0.0788,\n",
       " 'tasa falso negativo': 0.0272,\n",
       " 'f1': 0.3036,\n",
       " 'metrica negocio': 73.01170771094066,\n",
       " 'metrica optima negocio': 191.76423092450545,\n",
       " 'max_depth': 4,\n",
       " 'umbral_corte': [0.9]}"
      ]
     },
     "execution_count": 45,
     "metadata": {},
     "output_type": "execute_result"
    }
   ],
   "source": [
    "nombre_experimento = 'AnalisisDeCervezas'\n",
    "mlflow.set_experiment(nombre_experimento)\n",
    "experiment = mlflow.get_experiment_by_name(nombre_experimento)\n",
    "\n",
    "umbral_corte = res.x\n",
    "y_validacion_pred = clf.predict_proba(X_validacion)\n",
    "\n",
    "df_y_validacion_pred_proba = pd.DataFrame(y_validacion_pred, columns = ['NO_prob', 'SI_prob'])\n",
    "df_y_validacion_pred_proba['prediccion'] = np.where(df_y_validacion_pred_proba['NO_prob'].values <= umbral_corte, 'SI', 'NO')\n",
    "\n",
    "metricas = amu.calculate_metrics(\n",
    "    y_true = Y_validacion['es_popular'].values, \n",
    "    y_pred = df_y_validacion_pred_proba['prediccion'].values, \n",
    "    labels=['NO', 'SI']\n",
    ")\n",
    "\n",
    "metricas['max_depth'] = max_depth\n",
    "metricas['umbral_corte'] = umbral_corte\n",
    "\n",
    "with mlflow.start_run(experiment_id=experiment.experiment_id, run_name=\"Quinta ejecución\", description='Optimización de punto e corte'):\n",
    "    mlflow.set_tag(\"dataset\", \"validacion\")\n",
    "    \n",
    "    mlflow.log_param(\"max_depth\", metricas['max_depth'])\n",
    "    mlflow.log_param(\"umbral_corte\", metricas['umbral_corte'])\n",
    "    \n",
    "    mlflow.log_metric(\"true negatives\", metricas['true negatives'])\n",
    "    mlflow.log_metric(\"true positives\", metricas['true positives'])\n",
    "    mlflow.log_metric(\"false positives\", metricas['false positives'])\n",
    "    mlflow.log_metric(\"false negatives\", metricas['false negatives'])\n",
    "    mlflow.log_metric(\"accuracy\", metricas['accuracy'])\n",
    "    mlflow.log_metric(\"recall\", metricas['recall'])\n",
    "    mlflow.log_metric(\"precision\", metricas['precision'])\n",
    "    mlflow.log_metric(\"specificity\", metricas['specificity'])\n",
    "    mlflow.log_metric(\"tasa falso positivo\", metricas['tasa falso positivo'])\n",
    "    mlflow.log_metric(\"tasa falso negativo\", metricas['tasa falso negativo'])\n",
    "    mlflow.log_metric(\"f1\", metricas['f1'])\n",
    "    mlflow.log_metric(\"metrica negocio\", metricas['metrica negocio'])\n",
    "    mlflow.log_metric(\"metrica optima negocio\", metricas['metrica optima negocio'])\n",
    "    \n",
    "    mlflow.sklearn.log_model(\n",
    "        sk_model=clf,\n",
    "        artifact_path=\"clasification_tree_model\"\n",
    "    )\n",
    "        \n",
    "    mlflow.end_run()\n",
    "    \n",
    "metricas"
   ]
  }
 ],
 "metadata": {
  "kernelspec": {
   "display_name": "Python 3 (ipykernel)",
   "language": "python",
   "name": "python3"
  },
  "language_info": {
   "codemirror_mode": {
    "name": "ipython",
    "version": 3
   },
   "file_extension": ".py",
   "mimetype": "text/x-python",
   "name": "python",
   "nbconvert_exporter": "python",
   "pygments_lexer": "ipython3",
   "version": "3.9.16"
  }
 },
 "nbformat": 4,
 "nbformat_minor": 5
}
