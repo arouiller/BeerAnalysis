{
 "cells": [
  {
   "cell_type": "markdown",
   "id": "30332897-7eaf-462e-b73c-751f9614bce3",
   "metadata": {
    "tags": []
   },
   "source": [
    "## Importando paquetes necesarios"
   ]
  },
  {
   "cell_type": "code",
   "execution_count": 3,
   "id": "2a1530cc-481e-4d1a-8a60-693577d7f6b6",
   "metadata": {
    "tags": []
   },
   "outputs": [],
   "source": [
    "import pandas as pd\n",
    "import numpy as np\n",
    "import pydotplus\n",
    "\n",
    "import matplotlib.pyplot as plt\n",
    "\n",
    "from sklearn.model_selection import train_test_split\n",
    "from sklearn.metrics import ConfusionMatrixDisplay\n",
    "from sklearn.metrics import confusion_matrix\n",
    "\n",
    "from sklearn.tree import DecisionTreeClassifier\n",
    "\n",
    "import mlflow\n",
    "from mlflow import log_metric, log_param, log_params, log_artifacts\n",
    "\n",
    "from IPython.display import Image  \n",
    "\n",
    "import alejandro_model_utils as amu\n",
    "import alejandro_graphviz_tools as agt\n",
    "import alejandro_tree_utils as atu"
   ]
  },
  {
   "cell_type": "markdown",
   "id": "39462cb7-47aa-4db7-aebe-90ba81a77c38",
   "metadata": {
    "tags": []
   },
   "source": [
    "# Preparando nuestro primer modelo"
   ]
  },
  {
   "cell_type": "markdown",
   "id": "521c0be0-a693-4bcd-9eb0-3ee15e3ca3eb",
   "metadata": {},
   "source": [
    "## Cargamos nuestros dataset"
   ]
  },
  {
   "cell_type": "code",
   "execution_count": 4,
   "id": "ed045b71-c7d5-44fd-9a28-4cedbbde4fa8",
   "metadata": {},
   "outputs": [
    {
     "data": {
      "text/html": [
       "<div>\n",
       "<style scoped>\n",
       "    .dataframe tbody tr th:only-of-type {\n",
       "        vertical-align: middle;\n",
       "    }\n",
       "\n",
       "    .dataframe tbody tr th {\n",
       "        vertical-align: top;\n",
       "    }\n",
       "\n",
       "    .dataframe thead th {\n",
       "        text-align: right;\n",
       "    }\n",
       "</style>\n",
       "<table border=\"1\" class=\"dataframe\">\n",
       "  <thead>\n",
       "    <tr style=\"text-align: right;\">\n",
       "      <th></th>\n",
       "      <th>beer_abv</th>\n",
       "      <th>review_aroma</th>\n",
       "      <th>review_appearance</th>\n",
       "      <th>review_taste</th>\n",
       "      <th>review_overall</th>\n",
       "      <th>review_palate</th>\n",
       "      <th>es_popular</th>\n",
       "    </tr>\n",
       "  </thead>\n",
       "  <tbody>\n",
       "    <tr>\n",
       "      <th>0</th>\n",
       "      <td>8.2</td>\n",
       "      <td>4.500000</td>\n",
       "      <td>4.25</td>\n",
       "      <td>4.500000</td>\n",
       "      <td>4.50000</td>\n",
       "      <td>4.500000</td>\n",
       "      <td>NO</td>\n",
       "    </tr>\n",
       "    <tr>\n",
       "      <th>1</th>\n",
       "      <td>NaN</td>\n",
       "      <td>3.375000</td>\n",
       "      <td>3.50</td>\n",
       "      <td>3.250000</td>\n",
       "      <td>3.62500</td>\n",
       "      <td>3.250000</td>\n",
       "      <td>NO</td>\n",
       "    </tr>\n",
       "    <tr>\n",
       "      <th>2</th>\n",
       "      <td>4.2</td>\n",
       "      <td>3.391304</td>\n",
       "      <td>3.50</td>\n",
       "      <td>3.565217</td>\n",
       "      <td>3.76087</td>\n",
       "      <td>3.434783</td>\n",
       "      <td>NO</td>\n",
       "    </tr>\n",
       "    <tr>\n",
       "      <th>3</th>\n",
       "      <td>NaN</td>\n",
       "      <td>3.500000</td>\n",
       "      <td>3.50</td>\n",
       "      <td>4.000000</td>\n",
       "      <td>3.50000</td>\n",
       "      <td>3.500000</td>\n",
       "      <td>NO</td>\n",
       "    </tr>\n",
       "    <tr>\n",
       "      <th>4</th>\n",
       "      <td>5.0</td>\n",
       "      <td>2.750000</td>\n",
       "      <td>3.50</td>\n",
       "      <td>3.000000</td>\n",
       "      <td>3.00000</td>\n",
       "      <td>3.500000</td>\n",
       "      <td>NO</td>\n",
       "    </tr>\n",
       "  </tbody>\n",
       "</table>\n",
       "</div>"
      ],
      "text/plain": [
       "   beer_abv  review_aroma  review_appearance  review_taste  review_overall   \n",
       "0       8.2      4.500000               4.25      4.500000         4.50000  \\\n",
       "1       NaN      3.375000               3.50      3.250000         3.62500   \n",
       "2       4.2      3.391304               3.50      3.565217         3.76087   \n",
       "3       NaN      3.500000               3.50      4.000000         3.50000   \n",
       "4       5.0      2.750000               3.50      3.000000         3.00000   \n",
       "\n",
       "   review_palate es_popular  \n",
       "0       4.500000         NO  \n",
       "1       3.250000         NO  \n",
       "2       3.434783         NO  \n",
       "3       3.500000         NO  \n",
       "4       3.500000         NO  "
      ]
     },
     "execution_count": 4,
     "metadata": {},
     "output_type": "execute_result"
    }
   ],
   "source": [
    "file_cervezas_unicas_resumen_valores_con_clase_training = 'dataset/cervezas_unicas_resumen_valores_con_clase_train.csv'\n",
    "file_cervezas_unicas_resumen_valores_con_clase_validacion = 'dataset/cervezas_unicas_resumen_valores_con_clase_validation.csv'\n",
    "\n",
    "campos = ['beer_abv', 'review_aroma', 'review_appearance', 'review_taste', 'review_overall', 'review_palate', 'es_popular']\n",
    "\n",
    "df_training_testing = pd.read_csv(file_cervezas_unicas_resumen_valores_con_clase_training)\n",
    "df_validacion = pd.read_csv(file_cervezas_unicas_resumen_valores_con_clase_validacion)\n",
    "\n",
    "df_training_testing = df_training_testing.loc[:, campos]\n",
    "df_validacion = df_validacion.loc[:, campos]\n",
    "\n",
    "df_training_testing.head()"
   ]
  },
  {
   "cell_type": "markdown",
   "id": "2695a7d2-cbd7-4521-a4f0-66b39861cbc4",
   "metadata": {},
   "source": [
    "## Separamos en training y testing"
   ]
  },
  {
   "cell_type": "code",
   "execution_count": 5,
   "id": "1109ae17-3285-47dd-a8c8-608d65f68f8e",
   "metadata": {
    "tags": []
   },
   "outputs": [],
   "source": [
    "random_state = 1\n",
    "test_size = 0.3\n",
    "\n",
    "atributos = ['beer_abv', 'review_aroma', 'review_appearance', 'review_taste', 'review_overall', 'review_palate']\n",
    "clase = ['es_popular']\n",
    "\n",
    "X_df_training_testing = df_training_testing.loc[:, atributos]\n",
    "Y_df_training_testing = df_training_testing.loc[:, clase]\n",
    "\n",
    "X_train, X_test, y_train, y_test = train_test_split(\n",
    "    X_df_training_testing, \n",
    "    Y_df_training_testing, \n",
    "    test_size=test_size, \n",
    "    random_state=random_state\n",
    ")"
   ]
  },
  {
   "cell_type": "markdown",
   "id": "72986fd7-057e-4515-b16a-cc2ff0234b5c",
   "metadata": {},
   "source": [
    "### Tambien abrimos en X e Y el dataset de validacion"
   ]
  },
  {
   "cell_type": "code",
   "execution_count": 6,
   "id": "5966e938-0962-4d32-98dc-e3ad12b5873b",
   "metadata": {
    "tags": []
   },
   "outputs": [],
   "source": [
    "X_validacion = df_validacion.loc[:, atributos]\n",
    "Y_validacion = df_validacion.loc[:, clase]"
   ]
  },
  {
   "cell_type": "markdown",
   "id": "4723c646-2160-4518-a5ae-9e0599ff94f6",
   "metadata": {},
   "source": [
    "## Generamos nuestro primer modelo"
   ]
  },
  {
   "cell_type": "code",
   "execution_count": 7,
   "id": "d97b35bc-8736-433b-958d-a3d98e009e47",
   "metadata": {
    "tags": []
   },
   "outputs": [
    {
     "ename": "ValueError",
     "evalue": "Input X contains NaN.\nDecisionTreeClassifier does not accept missing values encoded as NaN natively. For supervised learning, you might want to consider sklearn.ensemble.HistGradientBoostingClassifier and Regressor which accept missing values encoded as NaNs natively. Alternatively, it is possible to preprocess the data, for instance by using an imputer transformer in a pipeline or drop samples with missing values. See https://scikit-learn.org/stable/modules/impute.html You can find a list of all estimators that handle NaN values at the following page: https://scikit-learn.org/stable/modules/impute.html#estimators-that-handle-nan-values",
     "output_type": "error",
     "traceback": [
      "\u001b[1;31m---------------------------------------------------------------------------\u001b[0m",
      "\u001b[1;31mValueError\u001b[0m                                Traceback (most recent call last)",
      "Cell \u001b[1;32mIn[7], line 10\u001b[0m\n\u001b[0;32m      4\u001b[0m \u001b[38;5;66;03m#criterion='log_loss'\u001b[39;00m\n\u001b[0;32m      5\u001b[0m clf \u001b[38;5;241m=\u001b[39m DecisionTreeClassifier(\n\u001b[0;32m      6\u001b[0m             criterion \u001b[38;5;241m=\u001b[39m criterion,\n\u001b[0;32m      7\u001b[0m             max_depth\u001b[38;5;241m=\u001b[39mmax_depth,\n\u001b[0;32m      8\u001b[0m             random_state\u001b[38;5;241m=\u001b[39m\u001b[38;5;241m1\u001b[39m\n\u001b[0;32m      9\u001b[0m         )\n\u001b[1;32m---> 10\u001b[0m \u001b[43mclf\u001b[49m\u001b[38;5;241;43m.\u001b[39;49m\u001b[43mfit\u001b[49m\u001b[43m(\u001b[49m\u001b[43mX_train\u001b[49m\u001b[43m,\u001b[49m\u001b[43m \u001b[49m\u001b[43my_train\u001b[49m\u001b[43m)\u001b[49m\n\u001b[0;32m     12\u001b[0m clf_ \u001b[38;5;241m=\u001b[39m DecisionTreeClassifier(\n\u001b[0;32m     13\u001b[0m             max_depth\u001b[38;5;241m=\u001b[39mmax_depth\n\u001b[0;32m     14\u001b[0m         )\n\u001b[0;32m     15\u001b[0m _ \u001b[38;5;241m=\u001b[39m clf_\u001b[38;5;241m.\u001b[39mfit(X_train, y_train)\n",
      "File \u001b[1;32m~\\AppData\\Local\\miniconda3\\envs\\python_3_9_beer_analysis\\lib\\site-packages\\sklearn\\tree\\_classes.py:889\u001b[0m, in \u001b[0;36mDecisionTreeClassifier.fit\u001b[1;34m(self, X, y, sample_weight, check_input)\u001b[0m\n\u001b[0;32m    859\u001b[0m \u001b[38;5;28;01mdef\u001b[39;00m \u001b[38;5;21mfit\u001b[39m(\u001b[38;5;28mself\u001b[39m, X, y, sample_weight\u001b[38;5;241m=\u001b[39m\u001b[38;5;28;01mNone\u001b[39;00m, check_input\u001b[38;5;241m=\u001b[39m\u001b[38;5;28;01mTrue\u001b[39;00m):\n\u001b[0;32m    860\u001b[0m \u001b[38;5;250m    \u001b[39m\u001b[38;5;124;03m\"\"\"Build a decision tree classifier from the training set (X, y).\u001b[39;00m\n\u001b[0;32m    861\u001b[0m \n\u001b[0;32m    862\u001b[0m \u001b[38;5;124;03m    Parameters\u001b[39;00m\n\u001b[1;32m   (...)\u001b[0m\n\u001b[0;32m    886\u001b[0m \u001b[38;5;124;03m        Fitted estimator.\u001b[39;00m\n\u001b[0;32m    887\u001b[0m \u001b[38;5;124;03m    \"\"\"\u001b[39;00m\n\u001b[1;32m--> 889\u001b[0m     \u001b[38;5;28;43msuper\u001b[39;49m\u001b[43m(\u001b[49m\u001b[43m)\u001b[49m\u001b[38;5;241;43m.\u001b[39;49m\u001b[43mfit\u001b[49m\u001b[43m(\u001b[49m\n\u001b[0;32m    890\u001b[0m \u001b[43m        \u001b[49m\u001b[43mX\u001b[49m\u001b[43m,\u001b[49m\n\u001b[0;32m    891\u001b[0m \u001b[43m        \u001b[49m\u001b[43my\u001b[49m\u001b[43m,\u001b[49m\n\u001b[0;32m    892\u001b[0m \u001b[43m        \u001b[49m\u001b[43msample_weight\u001b[49m\u001b[38;5;241;43m=\u001b[39;49m\u001b[43msample_weight\u001b[49m\u001b[43m,\u001b[49m\n\u001b[0;32m    893\u001b[0m \u001b[43m        \u001b[49m\u001b[43mcheck_input\u001b[49m\u001b[38;5;241;43m=\u001b[39;49m\u001b[43mcheck_input\u001b[49m\u001b[43m,\u001b[49m\n\u001b[0;32m    894\u001b[0m \u001b[43m    \u001b[49m\u001b[43m)\u001b[49m\n\u001b[0;32m    895\u001b[0m     \u001b[38;5;28;01mreturn\u001b[39;00m \u001b[38;5;28mself\u001b[39m\n",
      "File \u001b[1;32m~\\AppData\\Local\\miniconda3\\envs\\python_3_9_beer_analysis\\lib\\site-packages\\sklearn\\tree\\_classes.py:186\u001b[0m, in \u001b[0;36mBaseDecisionTree.fit\u001b[1;34m(self, X, y, sample_weight, check_input)\u001b[0m\n\u001b[0;32m    184\u001b[0m check_X_params \u001b[38;5;241m=\u001b[39m \u001b[38;5;28mdict\u001b[39m(dtype\u001b[38;5;241m=\u001b[39mDTYPE, accept_sparse\u001b[38;5;241m=\u001b[39m\u001b[38;5;124m\"\u001b[39m\u001b[38;5;124mcsc\u001b[39m\u001b[38;5;124m\"\u001b[39m)\n\u001b[0;32m    185\u001b[0m check_y_params \u001b[38;5;241m=\u001b[39m \u001b[38;5;28mdict\u001b[39m(ensure_2d\u001b[38;5;241m=\u001b[39m\u001b[38;5;28;01mFalse\u001b[39;00m, dtype\u001b[38;5;241m=\u001b[39m\u001b[38;5;28;01mNone\u001b[39;00m)\n\u001b[1;32m--> 186\u001b[0m X, y \u001b[38;5;241m=\u001b[39m \u001b[38;5;28;43mself\u001b[39;49m\u001b[38;5;241;43m.\u001b[39;49m\u001b[43m_validate_data\u001b[49m\u001b[43m(\u001b[49m\n\u001b[0;32m    187\u001b[0m \u001b[43m    \u001b[49m\u001b[43mX\u001b[49m\u001b[43m,\u001b[49m\u001b[43m \u001b[49m\u001b[43my\u001b[49m\u001b[43m,\u001b[49m\u001b[43m \u001b[49m\u001b[43mvalidate_separately\u001b[49m\u001b[38;5;241;43m=\u001b[39;49m\u001b[43m(\u001b[49m\u001b[43mcheck_X_params\u001b[49m\u001b[43m,\u001b[49m\u001b[43m \u001b[49m\u001b[43mcheck_y_params\u001b[49m\u001b[43m)\u001b[49m\n\u001b[0;32m    188\u001b[0m \u001b[43m\u001b[49m\u001b[43m)\u001b[49m\n\u001b[0;32m    189\u001b[0m \u001b[38;5;28;01mif\u001b[39;00m issparse(X):\n\u001b[0;32m    190\u001b[0m     X\u001b[38;5;241m.\u001b[39msort_indices()\n",
      "File \u001b[1;32m~\\AppData\\Local\\miniconda3\\envs\\python_3_9_beer_analysis\\lib\\site-packages\\sklearn\\base.py:579\u001b[0m, in \u001b[0;36mBaseEstimator._validate_data\u001b[1;34m(self, X, y, reset, validate_separately, **check_params)\u001b[0m\n\u001b[0;32m    577\u001b[0m \u001b[38;5;28;01mif\u001b[39;00m \u001b[38;5;124m\"\u001b[39m\u001b[38;5;124mestimator\u001b[39m\u001b[38;5;124m\"\u001b[39m \u001b[38;5;129;01mnot\u001b[39;00m \u001b[38;5;129;01min\u001b[39;00m check_X_params:\n\u001b[0;32m    578\u001b[0m     check_X_params \u001b[38;5;241m=\u001b[39m {\u001b[38;5;241m*\u001b[39m\u001b[38;5;241m*\u001b[39mdefault_check_params, \u001b[38;5;241m*\u001b[39m\u001b[38;5;241m*\u001b[39mcheck_X_params}\n\u001b[1;32m--> 579\u001b[0m X \u001b[38;5;241m=\u001b[39m check_array(X, input_name\u001b[38;5;241m=\u001b[39m\u001b[38;5;124m\"\u001b[39m\u001b[38;5;124mX\u001b[39m\u001b[38;5;124m\"\u001b[39m, \u001b[38;5;241m*\u001b[39m\u001b[38;5;241m*\u001b[39mcheck_X_params)\n\u001b[0;32m    580\u001b[0m \u001b[38;5;28;01mif\u001b[39;00m \u001b[38;5;124m\"\u001b[39m\u001b[38;5;124mestimator\u001b[39m\u001b[38;5;124m\"\u001b[39m \u001b[38;5;129;01mnot\u001b[39;00m \u001b[38;5;129;01min\u001b[39;00m check_y_params:\n\u001b[0;32m    581\u001b[0m     check_y_params \u001b[38;5;241m=\u001b[39m {\u001b[38;5;241m*\u001b[39m\u001b[38;5;241m*\u001b[39mdefault_check_params, \u001b[38;5;241m*\u001b[39m\u001b[38;5;241m*\u001b[39mcheck_y_params}\n",
      "File \u001b[1;32m~\\AppData\\Local\\miniconda3\\envs\\python_3_9_beer_analysis\\lib\\site-packages\\sklearn\\utils\\validation.py:921\u001b[0m, in \u001b[0;36mcheck_array\u001b[1;34m(array, accept_sparse, accept_large_sparse, dtype, order, copy, force_all_finite, ensure_2d, allow_nd, ensure_min_samples, ensure_min_features, estimator, input_name)\u001b[0m\n\u001b[0;32m    915\u001b[0m         \u001b[38;5;28;01mraise\u001b[39;00m \u001b[38;5;167;01mValueError\u001b[39;00m(\n\u001b[0;32m    916\u001b[0m             \u001b[38;5;124m\"\u001b[39m\u001b[38;5;124mFound array with dim \u001b[39m\u001b[38;5;132;01m%d\u001b[39;00m\u001b[38;5;124m. \u001b[39m\u001b[38;5;132;01m%s\u001b[39;00m\u001b[38;5;124m expected <= 2.\u001b[39m\u001b[38;5;124m\"\u001b[39m\n\u001b[0;32m    917\u001b[0m             \u001b[38;5;241m%\u001b[39m (array\u001b[38;5;241m.\u001b[39mndim, estimator_name)\n\u001b[0;32m    918\u001b[0m         )\n\u001b[0;32m    920\u001b[0m     \u001b[38;5;28;01mif\u001b[39;00m force_all_finite:\n\u001b[1;32m--> 921\u001b[0m         \u001b[43m_assert_all_finite\u001b[49m\u001b[43m(\u001b[49m\n\u001b[0;32m    922\u001b[0m \u001b[43m            \u001b[49m\u001b[43marray\u001b[49m\u001b[43m,\u001b[49m\n\u001b[0;32m    923\u001b[0m \u001b[43m            \u001b[49m\u001b[43minput_name\u001b[49m\u001b[38;5;241;43m=\u001b[39;49m\u001b[43minput_name\u001b[49m\u001b[43m,\u001b[49m\n\u001b[0;32m    924\u001b[0m \u001b[43m            \u001b[49m\u001b[43mestimator_name\u001b[49m\u001b[38;5;241;43m=\u001b[39;49m\u001b[43mestimator_name\u001b[49m\u001b[43m,\u001b[49m\n\u001b[0;32m    925\u001b[0m \u001b[43m            \u001b[49m\u001b[43mallow_nan\u001b[49m\u001b[38;5;241;43m=\u001b[39;49m\u001b[43mforce_all_finite\u001b[49m\u001b[43m \u001b[49m\u001b[38;5;241;43m==\u001b[39;49m\u001b[43m \u001b[49m\u001b[38;5;124;43m\"\u001b[39;49m\u001b[38;5;124;43mallow-nan\u001b[39;49m\u001b[38;5;124;43m\"\u001b[39;49m\u001b[43m,\u001b[49m\n\u001b[0;32m    926\u001b[0m \u001b[43m        \u001b[49m\u001b[43m)\u001b[49m\n\u001b[0;32m    928\u001b[0m \u001b[38;5;28;01mif\u001b[39;00m ensure_min_samples \u001b[38;5;241m>\u001b[39m \u001b[38;5;241m0\u001b[39m:\n\u001b[0;32m    929\u001b[0m     n_samples \u001b[38;5;241m=\u001b[39m _num_samples(array)\n",
      "File \u001b[1;32m~\\AppData\\Local\\miniconda3\\envs\\python_3_9_beer_analysis\\lib\\site-packages\\sklearn\\utils\\validation.py:161\u001b[0m, in \u001b[0;36m_assert_all_finite\u001b[1;34m(X, allow_nan, msg_dtype, estimator_name, input_name)\u001b[0m\n\u001b[0;32m    144\u001b[0m \u001b[38;5;28;01mif\u001b[39;00m estimator_name \u001b[38;5;129;01mand\u001b[39;00m input_name \u001b[38;5;241m==\u001b[39m \u001b[38;5;124m\"\u001b[39m\u001b[38;5;124mX\u001b[39m\u001b[38;5;124m\"\u001b[39m \u001b[38;5;129;01mand\u001b[39;00m has_nan_error:\n\u001b[0;32m    145\u001b[0m     \u001b[38;5;66;03m# Improve the error message on how to handle missing values in\u001b[39;00m\n\u001b[0;32m    146\u001b[0m     \u001b[38;5;66;03m# scikit-learn.\u001b[39;00m\n\u001b[0;32m    147\u001b[0m     msg_err \u001b[38;5;241m+\u001b[39m\u001b[38;5;241m=\u001b[39m (\n\u001b[0;32m    148\u001b[0m         \u001b[38;5;124mf\u001b[39m\u001b[38;5;124m\"\u001b[39m\u001b[38;5;130;01m\\n\u001b[39;00m\u001b[38;5;132;01m{\u001b[39;00mestimator_name\u001b[38;5;132;01m}\u001b[39;00m\u001b[38;5;124m does not accept missing values\u001b[39m\u001b[38;5;124m\"\u001b[39m\n\u001b[0;32m    149\u001b[0m         \u001b[38;5;124m\"\u001b[39m\u001b[38;5;124m encoded as NaN natively. For supervised learning, you might want\u001b[39m\u001b[38;5;124m\"\u001b[39m\n\u001b[1;32m   (...)\u001b[0m\n\u001b[0;32m    159\u001b[0m         \u001b[38;5;124m\"\u001b[39m\u001b[38;5;124m#estimators-that-handle-nan-values\u001b[39m\u001b[38;5;124m\"\u001b[39m\n\u001b[0;32m    160\u001b[0m     )\n\u001b[1;32m--> 161\u001b[0m \u001b[38;5;28;01mraise\u001b[39;00m \u001b[38;5;167;01mValueError\u001b[39;00m(msg_err)\n",
      "\u001b[1;31mValueError\u001b[0m: Input X contains NaN.\nDecisionTreeClassifier does not accept missing values encoded as NaN natively. For supervised learning, you might want to consider sklearn.ensemble.HistGradientBoostingClassifier and Regressor which accept missing values encoded as NaNs natively. Alternatively, it is possible to preprocess the data, for instance by using an imputer transformer in a pipeline or drop samples with missing values. See https://scikit-learn.org/stable/modules/impute.html You can find a list of all estimators that handle NaN values at the following page: https://scikit-learn.org/stable/modules/impute.html#estimators-that-handle-nan-values"
     ]
    }
   ],
   "source": [
    "max_depth = 4\n",
    "#criterion='entropy'\n",
    "criterion='gini'\n",
    "#criterion='log_loss'\n",
    "clf = DecisionTreeClassifier(\n",
    "            criterion = criterion,\n",
    "            max_depth=max_depth,\n",
    "            random_state=1\n",
    "        )\n",
    "clf.fit(X_train, y_train)\n",
    "\n",
    "clf_ = DecisionTreeClassifier(\n",
    "            max_depth=max_depth\n",
    "        )\n",
    "_ = clf_.fit(X_train, y_train)\n"
   ]
  },
  {
   "cell_type": "markdown",
   "id": "1e618de0-dab4-4562-ac37-3accecaa858d",
   "metadata": {},
   "source": [
    "### El algoritmo no acepta valores nulos de variables"
   ]
  },
  {
   "cell_type": "code",
   "execution_count": 8,
   "id": "c5338580-47ff-4dae-9721-2411de8f134a",
   "metadata": {
    "tags": []
   },
   "outputs": [],
   "source": [
    "#¿Eliminamos la columna?\n",
    "#¿Asignamos valores por defecto? (media-mediana-otros valores)"
   ]
  },
  {
   "cell_type": "code",
   "execution_count": 9,
   "id": "81154fc3-9bea-4245-b572-9276ac321689",
   "metadata": {
    "tags": []
   },
   "outputs": [
    {
     "data": {
      "text/html": [
       "<div>\n",
       "<style scoped>\n",
       "    .dataframe tbody tr th:only-of-type {\n",
       "        vertical-align: middle;\n",
       "    }\n",
       "\n",
       "    .dataframe tbody tr th {\n",
       "        vertical-align: top;\n",
       "    }\n",
       "\n",
       "    .dataframe thead th {\n",
       "        text-align: right;\n",
       "    }\n",
       "</style>\n",
       "<table border=\"1\" class=\"dataframe\">\n",
       "  <thead>\n",
       "    <tr style=\"text-align: right;\">\n",
       "      <th></th>\n",
       "      <th>sin_alcohol_registrado</th>\n",
       "      <th>counts</th>\n",
       "    </tr>\n",
       "  </thead>\n",
       "  <tbody>\n",
       "    <tr>\n",
       "      <th>0</th>\n",
       "      <td>0</td>\n",
       "      <td>23969</td>\n",
       "    </tr>\n",
       "    <tr>\n",
       "      <th>1</th>\n",
       "      <td>1</td>\n",
       "      <td>8395</td>\n",
       "    </tr>\n",
       "  </tbody>\n",
       "</table>\n",
       "</div>"
      ],
      "text/plain": [
       "   sin_alcohol_registrado  counts\n",
       "0                       0   23969\n",
       "1                       1    8395"
      ]
     },
     "execution_count": 9,
     "metadata": {},
     "output_type": "execute_result"
    }
   ],
   "source": [
    "x_tmp = X_train.copy()\n",
    "x_tmp['sin_alcohol_registrado'] = np.where(x_tmp.beer_abv.isnull(), 1, 0)\n",
    "x_tmp.groupby(by=['sin_alcohol_registrado']).size().reset_index(name='counts')"
   ]
  },
  {
   "cell_type": "code",
   "execution_count": 10,
   "id": "fff769e0-cf25-4ab2-bb4a-0685c8e6f8d9",
   "metadata": {
    "tags": []
   },
   "outputs": [],
   "source": [
    "X_train = amu.trasform_dataframe(X_train, [amu.transform_NaN_beerabv])\n",
    "X_validacion = amu.trasform_dataframe(X_validacion, [amu.transform_NaN_beerabv])\n",
    "X_test = amu.trasform_dataframe(X_test, [amu.transform_NaN_beerabv])"
   ]
  },
  {
   "cell_type": "markdown",
   "id": "c8067575-c294-4a29-a3cd-e60f9a8cfb0a",
   "metadata": {},
   "source": [
    "### Modelo con el nuevo dataset"
   ]
  },
  {
   "cell_type": "code",
   "execution_count": 12,
   "id": "70070f66-d9aa-4309-b999-1d6541c89546",
   "metadata": {
    "tags": []
   },
   "outputs": [],
   "source": [
    "max_depth = 4\n",
    "#criterion='entropy'\n",
    "criterion='gini'\n",
    "#criterion='log_loss'\n",
    "\n",
    "clf = DecisionTreeClassifier(\n",
    "            criterion = criterion,\n",
    "            max_depth=max_depth\n",
    "        )\n",
    "_ = clf.fit(X_train, y_train)\n"
   ]
  },
  {
   "cell_type": "code",
   "execution_count": 13,
   "id": "ceac01b7-5a45-4f5b-aa88-1789bb7cd1f1",
   "metadata": {
    "tags": []
   },
   "outputs": [
    {
     "data": {
      "image/png": "[encoded data removed]",
      "text/plain": [
       "<IPython.core.display.Image object>"
      ]
     },
     "execution_count": 13,
     "metadata": {},
     "output_type": "execute_result"
    }
   ],
   "source": [
    "dot_data_value = agt.crear_arbol(clf, negative_class = 'NO', positive_class = 'SI', umbral = 0.5)\n",
    "\n",
    "graph = pydotplus.graph_from_dot_data(dot_data_value)  \n",
    "graph.set_size('\"50,50\"')\n",
    "graph.write_png('img/modelo_1.png')\n",
    "Image(graph.create_png())"
   ]
  },
  {
   "cell_type": "markdown",
   "id": "d6e3402c-c6ff-42df-9b97-0744828f0c7d",
   "metadata": {},
   "source": [
    "## Entendiendo cómo se particionan los datos"
   ]
  },
  {
   "cell_type": "markdown",
   "id": "cf5f8c95-533a-4de6-b3ea-58785640b5d3",
   "metadata": {},
   "source": [
    "### Gini index\n",
    "\n",
    "$\\Large Ig=1-\\sum_{j=1}^{c} (p_j)^2$\n"
   ]
  },
  {
   "cell_type": "code",
   "execution_count": 14,
   "id": "e946a1dc-430f-4c0f-a479-a2517e062f26",
   "metadata": {
    "tags": []
   },
   "outputs": [
    {
     "data": {
      "text/html": [
       "<div>\n",
       "<style scoped>\n",
       "    .dataframe tbody tr th:only-of-type {\n",
       "        vertical-align: middle;\n",
       "    }\n",
       "\n",
       "    .dataframe tbody tr th {\n",
       "        vertical-align: top;\n",
       "    }\n",
       "\n",
       "    .dataframe thead th {\n",
       "        text-align: right;\n",
       "    }\n",
       "</style>\n",
       "<table border=\"1\" class=\"dataframe\">\n",
       "  <thead>\n",
       "    <tr style=\"text-align: right;\">\n",
       "      <th></th>\n",
       "      <th>children_left</th>\n",
       "      <th>children_right</th>\n",
       "      <th>feature</th>\n",
       "      <th>threshold</th>\n",
       "      <th>impurity</th>\n",
       "      <th>node_samples</th>\n",
       "      <th>NO</th>\n",
       "      <th>SI</th>\n",
       "    </tr>\n",
       "  </thead>\n",
       "  <tbody>\n",
       "    <tr>\n",
       "      <th>0</th>\n",
       "      <td>1</td>\n",
       "      <td>16</td>\n",
       "      <td>0</td>\n",
       "      <td>6.685000</td>\n",
       "      <td>0.088231</td>\n",
       "      <td>32364</td>\n",
       "      <td>30867</td>\n",
       "      <td>1497</td>\n",
       "    </tr>\n",
       "    <tr>\n",
       "      <th>1</th>\n",
       "      <td>2</td>\n",
       "      <td>9</td>\n",
       "      <td>0</td>\n",
       "      <td>5.260000</td>\n",
       "      <td>0.049260</td>\n",
       "      <td>24497</td>\n",
       "      <td>23878</td>\n",
       "      <td>619</td>\n",
       "    </tr>\n",
       "    <tr>\n",
       "      <th>2</th>\n",
       "      <td>3</td>\n",
       "      <td>6</td>\n",
       "      <td>2</td>\n",
       "      <td>3.501299</td>\n",
       "      <td>0.031318</td>\n",
       "      <td>17785</td>\n",
       "      <td>17502</td>\n",
       "      <td>283</td>\n",
       "    </tr>\n",
       "    <tr>\n",
       "      <th>3</th>\n",
       "      <td>4</td>\n",
       "      <td>5</td>\n",
       "      <td>0</td>\n",
       "      <td>4.195000</td>\n",
       "      <td>0.013033</td>\n",
       "      <td>8080</td>\n",
       "      <td>8027</td>\n",
       "      <td>53</td>\n",
       "    </tr>\n",
       "    <tr>\n",
       "      <th>4</th>\n",
       "      <td>-1</td>\n",
       "      <td>-1</td>\n",
       "      <td>-2</td>\n",
       "      <td>-2.000000</td>\n",
       "      <td>0.005853</td>\n",
       "      <td>4429</td>\n",
       "      <td>4416</td>\n",
       "      <td>13</td>\n",
       "    </tr>\n",
       "    <tr>\n",
       "      <th>5</th>\n",
       "      <td>-1</td>\n",
       "      <td>-1</td>\n",
       "      <td>-2</td>\n",
       "      <td>-2.000000</td>\n",
       "      <td>0.021672</td>\n",
       "      <td>3651</td>\n",
       "      <td>3611</td>\n",
       "      <td>40</td>\n",
       "    </tr>\n",
       "    <tr>\n",
       "      <th>6</th>\n",
       "      <td>7</td>\n",
       "      <td>8</td>\n",
       "      <td>2</td>\n",
       "      <td>3.506777</td>\n",
       "      <td>0.046275</td>\n",
       "      <td>9705</td>\n",
       "      <td>9475</td>\n",
       "      <td>230</td>\n",
       "    </tr>\n",
       "    <tr>\n",
       "      <th>7</th>\n",
       "      <td>-1</td>\n",
       "      <td>-1</td>\n",
       "      <td>-2</td>\n",
       "      <td>-2.000000</td>\n",
       "      <td>0.000000</td>\n",
       "      <td>3</td>\n",
       "      <td>0</td>\n",
       "      <td>3</td>\n",
       "    </tr>\n",
       "    <tr>\n",
       "      <th>8</th>\n",
       "      <td>-1</td>\n",
       "      <td>-1</td>\n",
       "      <td>-2</td>\n",
       "      <td>-2.000000</td>\n",
       "      <td>0.045700</td>\n",
       "      <td>9702</td>\n",
       "      <td>9475</td>\n",
       "      <td>227</td>\n",
       "    </tr>\n",
       "    <tr>\n",
       "      <th>9</th>\n",
       "      <td>10</td>\n",
       "      <td>13</td>\n",
       "      <td>2</td>\n",
       "      <td>3.532749</td>\n",
       "      <td>0.095107</td>\n",
       "      <td>6712</td>\n",
       "      <td>6376</td>\n",
       "      <td>336</td>\n",
       "    </tr>\n",
       "    <tr>\n",
       "      <th>10</th>\n",
       "      <td>11</td>\n",
       "      <td>12</td>\n",
       "      <td>2</td>\n",
       "      <td>3.497340</td>\n",
       "      <td>0.024186</td>\n",
       "      <td>2042</td>\n",
       "      <td>2017</td>\n",
       "      <td>25</td>\n",
       "    </tr>\n",
       "    <tr>\n",
       "      <th>11</th>\n",
       "      <td>-1</td>\n",
       "      <td>-1</td>\n",
       "      <td>-2</td>\n",
       "      <td>-2.000000</td>\n",
       "      <td>0.039200</td>\n",
       "      <td>1100</td>\n",
       "      <td>1078</td>\n",
       "      <td>22</td>\n",
       "    </tr>\n",
       "    <tr>\n",
       "      <th>12</th>\n",
       "      <td>-1</td>\n",
       "      <td>-1</td>\n",
       "      <td>-2</td>\n",
       "      <td>-2.000000</td>\n",
       "      <td>0.006349</td>\n",
       "      <td>942</td>\n",
       "      <td>939</td>\n",
       "      <td>3</td>\n",
       "    </tr>\n",
       "    <tr>\n",
       "      <th>13</th>\n",
       "      <td>14</td>\n",
       "      <td>15</td>\n",
       "      <td>2</td>\n",
       "      <td>3.988325</td>\n",
       "      <td>0.124321</td>\n",
       "      <td>4670</td>\n",
       "      <td>4359</td>\n",
       "      <td>311</td>\n",
       "    </tr>\n",
       "    <tr>\n",
       "      <th>14</th>\n",
       "      <td>-1</td>\n",
       "      <td>-1</td>\n",
       "      <td>-2</td>\n",
       "      <td>-2.000000</td>\n",
       "      <td>0.165567</td>\n",
       "      <td>2141</td>\n",
       "      <td>1946</td>\n",
       "      <td>195</td>\n",
       "    </tr>\n",
       "    <tr>\n",
       "      <th>15</th>\n",
       "      <td>-1</td>\n",
       "      <td>-1</td>\n",
       "      <td>-2</td>\n",
       "      <td>-2.000000</td>\n",
       "      <td>0.087528</td>\n",
       "      <td>2529</td>\n",
       "      <td>2413</td>\n",
       "      <td>116</td>\n",
       "    </tr>\n",
       "    <tr>\n",
       "      <th>16</th>\n",
       "      <td>17</td>\n",
       "      <td>24</td>\n",
       "      <td>2</td>\n",
       "      <td>4.000488</td>\n",
       "      <td>0.198299</td>\n",
       "      <td>7867</td>\n",
       "      <td>6989</td>\n",
       "      <td>878</td>\n",
       "    </tr>\n",
       "    <tr>\n",
       "      <th>17</th>\n",
       "      <td>18</td>\n",
       "      <td>21</td>\n",
       "      <td>2</td>\n",
       "      <td>3.999123</td>\n",
       "      <td>0.137755</td>\n",
       "      <td>5644</td>\n",
       "      <td>5224</td>\n",
       "      <td>420</td>\n",
       "    </tr>\n",
       "    <tr>\n",
       "      <th>18</th>\n",
       "      <td>19</td>\n",
       "      <td>20</td>\n",
       "      <td>2</td>\n",
       "      <td>3.752503</td>\n",
       "      <td>0.179348</td>\n",
       "      <td>3926</td>\n",
       "      <td>3535</td>\n",
       "      <td>391</td>\n",
       "    </tr>\n",
       "    <tr>\n",
       "      <th>19</th>\n",
       "      <td>-1</td>\n",
       "      <td>-1</td>\n",
       "      <td>-2</td>\n",
       "      <td>-2.000000</td>\n",
       "      <td>0.079922</td>\n",
       "      <td>2518</td>\n",
       "      <td>2413</td>\n",
       "      <td>105</td>\n",
       "    </tr>\n",
       "    <tr>\n",
       "      <th>20</th>\n",
       "      <td>-1</td>\n",
       "      <td>-1</td>\n",
       "      <td>-2</td>\n",
       "      <td>-2.000000</td>\n",
       "      <td>0.323730</td>\n",
       "      <td>1408</td>\n",
       "      <td>1122</td>\n",
       "      <td>286</td>\n",
       "    </tr>\n",
       "    <tr>\n",
       "      <th>21</th>\n",
       "      <td>22</td>\n",
       "      <td>23</td>\n",
       "      <td>0</td>\n",
       "      <td>9.905000</td>\n",
       "      <td>0.033190</td>\n",
       "      <td>1718</td>\n",
       "      <td>1689</td>\n",
       "      <td>29</td>\n",
       "    </tr>\n",
       "    <tr>\n",
       "      <th>22</th>\n",
       "      <td>-1</td>\n",
       "      <td>-1</td>\n",
       "      <td>-2</td>\n",
       "      <td>-2.000000</td>\n",
       "      <td>0.023364</td>\n",
       "      <td>1438</td>\n",
       "      <td>1421</td>\n",
       "      <td>17</td>\n",
       "    </tr>\n",
       "    <tr>\n",
       "      <th>23</th>\n",
       "      <td>-1</td>\n",
       "      <td>-1</td>\n",
       "      <td>-2</td>\n",
       "      <td>-2.000000</td>\n",
       "      <td>0.082041</td>\n",
       "      <td>280</td>\n",
       "      <td>268</td>\n",
       "      <td>12</td>\n",
       "    </tr>\n",
       "    <tr>\n",
       "      <th>24</th>\n",
       "      <td>25</td>\n",
       "      <td>28</td>\n",
       "      <td>2</td>\n",
       "      <td>4.249629</td>\n",
       "      <td>0.327161</td>\n",
       "      <td>2223</td>\n",
       "      <td>1765</td>\n",
       "      <td>458</td>\n",
       "    </tr>\n",
       "    <tr>\n",
       "      <th>25</th>\n",
       "      <td>26</td>\n",
       "      <td>27</td>\n",
       "      <td>2</td>\n",
       "      <td>4.217191</td>\n",
       "      <td>0.415784</td>\n",
       "      <td>1211</td>\n",
       "      <td>854</td>\n",
       "      <td>357</td>\n",
       "    </tr>\n",
       "    <tr>\n",
       "      <th>26</th>\n",
       "      <td>-1</td>\n",
       "      <td>-1</td>\n",
       "      <td>-2</td>\n",
       "      <td>-2.000000</td>\n",
       "      <td>0.405303</td>\n",
       "      <td>1165</td>\n",
       "      <td>836</td>\n",
       "      <td>329</td>\n",
       "    </tr>\n",
       "    <tr>\n",
       "      <th>27</th>\n",
       "      <td>-1</td>\n",
       "      <td>-1</td>\n",
       "      <td>-2</td>\n",
       "      <td>-2.000000</td>\n",
       "      <td>0.476371</td>\n",
       "      <td>46</td>\n",
       "      <td>18</td>\n",
       "      <td>28</td>\n",
       "    </tr>\n",
       "    <tr>\n",
       "      <th>28</th>\n",
       "      <td>29</td>\n",
       "      <td>30</td>\n",
       "      <td>2</td>\n",
       "      <td>4.471548</td>\n",
       "      <td>0.179684</td>\n",
       "      <td>1012</td>\n",
       "      <td>911</td>\n",
       "      <td>101</td>\n",
       "    </tr>\n",
       "    <tr>\n",
       "      <th>29</th>\n",
       "      <td>-1</td>\n",
       "      <td>-1</td>\n",
       "      <td>-2</td>\n",
       "      <td>-2.000000</td>\n",
       "      <td>0.279004</td>\n",
       "      <td>543</td>\n",
       "      <td>452</td>\n",
       "      <td>91</td>\n",
       "    </tr>\n",
       "    <tr>\n",
       "      <th>30</th>\n",
       "      <td>-1</td>\n",
       "      <td>-1</td>\n",
       "      <td>-2</td>\n",
       "      <td>-2.000000</td>\n",
       "      <td>0.041735</td>\n",
       "      <td>469</td>\n",
       "      <td>459</td>\n",
       "      <td>10</td>\n",
       "    </tr>\n",
       "  </tbody>\n",
       "</table>\n",
       "</div>"
      ],
      "text/plain": [
       "    children_left  children_right  feature  threshold  impurity  node_samples   \n",
       "0               1              16        0   6.685000  0.088231         32364  \\\n",
       "1               2               9        0   5.260000  0.049260         24497   \n",
       "2               3               6        2   3.501299  0.031318         17785   \n",
       "3               4               5        0   4.195000  0.013033          8080   \n",
       "4              -1              -1       -2  -2.000000  0.005853          4429   \n",
       "5              -1              -1       -2  -2.000000  0.021672          3651   \n",
       "6               7               8        2   3.506777  0.046275          9705   \n",
       "7              -1              -1       -2  -2.000000  0.000000             3   \n",
       "8              -1              -1       -2  -2.000000  0.045700          9702   \n",
       "9              10              13        2   3.532749  0.095107          6712   \n",
       "10             11              12        2   3.497340  0.024186          2042   \n",
       "11             -1              -1       -2  -2.000000  0.039200          1100   \n",
       "12             -1              -1       -2  -2.000000  0.006349           942   \n",
       "13             14              15        2   3.988325  0.124321          4670   \n",
       "14             -1              -1       -2  -2.000000  0.165567          2141   \n",
       "15             -1              -1       -2  -2.000000  0.087528          2529   \n",
       "16             17              24        2   4.000488  0.198299          7867   \n",
       "17             18              21        2   3.999123  0.137755          5644   \n",
       "18             19              20        2   3.752503  0.179348          3926   \n",
       "19             -1              -1       -2  -2.000000  0.079922          2518   \n",
       "20             -1              -1       -2  -2.000000  0.323730          1408   \n",
       "21             22              23        0   9.905000  0.033190          1718   \n",
       "22             -1              -1       -2  -2.000000  0.023364          1438   \n",
       "23             -1              -1       -2  -2.000000  0.082041           280   \n",
       "24             25              28        2   4.249629  0.327161          2223   \n",
       "25             26              27        2   4.217191  0.415784          1211   \n",
       "26             -1              -1       -2  -2.000000  0.405303          1165   \n",
       "27             -1              -1       -2  -2.000000  0.476371            46   \n",
       "28             29              30        2   4.471548  0.179684          1012   \n",
       "29             -1              -1       -2  -2.000000  0.279004           543   \n",
       "30             -1              -1       -2  -2.000000  0.041735           469   \n",
       "\n",
       "       NO    SI  \n",
       "0   30867  1497  \n",
       "1   23878   619  \n",
       "2   17502   283  \n",
       "3    8027    53  \n",
       "4    4416    13  \n",
       "5    3611    40  \n",
       "6    9475   230  \n",
       "7       0     3  \n",
       "8    9475   227  \n",
       "9    6376   336  \n",
       "10   2017    25  \n",
       "11   1078    22  \n",
       "12    939     3  \n",
       "13   4359   311  \n",
       "14   1946   195  \n",
       "15   2413   116  \n",
       "16   6989   878  \n",
       "17   5224   420  \n",
       "18   3535   391  \n",
       "19   2413   105  \n",
       "20   1122   286  \n",
       "21   1689    29  \n",
       "22   1421    17  \n",
       "23    268    12  \n",
       "24   1765   458  \n",
       "25    854   357  \n",
       "26    836   329  \n",
       "27     18    28  \n",
       "28    911   101  \n",
       "29    452    91  \n",
       "30    459    10  "
      ]
     },
     "execution_count": 14,
     "metadata": {},
     "output_type": "execute_result"
    }
   ],
   "source": [
    "n_nodes = clf.tree_.node_count\n",
    "children_left = clf.tree_.children_left\n",
    "children_right = clf.tree_.children_right\n",
    "feature = clf.tree_.feature\n",
    "threshold = clf.tree_.threshold\n",
    "impurity = clf.tree_.impurity\n",
    "node_samples = clf.tree_.n_node_samples\n",
    "\n",
    "df_clases_en_nodo = pd.DataFrame(\n",
    "    clf.tree_.value.reshape(clf.tree_.node_count,clf.tree_.max_n_classes), columns = clf.classes_).astype(int)\n",
    "\n",
    "df_tree = pd.DataFrame(\n",
    "                        { \n",
    "                            'children_left': children_left,\n",
    "                            'children_right': children_right,\n",
    "                            'feature': feature,\n",
    "                            'threshold': threshold,\n",
    "                            'impurity': impurity ,\n",
    "                            'node_samples': node_samples\n",
    "                        })\n",
    "\n",
    "df_tree = pd.concat([df_tree, df_clases_en_nodo], axis=\"columns\")\n",
    "\n",
    "df_tree"
   ]
  },
  {
   "cell_type": "code",
   "execution_count": 42,
   "id": "15e39374-faff-4821-bd6e-6d491cf4bc4e",
   "metadata": {
    "tags": []
   },
   "outputs": [
    {
     "data": {
      "text/plain": [
       "{'samples_nodo': 32364,\n",
       " 'samples_nodo_izquierdo': 24497,\n",
       " 'samples_nodo_derecho': 7867,\n",
       " 'proporcion_samples_nodo_izquierdo': 0.76,\n",
       " 'proporcion_samples_nodo_derecho': 0.24,\n",
       " 'entropia_nodo': 0.0882,\n",
       " 'entropia_nodo_izquierdo': 0.0493,\n",
       " 'entropia_nodo_derecho': 0.1983,\n",
       " 'information_gain': 0.0027}"
      ]
     },
     "execution_count": 42,
     "metadata": {},
     "output_type": "execute_result"
    }
   ],
   "source": [
    "import importlib\n",
    "importlib.reload(atu)\n",
    "\n",
    "nodo_raiz_idx = 0\n",
    "atu.get_informacion_de_nodo(clf.tree_, nodo_raiz_idx)"
   ]
  },
  {
   "cell_type": "markdown",
   "id": "c2452fa2-19b1-4e72-968a-5d1fd207f781",
   "metadata": {},
   "source": [
    "## Analizamos los resultados con el dataset de testing"
   ]
  },
  {
   "cell_type": "markdown",
   "id": "df65c221-7877-4f09-9b86-3d27a7be9846",
   "metadata": {},
   "source": [
    "#### Matriz de confusión"
   ]
  },
  {
   "cell_type": "code",
   "execution_count": 29,
   "id": "283e05e8-18dd-4186-b7cf-d2ca63a82878",
   "metadata": {
    "tags": []
   },
   "outputs": [
    {
     "data": {
      "text/html": [
       "<div>\n",
       "<style scoped>\n",
       "    .dataframe tbody tr th:only-of-type {\n",
       "        vertical-align: middle;\n",
       "    }\n",
       "\n",
       "    .dataframe tbody tr th {\n",
       "        vertical-align: top;\n",
       "    }\n",
       "\n",
       "    .dataframe thead th {\n",
       "        text-align: right;\n",
       "    }\n",
       "</style>\n",
       "<table border=\"1\" class=\"dataframe\">\n",
       "  <thead>\n",
       "    <tr style=\"text-align: right;\">\n",
       "      <th></th>\n",
       "      <th>real</th>\n",
       "      <th>prediccion</th>\n",
       "      <th>counts</th>\n",
       "    </tr>\n",
       "  </thead>\n",
       "  <tbody>\n",
       "    <tr>\n",
       "      <th>0</th>\n",
       "      <td>NO</td>\n",
       "      <td>NO</td>\n",
       "      <td>13190</td>\n",
       "    </tr>\n",
       "    <tr>\n",
       "      <th>1</th>\n",
       "      <td>NO</td>\n",
       "      <td>SI</td>\n",
       "      <td>14</td>\n",
       "    </tr>\n",
       "    <tr>\n",
       "      <th>2</th>\n",
       "      <td>SI</td>\n",
       "      <td>NO</td>\n",
       "      <td>655</td>\n",
       "    </tr>\n",
       "    <tr>\n",
       "      <th>3</th>\n",
       "      <td>SI</td>\n",
       "      <td>SI</td>\n",
       "      <td>12</td>\n",
       "    </tr>\n",
       "  </tbody>\n",
       "</table>\n",
       "</div>"
      ],
      "text/plain": [
       "  real prediccion  counts\n",
       "0   NO         NO   13190\n",
       "1   NO         SI      14\n",
       "2   SI         NO     655\n",
       "3   SI         SI      12"
      ]
     },
     "execution_count": 29,
     "metadata": {},
     "output_type": "execute_result"
    }
   ],
   "source": [
    "y_pred = clf.predict(X_test)\n",
    "\n",
    "df_matriz_confusion = y_test.copy()\n",
    "df_matriz_confusion.columns = ['real']\n",
    "df_matriz_confusion['prediccion'] = y_pred\n",
    "\n",
    "df_matriz_confusion.groupby(by=['real', 'prediccion']).size().reset_index(name='counts')"
   ]
  },
  {
   "cell_type": "code",
   "execution_count": 30,
   "id": "74d4b9e4-789f-43a1-9642-392d24e1e9e4",
   "metadata": {
    "tags": []
   },
   "outputs": [
    {
     "data": {
      "image/png": "[encoded data removed]",
      "text/plain": [
       "<Figure size 640x480 with 2 Axes>"
      ]
     },
     "metadata": {},
     "output_type": "display_data"
    }
   ],
   "source": [
    "cm = confusion_matrix(y_test, y_pred, labels=['SI', 'NO'])\n",
    "disp = ConfusionMatrixDisplay(confusion_matrix=cm, display_labels=['SI', 'NO'])\n",
    "disp.plot()\n",
    "plt.show()"
   ]
  },
  {
   "cell_type": "markdown",
   "id": "011e4922-4638-483d-b71b-c87047fbc3b6",
   "metadata": {},
   "source": [
    "### Calculando métricas"
   ]
  },
  {
   "cell_type": "code",
   "execution_count": 31,
   "id": "90977054-dced-41ae-a25c-709021498c0f",
   "metadata": {
    "tags": []
   },
   "outputs": [
    {
     "data": {
      "text/plain": [
       "[12, 14, 13190, 655]"
      ]
     },
     "execution_count": 31,
     "metadata": {},
     "output_type": "execute_result"
    }
   ],
   "source": [
    "true_positives = cm[0,0]\n",
    "true_negatives = cm[1,1]\n",
    "false_positives = cm[1, 0]\n",
    "false_negatives = cm[0,1]\n",
    "\n",
    "[true_positives, false_positives, true_negatives, false_negatives]"
   ]
  },
  {
   "cell_type": "markdown",
   "id": "3539f77a-f87f-4d8d-be94-8d3ccee9b4f2",
   "metadata": {},
   "source": [
    "#### Accuracy\n",
    "(tp + tn) / (tp + tn + fp + fn)\n",
    "\n",
    "Es el porcentaje total de elementos clasificados correctamente."
   ]
  },
  {
   "cell_type": "code",
   "execution_count": 32,
   "id": "d4128941-39ec-4e7a-9934-5d38ea30efdc",
   "metadata": {
    "tags": []
   },
   "outputs": [
    {
     "data": {
      "text/plain": [
       "0.9517698796049312"
      ]
     },
     "execution_count": 32,
     "metadata": {},
     "output_type": "execute_result"
    }
   ],
   "source": [
    "accuracy = (true_positives+true_negatives) / (true_positives + true_negatives + false_positives + false_negatives)\n",
    "accuracy"
   ]
  },
  {
   "cell_type": "markdown",
   "id": "cb706c04-1fe0-4b58-b79c-121a00bcfe1c",
   "metadata": {
    "tags": []
   },
   "source": [
    "#### Recall \n",
    "(tp ) / (tp + fn)\n",
    "\n",
    "Es el número de elementos identificados correctamente como positivos del total de positivos verdaderos."
   ]
  },
  {
   "cell_type": "code",
   "execution_count": 33,
   "id": "46ee009a-97d1-4815-8c24-f9feec00a0c9",
   "metadata": {
    "tags": []
   },
   "outputs": [
    {
     "data": {
      "text/plain": [
       "0.017991004497751123"
      ]
     },
     "execution_count": 33,
     "metadata": {},
     "output_type": "execute_result"
    }
   ],
   "source": [
    "recall = (true_positives) / (true_positives + false_negatives)\n",
    "recall"
   ]
  },
  {
   "cell_type": "markdown",
   "id": "b5cbccfc-1e71-4e76-9de6-362fbb6c44e7",
   "metadata": {},
   "source": [
    "#### Precision \n",
    "(tp ) / (tp + fp)\n",
    "\n",
    "Es el número de elementos identificados correctamente como positivos de un total de elementos identificados como positivos.\n"
   ]
  },
  {
   "cell_type": "code",
   "execution_count": 34,
   "id": "2b156974-9d3d-4047-8e03-9da9a8203b6a",
   "metadata": {
    "tags": []
   },
   "outputs": [
    {
     "data": {
      "text/plain": [
       "0.46153846153846156"
      ]
     },
     "execution_count": 34,
     "metadata": {},
     "output_type": "execute_result"
    }
   ],
   "source": [
    "precision = (true_positives) / (true_positives + false_positives)\n",
    "precision"
   ]
  },
  {
   "cell_type": "markdown",
   "id": "a0cabdbd-1f23-488f-a3a4-82b188f5420b",
   "metadata": {},
   "source": [
    "#### Especificidad\n",
    "(tn ) / (tn + fp)\n",
    "\n",
    "Es el número de ítems correctamente identificados como negativos  de un total de elementos identificados como negativos."
   ]
  },
  {
   "cell_type": "code",
   "execution_count": 35,
   "id": "cd0ac1bf-a9e1-4c2d-83c5-155c4e1b2b05",
   "metadata": {},
   "outputs": [
    {
     "data": {
      "text/plain": [
       "0.9989397152378068"
      ]
     },
     "execution_count": 35,
     "metadata": {},
     "output_type": "execute_result"
    }
   ],
   "source": [
    "specificity = (true_negatives) / (true_negatives + false_positives)\n",
    "specificity"
   ]
  },
  {
   "cell_type": "markdown",
   "id": "1a719e8d-b727-4aee-90e8-06b8af8d90f3",
   "metadata": {},
   "source": [
    "#### Tasa de falso positivo (error tipo 1)\n",
    "(fp)/(fp + tn)\n",
    "\n",
    "Número de elementos identificados erróneamente como positivos de total negativos verdaderos- FP / ( FP + TN)"
   ]
  },
  {
   "cell_type": "code",
   "execution_count": 36,
   "id": "f8c2fa10-639f-4b90-bb7c-779625fc625b",
   "metadata": {},
   "outputs": [
    {
     "data": {
      "text/plain": [
       "0.0010602847621932747"
      ]
     },
     "execution_count": 36,
     "metadata": {},
     "output_type": "execute_result"
    }
   ],
   "source": [
    "tasa_falso_positivo = (false_positives) / (true_negatives + false_positives)\n",
    "tasa_falso_positivo"
   ]
  },
  {
   "cell_type": "markdown",
   "id": "f015ca52-5600-488d-bc65-e5b4b63373ad",
   "metadata": {},
   "source": [
    "#### Tasa de falso negativo (error tipo 2)\n",
    "(fn)/(fn + tp)\n",
    "\n",
    "Número de elementos identificados erróneamente como s negativo del total de verdaderos positivos"
   ]
  },
  {
   "cell_type": "code",
   "execution_count": 37,
   "id": "e584f06f-3c86-4246-8de6-e2f357aa7da9",
   "metadata": {},
   "outputs": [
    {
     "data": {
      "text/plain": [
       "0.04960617994547107"
      ]
     },
     "execution_count": 37,
     "metadata": {},
     "output_type": "execute_result"
    }
   ],
   "source": [
    "tasa_falso_negativo = (false_negatives) / (true_negatives + false_positives)\n",
    "tasa_falso_negativo"
   ]
  },
  {
   "cell_type": "markdown",
   "id": "5efd112c-da29-4f93-b4fd-2223a96681d2",
   "metadata": {},
   "source": [
    "#### F1\n",
    "2 * (precision * recall) / (precision + recall)\n",
    "\n",
    "Es la media armónica de la precicisión y el recall"
   ]
  },
  {
   "cell_type": "code",
   "execution_count": 38,
   "id": "0b97b4fe-6f7c-4afc-90d6-19c7db2bcc5c",
   "metadata": {
    "tags": []
   },
   "outputs": [
    {
     "data": {
      "text/plain": [
       "0.034632034632034625"
      ]
     },
     "execution_count": 38,
     "metadata": {},
     "output_type": "execute_result"
    }
   ],
   "source": [
    "f1 = 2 * (precision*recall)/(precision+recall)\n",
    "f1"
   ]
  },
  {
   "cell_type": "markdown",
   "id": "81a511f5-48b7-4f8a-9c0a-2e9bd00800c2",
   "metadata": {},
   "source": [
    "#### Una Metrica del negocio\n",
    "\n",
    "$4000 por cada verdadero positivo\n",
    "\n",
    "-$200 por cada falso positivo\n",
    "\n",
    "dividido por el total de muestras"
   ]
  },
  {
   "cell_type": "code",
   "execution_count": 39,
   "id": "b8929422-f3a4-4684-89e8-8178376ed2c8",
   "metadata": {
    "tags": []
   },
   "outputs": [
    {
     "data": {
      "text/plain": [
       "3.258597073030063"
      ]
     },
     "execution_count": 39,
     "metadata": {},
     "output_type": "execute_result"
    }
   ],
   "source": [
    "metrica_negocio = ((4000*true_positives) - (200*false_positives))/(true_positives + true_negatives + false_positives + false_negatives)\n",
    "metrica_negocio"
   ]
  },
  {
   "cell_type": "code",
   "execution_count": 23,
   "id": "2bd4e334-ca31-49e7-8b66-7dff9a3f3322",
   "metadata": {
    "tags": []
   },
   "outputs": [
    {
     "data": {
      "text/plain": [
       "192.3437387354913"
      ]
     },
     "execution_count": 23,
     "metadata": {},
     "output_type": "execute_result"
    }
   ],
   "source": [
    "metrica_negocio_optima = (4000*(true_positives+false_negatives)) /(true_positives + true_negatives + false_positives + false_negatives)\n",
    "metrica_negocio_optima"
   ]
  },
  {
   "cell_type": "code",
   "execution_count": 43,
   "id": "a48c92c1-e402-4c83-8cfa-c7a4aaa9ef2f",
   "metadata": {
    "tags": []
   },
   "outputs": [
    {
     "data": {
      "text/plain": [
       "{'true negatives': 13190,\n",
       " 'true positives': 12,\n",
       " 'false positives': 14,\n",
       " 'false negatives': 655,\n",
       " 'accuracy': 0.9518,\n",
       " 'recall': 0.018,\n",
       " 'precision': 0.4615,\n",
       " 'specificity': 0.9989,\n",
       " 'tasa falso positivo': 0.0011,\n",
       " 'tasa falso negativo': 0.0496,\n",
       " 'f1': 0.0346,\n",
       " 'metrica negocio': 3.258597073030063,\n",
       " 'metrica optima negocio': 192.3437387354913}"
      ]
     },
     "execution_count": 43,
     "metadata": {},
     "output_type": "execute_result"
    }
   ],
   "source": [
    "y_true = y_test['es_popular'].values\n",
    "labels = ['NO', 'SI']\n",
    "\n",
    "atu.calcular_metricas(y_true = y_true, y_pred = y_pred, labels=labels)"
   ]
  },
  {
   "cell_type": "markdown",
   "id": "784847cd-6c53-4f81-9f2e-ea52e195d4f5",
   "metadata": {},
   "source": [
    "### Probemos con el dataset de validacion"
   ]
  },
  {
   "cell_type": "code",
   "execution_count": 44,
   "id": "7850bae6-74a3-4ea9-9e31-f83b5769d147",
   "metadata": {
    "tags": []
   },
   "outputs": [
    {
     "data": {
      "text/plain": [
       "{'true negatives': 18848,\n",
       " 'true positives': 12,\n",
       " 'false positives': 18,\n",
       " 'false negatives': 938,\n",
       " 'accuracy': 0.9518,\n",
       " 'recall': 0.0126,\n",
       " 'precision': 0.4,\n",
       " 'specificity': 0.999,\n",
       " 'tasa falso positivo': 0.001,\n",
       " 'tasa falso negativo': 0.0497,\n",
       " 'f1': 0.0245,\n",
       " 'metrica negocio': 2.2406136455389585,\n",
       " 'metrica optima negocio': 191.76423092450545}"
      ]
     },
     "execution_count": 44,
     "metadata": {},
     "output_type": "execute_result"
    }
   ],
   "source": [
    "y_validacion_pred = clf.predict(X_validacion)\n",
    "\n",
    "y_true = Y_validacion['es_popular'].values\n",
    "labels = ['NO', 'SI']\n",
    "\n",
    "atu.calcular_metricas(y_true = y_true, y_pred = y_validacion_pred, labels=labels)"
   ]
  },
  {
   "cell_type": "markdown",
   "id": "2d498aae-612f-493d-a85b-41e5803d929d",
   "metadata": {},
   "source": [
    "#### Registrando todo"
   ]
  },
  {
   "cell_type": "code",
   "execution_count": 27,
   "id": "f14d9b25-c95d-4cb4-a0c2-6ac0d10ba135",
   "metadata": {
    "tags": []
   },
   "outputs": [
    {
     "name": "stdout",
     "output_type": "stream",
     "text": [
      "Current tracking uri: http://localhost:5000\n"
     ]
    }
   ],
   "source": [
    "host = 'http://localhost:5000'\n",
    "\n",
    "mlflow.set_tracking_uri(host)\n",
    "tracking_uri = mlflow.get_tracking_uri()\n",
    "\n",
    "print(\"Current tracking uri: {}\".format(tracking_uri))"
   ]
  },
  {
   "cell_type": "code",
   "execution_count": 29,
   "id": "81cc40d1-80dd-43c3-a333-8fd5a727e2eb",
   "metadata": {
    "tags": []
   },
   "outputs": [
    {
     "name": "stderr",
     "output_type": "stream",
     "text": [
      "C:\\Users\\arouiller\\AppData\\Local\\miniconda3\\envs\\python_3_9_beer_analysis\\lib\\site-packages\\_distutils_hack\\__init__.py:33: UserWarning: Setuptools is replacing distutils.\n",
      "  warnings.warn(\"Setuptools is replacing distutils.\")\n"
     ]
    }
   ],
   "source": [
    "nombre_experimento = 'AnalisisDeCervezas'\n",
    "mlflow.set_experiment(nombre_experimento)\n",
    "experiment = mlflow.get_experiment_by_name(nombre_experimento)\n",
    "\n",
    "metricas = atu.calculatar_metricas(\n",
    "    y_true = y_test['es_popular'].values, \n",
    "    y_pred = clf.predict(X_test), \n",
    "    labels = ['NO', 'SI']\n",
    ")\n",
    "metricas['max_depth'] = max_depth\n",
    "metricas['umbral_corte'] = 0.5\n",
    "\n",
    "with mlflow.start_run(experiment_id=experiment.experiment_id, run_name=\"Primera ejecución\", description='Ejecución con parámetros por defecto'):\n",
    "    mlflow.set_tag(\"dataset\", \"testing\")\n",
    "    \n",
    "    mlflow.log_param(\"max_depth\", metricas['max_depth'])\n",
    "    mlflow.log_param(\"umbral_corte\", metricas['umbral_corte'])\n",
    "    \n",
    "    mlflow.log_metric(\"true negatives\", metricas['true negatives'])\n",
    "    mlflow.log_metric(\"true positives\", metricas['true positives'])\n",
    "    mlflow.log_metric(\"false positives\", metricas['false positives'])\n",
    "    mlflow.log_metric(\"false negatives\", metricas['false negatives'])\n",
    "    mlflow.log_metric(\"accuracy\", metricas['accuracy'])\n",
    "    mlflow.log_metric(\"recall\", metricas['recall'])\n",
    "    mlflow.log_metric(\"precision\", metricas['precision'])\n",
    "    mlflow.log_metric(\"specificity\", metricas['specificity'])\n",
    "    mlflow.log_metric(\"tasa falso positivo\", metricas['tasa falso positivo'])\n",
    "    mlflow.log_metric(\"tasa falso negativo\", metricas['tasa falso negativo'])\n",
    "    mlflow.log_metric(\"f1\", metricas['f1'])\n",
    "    mlflow.log_metric(\"metrica negocio\", metricas['metrica negocio'])\n",
    "    mlflow.log_metric(\"metrica optima negocio\", metricas['metrica optima negocio'])\n",
    "    \n",
    "    mlflow.sklearn.log_model(\n",
    "        sk_model=clf,\n",
    "        artifact_path=\"clasification_tree_model\"\n",
    "    )\n",
    "        \n",
    "    mlflow.end_run()"
   ]
  },
  {
   "cell_type": "markdown",
   "id": "092fc375-98f9-4d20-905d-756a42104980",
   "metadata": {},
   "source": [
    "### Ahora probamos con el dataset de validación"
   ]
  },
  {
   "cell_type": "code",
   "execution_count": 30,
   "id": "6f0f3d96-3168-430d-8301-2ee1e49739b5",
   "metadata": {
    "tags": []
   },
   "outputs": [],
   "source": [
    "nombre_experimento = 'AnalisisDeCervezas'\n",
    "mlflow.set_experiment(nombre_experimento)\n",
    "experiment = mlflow.get_experiment_by_name(nombre_experimento)\n",
    "\n",
    "metricas = amu.calculate_metrics(\n",
    "    y_true = Y_validacion['es_popular'].values, \n",
    "    y_pred = clf.predict(X_validacion), \n",
    "    labels=['NO', 'SI']\n",
    ")\n",
    "metricas['max_depth'] = max_depth\n",
    "metricas['umbral_corte'] = 0.5\n",
    "\n",
    "with mlflow.start_run(experiment_id=experiment.experiment_id, run_name=\"Segunda ejecución\", description='Ejecución con parámetros por defecto'):\n",
    "    mlflow.set_tag(\"dataset\", \"validacion\")\n",
    "    \n",
    "    mlflow.log_param(\"max_depth\", metricas['max_depth'])\n",
    "    mlflow.log_param(\"umbral_corte\", metricas['umbral_corte'])\n",
    "    \n",
    "    mlflow.log_metric(\"true negatives\", metricas['true negatives'])\n",
    "    mlflow.log_metric(\"true positives\", metricas['true positives'])\n",
    "    mlflow.log_metric(\"false positives\", metricas['false positives'])\n",
    "    mlflow.log_metric(\"false negatives\", metricas['false negatives'])\n",
    "    mlflow.log_metric(\"accuracy\", metricas['accuracy'])\n",
    "    mlflow.log_metric(\"recall\", metricas['recall'])\n",
    "    mlflow.log_metric(\"precision\", metricas['precision'])\n",
    "    mlflow.log_metric(\"specificity\", metricas['specificity'])\n",
    "    mlflow.log_metric(\"tasa falso positivo\", metricas['tasa falso positivo'])\n",
    "    mlflow.log_metric(\"tasa falso negativo\", metricas['tasa falso negativo'])\n",
    "    mlflow.log_metric(\"f1\", metricas['f1'])\n",
    "    mlflow.log_metric(\"metrica negocio\", metricas['metrica negocio'])\n",
    "    mlflow.log_metric(\"metrica optima negocio\", metricas['metrica optima negocio'])\n",
    "    \n",
    "    mlflow.sklearn.log_model(\n",
    "        sk_model=clf,\n",
    "        artifact_path=\"clasification_tree_model\"\n",
    "    )\n",
    "        \n",
    "    mlflow.end_run()"
   ]
  }
 ],
 "metadata": {
  "kernelspec": {
   "display_name": "Python 3 (ipykernel)",
   "language": "python",
   "name": "python3"
  },
  "language_info": {
   "codemirror_mode": {
    "name": "ipython",
    "version": 3
   },
   "file_extension": ".py",
   "mimetype": "text/x-python",
   "name": "python",
   "nbconvert_exporter": "python",
   "pygments_lexer": "ipython3",
   "version": "3.9.16"
  }
 },
 "nbformat": 4,
 "nbformat_minor": 5
}
