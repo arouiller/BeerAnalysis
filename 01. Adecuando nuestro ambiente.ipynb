{
 "cells": [
  {
   "cell_type": "markdown",
   "id": "897958ac-5ab5-44fe-adb8-bf304085da00",
   "metadata": {
    "tags": []
   },
   "source": [
    "# 1. Adecuando nuestro ambiente"
   ]
  },
  {
   "cell_type": "markdown",
   "id": "156fa186-1b1e-414f-8c97-a964eb8c7e9d",
   "metadata": {},
   "source": [
    "### Instalación de paquetes necesarios"
   ]
  },
  {
   "cell_type": "code",
   "execution_count": null,
   "id": "8fb3013c-e4be-48ff-b599-00dffe43ed33",
   "metadata": {
    "tags": []
   },
   "outputs": [],
   "source": [
    "!pip install pandas"
   ]
  },
  {
   "cell_type": "code",
   "execution_count": null,
   "id": "f6bef96d-99e1-41c1-8bdb-7ec118e77ba6",
   "metadata": {
    "tags": []
   },
   "outputs": [],
   "source": [
    "!pip install seaborn"
   ]
  },
  {
   "cell_type": "code",
   "execution_count": null,
   "id": "d4f040cf-b112-4ee9-ba77-9dd9f4d7f068",
   "metadata": {
    "tags": []
   },
   "outputs": [],
   "source": [
    "!pip install scikit-learn"
   ]
  },
  {
   "cell_type": "code",
   "execution_count": null,
   "id": "19eaa03f-698c-41ed-81e0-3b2559981daa",
   "metadata": {},
   "outputs": [],
   "source": [
    "!pip install pydotplus"
   ]
  },
  {
   "cell_type": "code",
   "execution_count": null,
   "id": "82a9de78-cce3-489c-aeb5-316d4edfd2d6",
   "metadata": {
    "tags": []
   },
   "outputs": [],
   "source": [
    "!pip install mlflow"
   ]
  },
  {
   "cell_type": "code",
   "execution_count": 1,
   "id": "2bf976da-e524-48e5-90d0-6851b7dfcdce",
   "metadata": {
    "tags": []
   },
   "outputs": [
    {
     "name": "stdout",
     "output_type": "stream",
     "text": [
      "Requirement already satisfied: matplotlib in c:\\users\\arouiller\\appdata\\local\\miniconda3\\envs\\python_3_9_beer_analysis\\lib\\site-packages (3.7.1)\n",
      "Requirement already satisfied: kiwisolver>=1.0.1 in c:\\users\\arouiller\\appdata\\local\\miniconda3\\envs\\python_3_9_beer_analysis\\lib\\site-packages (from matplotlib) (1.4.4)\n",
      "Requirement already satisfied: python-dateutil>=2.7 in c:\\users\\arouiller\\appdata\\local\\miniconda3\\envs\\python_3_9_beer_analysis\\lib\\site-packages (from matplotlib) (2.8.2)\n",
      "Requirement already satisfied: pyparsing>=2.3.1 in c:\\users\\arouiller\\appdata\\local\\miniconda3\\envs\\python_3_9_beer_analysis\\lib\\site-packages (from matplotlib) (3.0.9)\n",
      "Requirement already satisfied: numpy>=1.20 in c:\\users\\arouiller\\appdata\\roaming\\python\\python39\\site-packages (from matplotlib) (1.22.4)\n",
      "Requirement already satisfied: contourpy>=1.0.1 in c:\\users\\arouiller\\appdata\\local\\miniconda3\\envs\\python_3_9_beer_analysis\\lib\\site-packages (from matplotlib) (1.0.7)\n",
      "Requirement already satisfied: fonttools>=4.22.0 in c:\\users\\arouiller\\appdata\\local\\miniconda3\\envs\\python_3_9_beer_analysis\\lib\\site-packages (from matplotlib) (4.39.3)\n",
      "Requirement already satisfied: cycler>=0.10 in c:\\users\\arouiller\\appdata\\local\\miniconda3\\envs\\python_3_9_beer_analysis\\lib\\site-packages (from matplotlib) (0.11.0)\n",
      "Requirement already satisfied: importlib-resources>=3.2.0 in c:\\users\\arouiller\\appdata\\local\\miniconda3\\envs\\python_3_9_beer_analysis\\lib\\site-packages (from matplotlib) (5.12.0)\n",
      "Requirement already satisfied: pillow>=6.2.0 in c:\\users\\arouiller\\appdata\\local\\miniconda3\\envs\\python_3_9_beer_analysis\\lib\\site-packages (from matplotlib) (9.5.0)\n",
      "Requirement already satisfied: packaging>=20.0 in c:\\users\\arouiller\\appdata\\local\\miniconda3\\envs\\python_3_9_beer_analysis\\lib\\site-packages (from matplotlib) (23.1)\n",
      "Requirement already satisfied: zipp>=3.1.0 in c:\\users\\arouiller\\appdata\\local\\miniconda3\\envs\\python_3_9_beer_analysis\\lib\\site-packages (from importlib-resources>=3.2.0->matplotlib) (3.15.0)\n",
      "Requirement already satisfied: six>=1.5 in c:\\users\\arouiller\\appdata\\local\\miniconda3\\envs\\python_3_9_beer_analysis\\lib\\site-packages (from python-dateutil>=2.7->matplotlib) (1.16.0)\n"
     ]
    }
   ],
   "source": [
    "!pip install matplotlib"
   ]
  },
  {
   "cell_type": "code",
   "execution_count": 3,
   "id": "e5233d8e-b54e-49f9-a6cc-8d56557bef1c",
   "metadata": {
    "tags": []
   },
   "outputs": [
    {
     "name": "stdout",
     "output_type": "stream",
     "text": [
      "Requirement already satisfied: plotly in c:\\users\\arouiller\\appdata\\local\\miniconda3\\envs\\python_3_9_beer_analysis\\lib\\site-packages (5.14.1)\n",
      "Requirement already satisfied: packaging in c:\\users\\arouiller\\appdata\\local\\miniconda3\\envs\\python_3_9_beer_analysis\\lib\\site-packages (from plotly) (23.1)\n",
      "Requirement already satisfied: tenacity>=6.2.0 in c:\\users\\arouiller\\appdata\\local\\miniconda3\\envs\\python_3_9_beer_analysis\\lib\\site-packages (from plotly) (8.2.2)\n"
     ]
    }
   ],
   "source": [
    "!pip install plotly"
   ]
  },
  {
   "cell_type": "code",
   "execution_count": 4,
   "id": "70e11811-37fc-4361-9170-ede7057b6751",
   "metadata": {
    "tags": []
   },
   "outputs": [
    {
     "name": "stdout",
     "output_type": "stream",
     "text": [
      "Requirement already satisfied: pydotplus in c:\\users\\arouiller\\appdata\\local\\miniconda3\\envs\\python_3_9_beer_analysis\\lib\\site-packages (2.0.2)\n",
      "Requirement already satisfied: pyparsing>=2.0.1 in c:\\users\\arouiller\\appdata\\local\\miniconda3\\envs\\python_3_9_beer_analysis\\lib\\site-packages (from pydotplus) (3.0.9)\n"
     ]
    }
   ],
   "source": [
    "!pip install pydotplus"
   ]
  },
  {
   "cell_type": "code",
   "execution_count": null,
   "id": "8e660902-aaf0-431c-a6e4-f80b24d02a06",
   "metadata": {},
   "outputs": [],
   "source": [
    "!pip install shap"
   ]
  }
 ],
 "metadata": {
  "kernelspec": {
   "display_name": "Python 3 (ipykernel)",
   "language": "python",
   "name": "python3"
  },
  "language_info": {
   "codemirror_mode": {
    "name": "ipython",
    "version": 3
   },
   "file_extension": ".py",
   "mimetype": "text/x-python",
   "name": "python",
   "nbconvert_exporter": "python",
   "pygments_lexer": "ipython3",
   "version": "3.9.16"
  }
 },
 "nbformat": 4,
 "nbformat_minor": 5
}
