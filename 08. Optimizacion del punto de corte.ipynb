{
 "cells": [
  {
   "cell_type": "markdown",
   "id": "f40b2343-23cc-4478-9aac-aad33a4b2da7",
   "metadata": {},
   "source": [
    "# 8. Optimización del punto de corte"
   ]
  },
  {
   "cell_type": "markdown",
   "id": "30332897-7eaf-462e-b73c-751f9614bce3",
   "metadata": {
    "tags": []
   },
   "source": [
    "## Importamos paquetes necesarios"
   ]
  },
  {
   "cell_type": "code",
   "execution_count": 1,
   "id": "2a1530cc-481e-4d1a-8a60-693577d7f6b6",
   "metadata": {
    "tags": []
   },
   "outputs": [],
   "source": [
    "import pandas as pd\n",
    "import numpy as np\n",
    "import pydotplus\n",
    "\n",
    "import matplotlib.pyplot as plt\n",
    "import seaborn as sns\n",
    "\n",
    "from sklearn.model_selection import train_test_split\n",
    "from sklearn.metrics import ConfusionMatrixDisplay\n",
    "from sklearn.metrics import confusion_matrix\n",
    "from sklearn.tree import export_graphviz\n",
    "\n",
    "from sklearn.model_selection import KFold\n",
    "from sklearn.model_selection import cross_val_score\n",
    "from sklearn.model_selection import cross_validate\n",
    "from sklearn.tree import DecisionTreeClassifier\n",
    "\n",
    "from skopt import gp_minimize\n",
    "from skopt.space import Categorical, Dimension, Integer, Real  # noqa\n",
    "\n",
    "from IPython.display import Image  \n",
    "\n",
    "import graphviz_tools as agt\n",
    "import mlflow_utils as a_mlflow_u\n",
    "import tree_utils as atu"
   ]
  },
  {
   "cell_type": "markdown",
   "id": "521c0be0-a693-4bcd-9eb0-3ee15e3ca3eb",
   "metadata": {},
   "source": [
    "## Cargamos nuestros dataset"
   ]
  },
  {
   "cell_type": "code",
   "execution_count": 2,
   "id": "ed045b71-c7d5-44fd-9a28-4cedbbde4fa8",
   "metadata": {},
   "outputs": [
    {
     "data": {
      "text/html": [
       "<div>\n",
       "<style scoped>\n",
       "    .dataframe tbody tr th:only-of-type {\n",
       "        vertical-align: middle;\n",
       "    }\n",
       "\n",
       "    .dataframe tbody tr th {\n",
       "        vertical-align: top;\n",
       "    }\n",
       "\n",
       "    .dataframe thead th {\n",
       "        text-align: right;\n",
       "    }\n",
       "</style>\n",
       "<table border=\"1\" class=\"dataframe\">\n",
       "  <thead>\n",
       "    <tr style=\"text-align: right;\">\n",
       "      <th></th>\n",
       "      <th>beer_abv</th>\n",
       "      <th>review_aroma</th>\n",
       "      <th>review_appearance</th>\n",
       "      <th>review_taste</th>\n",
       "      <th>review_overall</th>\n",
       "      <th>review_palate</th>\n",
       "      <th>es_popular</th>\n",
       "    </tr>\n",
       "  </thead>\n",
       "  <tbody>\n",
       "    <tr>\n",
       "      <th>0</th>\n",
       "      <td>6.0</td>\n",
       "      <td>3.564000</td>\n",
       "      <td>3.736000</td>\n",
       "      <td>3.592000</td>\n",
       "      <td>3.776000</td>\n",
       "      <td>3.620000</td>\n",
       "      <td>NO</td>\n",
       "    </tr>\n",
       "    <tr>\n",
       "      <th>1</th>\n",
       "      <td>4.5</td>\n",
       "      <td>2.608108</td>\n",
       "      <td>3.351351</td>\n",
       "      <td>2.743243</td>\n",
       "      <td>2.945946</td>\n",
       "      <td>3.054054</td>\n",
       "      <td>NO</td>\n",
       "    </tr>\n",
       "    <tr>\n",
       "      <th>2</th>\n",
       "      <td>4.4</td>\n",
       "      <td>3.727273</td>\n",
       "      <td>3.727273</td>\n",
       "      <td>3.545455</td>\n",
       "      <td>3.545455</td>\n",
       "      <td>3.545455</td>\n",
       "      <td>NO</td>\n",
       "    </tr>\n",
       "    <tr>\n",
       "      <th>3</th>\n",
       "      <td>7.5</td>\n",
       "      <td>3.750000</td>\n",
       "      <td>3.500000</td>\n",
       "      <td>3.750000</td>\n",
       "      <td>3.750000</td>\n",
       "      <td>4.000000</td>\n",
       "      <td>NO</td>\n",
       "    </tr>\n",
       "    <tr>\n",
       "      <th>4</th>\n",
       "      <td>7.8</td>\n",
       "      <td>2.500000</td>\n",
       "      <td>3.500000</td>\n",
       "      <td>3.500000</td>\n",
       "      <td>3.500000</td>\n",
       "      <td>3.500000</td>\n",
       "      <td>NO</td>\n",
       "    </tr>\n",
       "  </tbody>\n",
       "</table>\n",
       "</div>"
      ],
      "text/plain": [
       "   beer_abv  review_aroma  review_appearance  review_taste  review_overall   \n",
       "0       6.0      3.564000           3.736000      3.592000        3.776000  \\\n",
       "1       4.5      2.608108           3.351351      2.743243        2.945946   \n",
       "2       4.4      3.727273           3.727273      3.545455        3.545455   \n",
       "3       7.5      3.750000           3.500000      3.750000        3.750000   \n",
       "4       7.8      2.500000           3.500000      3.500000        3.500000   \n",
       "\n",
       "   review_palate es_popular  \n",
       "0       3.620000         NO  \n",
       "1       3.054054         NO  \n",
       "2       3.545455         NO  \n",
       "3       4.000000         NO  \n",
       "4       3.500000         NO  "
      ]
     },
     "execution_count": 2,
     "metadata": {},
     "output_type": "execute_result"
    }
   ],
   "source": [
    "file_cervezas_unicas_resumen_valores_con_clase_training = 'dataset/cervezas_unicas_resumen_valores_con_clase_train.csv'\n",
    "file_cervezas_unicas_resumen_valores_con_clase_testing = 'dataset/cervezas_unicas_resumen_valores_con_clase_test.csv'\n",
    "\n",
    "campos = ['beer_abv', 'review_aroma', 'review_appearance', 'review_taste', 'review_overall', 'review_palate', 'es_popular']\n",
    "\n",
    "df_training_validacion = pd.read_csv(file_cervezas_unicas_resumen_valores_con_clase_training)\n",
    "df_testing = pd.read_csv(file_cervezas_unicas_resumen_valores_con_clase_testing)\n",
    "\n",
    "df_training_validacion = df_training_validacion.loc[:, campos]\n",
    "df_testing = df_testing.loc[:, campos]\n",
    "\n",
    "df_training_validacion.head()"
   ]
  },
  {
   "cell_type": "markdown",
   "id": "ef4ac7a4-c17e-4793-bc62-ffc8a12b8b3c",
   "metadata": {},
   "source": [
    "## Separamos en training y validacion"
   ]
  },
  {
   "cell_type": "code",
   "execution_count": 3,
   "id": "1109ae17-3285-47dd-a8c8-608d65f68f8e",
   "metadata": {
    "tags": []
   },
   "outputs": [],
   "source": [
    "random_state = 1\n",
    "test_size = 0.3\n",
    "\n",
    "atributos = ['beer_abv', 'review_aroma', 'review_appearance', 'review_taste', 'review_overall', 'review_palate']\n",
    "clase = ['es_popular']\n",
    "\n",
    "Y_df_training_validacion = df_training_validacion.loc[:, clase]\n",
    "df_training_validacion = df_training_validacion.loc[:, atributos]\n",
    "\n",
    "X_train, X_validacion, Y_train, Y_validacion = train_test_split(\n",
    "    df_training_validacion, \n",
    "    Y_df_training_validacion, \n",
    "    test_size=test_size, \n",
    "    random_state=random_state\n",
    ")"
   ]
  },
  {
   "cell_type": "markdown",
   "id": "72986fd7-057e-4515-b16a-cc2ff0234b5c",
   "metadata": {},
   "source": [
    "### Tambien abrimos en X e Y el dataset de testing"
   ]
  },
  {
   "cell_type": "code",
   "execution_count": 4,
   "id": "5966e938-0962-4d32-98dc-e3ad12b5873b",
   "metadata": {
    "tags": []
   },
   "outputs": [],
   "source": [
    "X_testing = df_testing.loc[:, atributos]\n",
    "Y_testing = df_testing.loc[:, clase]"
   ]
  },
  {
   "cell_type": "markdown",
   "id": "c8067575-c294-4a29-a3cd-e60f9a8cfb0a",
   "metadata": {},
   "source": [
    "### Modelo con el nuevo dataset"
   ]
  },
  {
   "cell_type": "code",
   "execution_count": 5,
   "id": "70070f66-d9aa-4309-b999-1d6541c89546",
   "metadata": {
    "tags": []
   },
   "outputs": [],
   "source": [
    "max_depth = 4\n",
    "#criterion='entropy'\n",
    "criterion='gini'\n",
    "#criterion='log_loss'\n",
    "clf = DecisionTreeClassifier(\n",
    "            criterion = criterion,\n",
    "            max_depth=max_depth,\n",
    "            random_state=1\n",
    "        )\n",
    "_ = clf.fit(X_train, Y_train)"
   ]
  },
  {
   "cell_type": "code",
   "execution_count": 6,
   "id": "ceac01b7-5a45-4f5b-aa88-1789bb7cd1f1",
   "metadata": {
    "tags": []
   },
   "outputs": [
    {
     "data": {
      "text/plain": [
       "[[0.0, -0.3952569169960474],\n",
       " [0.1, -0.3952569169960474],\n",
       " [0.2, -0.3952569169960474],\n",
       " [0.3, -0.3952569169960474],\n",
       " [0.4, -0.3952569169960474],\n",
       " [0.5, 5.533596837944664],\n",
       " [0.6, 5.533596837944664],\n",
       " [0.7, 107.5098814229249],\n",
       " [0.8, 578.6561264822135],\n",
       " [0.9, 1850.592885375494],\n",
       " [1, 131.62055335968378]]"
      ]
     },
     "execution_count": 6,
     "metadata": {},
     "output_type": "execute_result"
    }
   ],
   "source": [
    "resultados = []\n",
    "\n",
    "Y_validacion_pred = clf.predict_proba(X_validacion)\n",
    "df_y_validacion_pred_proba = pd.DataFrame(Y_validacion_pred, columns = ['NO_prob', 'SI_prob'])\n",
    "\n",
    "for umbral_corte in [0.0, 0.1, 0.2, 0.3, 0.4, 0.5, 0.6, 0.7, 0.8, 0.9, 1]:\n",
    "    \n",
    "    y_validacion_pred = atu.evaluar_corte(df_y_validacion_pred_proba['NO_prob'].values, umbral_corte, 'SI', 'NO')\n",
    "    \n",
    "    resultado = atu.calcular_metricas(\n",
    "        y_true=Y_validacion['es_popular'].values, \n",
    "        y_pred = y_validacion_pred, \n",
    "        labels = ['NO', 'SI'])\n",
    "    resultados.append([umbral_corte, resultado['metrica negocio']])\n",
    "    \n",
    "resultados"
   ]
  },
  {
   "cell_type": "code",
   "execution_count": 7,
   "id": "b728ee95-301d-490a-bb1d-534128a65211",
   "metadata": {},
   "outputs": [
    {
     "data": {
      "image/png": "[encoded data removed]",
      "text/plain": [
       "<Figure size 640x480 with 1 Axes>"
      ]
     },
     "metadata": {},
     "output_type": "display_data"
    }
   ],
   "source": [
    "sns.set_style(\"ticks\",{'axes.grid' : True})\n",
    "\n",
    "chart_df = pd.DataFrame(data = resultados, columns=['x', 'y'])\n",
    "g1 = sns.lineplot(data=chart_df, x=\"x\", y=\"y\")\n",
    "g1.set(xlabel='umbral de corte', ylabel='metrica del negocio')\n",
    "plt.show()"
   ]
  },
  {
   "cell_type": "code",
   "execution_count": 8,
   "id": "8dec7d13-0abc-497a-ae7a-3ca173f5fee4",
   "metadata": {
    "tags": []
   },
   "outputs": [],
   "source": [
    "def f(umbral_corte):\n",
    "    y_validacion_pred = atu.evaluar_corte(df_y_validacion_pred_proba['NO_prob'].values, umbral_corte, 'SI', 'NO')\n",
    "    \n",
    "    resultado = atu.calcular_metricas(\n",
    "        y_true = Y_validacion['es_popular'].values, \n",
    "        y_pred = y_validacion_pred, \n",
    "        labels = ['NO', 'SI'])\n",
    "    return -resultado['metrica negocio']"
   ]
  },
  {
   "cell_type": "code",
   "execution_count": 9,
   "id": "c8e4385a-150a-40f7-9606-5cde6122e8a6",
   "metadata": {
    "tags": []
   },
   "outputs": [
    {
     "name": "stdout",
     "output_type": "stream",
     "text": [
      "[1, 107.5098814229249]\n",
      "[2, 107.5098814229249]\n",
      "[3, 107.5098814229249]\n",
      "[4, 107.5098814229249]\n",
      "[5, 107.5098814229249]\n",
      "[6, 107.5098814229249]\n",
      "[7, 107.5098814229249]\n",
      "[8, 800.0]\n",
      "[9, 800.0]\n",
      "[10, 800.0]\n",
      "[11, 1917.7865612648222]\n",
      "[12, 1917.7865612648222]\n",
      "[13, 1917.7865612648222]\n",
      "[14, 1917.7865612648222]\n",
      "[15, 1917.7865612648222]\n",
      "[16, 1917.7865612648222]\n",
      "[17, 1917.7865612648222]\n",
      "[18, 1917.7865612648222]\n",
      "[19, 1917.7865612648222]\n",
      "[20, 1917.7865612648222]\n",
      "[21, 1917.7865612648222]\n",
      "[22, 1917.7865612648222]\n",
      "[23, 1917.7865612648222]\n",
      "[24, 1917.7865612648222]\n",
      "[25, 1917.7865612648222]\n",
      "[26, 1917.7865612648222]\n",
      "[27, 1917.7865612648222]\n",
      "[28, 1917.7865612648222]\n",
      "[29, 1917.7865612648222]\n",
      "[30, 1917.7865612648222]\n",
      "[31, 1917.7865612648222]\n",
      "[32, 1917.7865612648222]\n",
      "[33, 1917.7865612648222]\n",
      "[34, 1917.7865612648222]\n",
      "[35, 1917.7865612648222]\n",
      "[36, 1917.7865612648222]\n",
      "[37, 1917.7865612648222]\n",
      "[38, 1917.7865612648222]\n",
      "[39, 1917.7865612648222]\n",
      "[40, 1917.7865612648222]\n",
      "[41, 1917.7865612648222]\n",
      "[42, 1917.7865612648222]\n",
      "[43, 1917.7865612648222]\n",
      "[44, 1917.7865612648222]\n",
      "[45, 1917.7865612648222]\n",
      "[46, 1917.7865612648222]\n",
      "[47, 1917.7865612648222]\n",
      "[48, 1917.7865612648222]\n",
      "[49, 1917.7865612648222]\n",
      "[50, 1917.7865612648222]\n"
     ]
    }
   ],
   "source": [
    "space  = [\n",
    "    Real(0.00001, 0.99999, name='umbral_corte')\n",
    "]\n",
    "\n",
    "res = gp_minimize(f,                  # the function to minimize\n",
    "                  space,     # the bounds on each dimension of x\n",
    "                  n_initial_points = 10,\n",
    "                  n_calls=50,         # the number of evaluations of f including at x0\n",
    "                  n_random_starts=10,  # the number of random initialization points\n",
    "                  random_state=777,\n",
    "                  callback = lambda res: print([len(res.func_vals), -res.fun])\n",
    "                 )"
   ]
  },
  {
   "cell_type": "code",
   "execution_count": 10,
   "id": "8b80e56c-7563-42ae-853f-d29d6beab625",
   "metadata": {
    "tags": []
   },
   "outputs": [
    {
     "data": {
      "image/png": "[encoded data removed]",
      "text/plain": [
       "<Figure size 640x480 with 1 Axes>"
      ]
     },
     "metadata": {},
     "output_type": "display_data"
    }
   ],
   "source": [
    "sns.set_style(\"ticks\",{'axes.grid' : True})\n",
    "\n",
    "chart_df = pd.DataFrame(data = np.array(res.x_iters).reshape(1, -1)[0], columns=['x'])\n",
    "chart_df['y'] = -res.func_vals \n",
    "g1 = sns.lineplot(data=chart_df, x=\"x\", y=\"y\")\n",
    "g1.set(xlabel='umbral de corte', ylabel='metrica del negocio')\n",
    "plt.show()\n"
   ]
  },
  {
   "cell_type": "code",
   "execution_count": 11,
   "id": "e7f48721-8a56-4c0c-9a74-ffc43c5e2d2b",
   "metadata": {
    "tags": []
   },
   "outputs": [
    {
     "data": {
      "text/plain": [
       "[[0.95273898410968], 1917.7865612648222]"
      ]
     },
     "execution_count": 11,
     "metadata": {},
     "output_type": "execute_result"
    }
   ],
   "source": [
    "[res.x, -res.fun]"
   ]
  },
  {
   "cell_type": "markdown",
   "id": "1cdf45f8-3043-4874-b07e-5c2e3b5803a4",
   "metadata": {},
   "source": [
    "### Probamos el umbral en validacion (ya lo probamos.. pero lo vamos a registrar)"
   ]
  },
  {
   "cell_type": "code",
   "execution_count": 12,
   "id": "54111087-14db-4b73-a7c3-f0e106d2a093",
   "metadata": {
    "tags": []
   },
   "outputs": [
    {
     "data": {
      "text/plain": [
       "[{'true negatives': 7359,\n",
       "  'true positives': 364,\n",
       "  'false positives': 2428,\n",
       "  'false negatives': 142,\n",
       "  'accuracy': 0.7503,\n",
       "  'recall': 0.7194,\n",
       "  'precision': 0.1304,\n",
       "  'specificity': 0.7519,\n",
       "  'tasa falso positivo': 0.2481,\n",
       "  'tasa falso negativo': 0.0145,\n",
       "  'f1': 0.2207,\n",
       "  'metrica negocio': 1917.7865612648222,\n",
       "  'metrica optima negocio': 4000.0},\n",
       " {'max_depth': 4, 'umbral_corte': [0.95273898410968]}]"
      ]
     },
     "execution_count": 12,
     "metadata": {},
     "output_type": "execute_result"
    }
   ],
   "source": [
    "umbral_corte = res.x\n",
    "\n",
    "y_validacion_pred = clf.predict_proba(X_validacion)\n",
    "\n",
    "df_y_validacion_pred_proba = pd.DataFrame(y_validacion_pred, columns = ['NO_prob', 'SI_prob'])\n",
    "\n",
    "y_validacion_pred = atu.evaluar_corte(df_y_validacion_pred_proba['NO_prob'].values, umbral_corte, 'SI', 'NO')\n",
    "\n",
    "metricas = atu.calcular_metricas(\n",
    "    y_true = Y_validacion['es_popular'].values, \n",
    "    y_pred = y_validacion_pred, \n",
    "    labels=['NO', 'SI']\n",
    ")\n",
    "\n",
    "parametros = {\n",
    "    'max_depth' : max_depth,\n",
    "    'umbral_corte' : umbral_corte\n",
    "}\n",
    "    \n",
    "[metricas, parametros]"
   ]
  },
  {
   "cell_type": "code",
   "execution_count": 13,
   "id": "ca95fa48-da0d-48fa-99f7-b18dbfd7545b",
   "metadata": {
    "tags": []
   },
   "outputs": [
    {
     "name": "stderr",
     "output_type": "stream",
     "text": [
      "C:\\Users\\arouiller\\AppData\\Local\\miniconda3\\envs\\python_3_9_beer_analysis\\lib\\site-packages\\_distutils_hack\\__init__.py:33: UserWarning: Setuptools is replacing distutils.\n",
      "  warnings.warn(\"Setuptools is replacing distutils.\")\n"
     ]
    }
   ],
   "source": [
    "a_mlflow_u.log_experimento(\n",
    "    host = 'http://localhost:5000', \n",
    "    nombre_experimento=\"AnalisisDeCervezas\", \n",
    "    run_name=\"Tercera ejecucion\", \n",
    "    descripcion=\"Rpart con umbral de corte modificado utilizando optimización gausiana\", \n",
    "    dataset_tag=\"testing\", \n",
    "    parametros=parametros, \n",
    "    metricas=metricas,\n",
    "    model=clf, \n",
    "    artifact_path=\"model\"\n",
    ")"
   ]
  },
  {
   "cell_type": "markdown",
   "id": "adf01df5-c98d-4cd6-9dc5-9184e6cf2950",
   "metadata": {},
   "source": [
    "### Probamos el umbral de corte en testing"
   ]
  },
  {
   "cell_type": "code",
   "execution_count": 14,
   "id": "bc064484-344a-4271-8f73-f28a812a45c4",
   "metadata": {
    "tags": []
   },
   "outputs": [
    {
     "data": {
      "text/plain": [
       "[{'true negatives': 10555,\n",
       "  'true positives': 549,\n",
       "  'false positives': 3411,\n",
       "  'false negatives': 189,\n",
       "  'accuracy': 0.7552,\n",
       "  'recall': 0.7439,\n",
       "  'precision': 0.1386,\n",
       "  'specificity': 0.7558,\n",
       "  'tasa falso positivo': 0.2442,\n",
       "  'tasa falso negativo': 0.0135,\n",
       "  'f1': 0.2337,\n",
       "  'metrica negocio': 2051.2195121951218,\n",
       "  'metrica optima negocio': 4000.0,\n",
       "  'max_depth': 4,\n",
       "  'umbral_corte': 0.95273898410968},\n",
       " {'max_depth': 4, 'umbral_corte': 0.95273898410968}]"
      ]
     },
     "execution_count": 14,
     "metadata": {},
     "output_type": "execute_result"
    }
   ],
   "source": [
    "umbral_corte = res.x[0]\n",
    "y_testing_pred = clf.predict_proba(X_testing)\n",
    "\n",
    "df_y_testing_pred_proba = pd.DataFrame(y_testing_pred, columns = ['NO_prob', 'SI_prob'])\n",
    "\n",
    "y_testing_pred = atu.evaluar_corte(df_y_testing_pred_proba['NO_prob'].values, umbral_corte, 'SI', 'NO')\n",
    "\n",
    "metricas = atu.calcular_metricas(\n",
    "    y_true = Y_testing['es_popular'].values, \n",
    "    y_pred = y_testing_pred, \n",
    "    labels=['NO', 'SI']\n",
    ")\n",
    "\n",
    "metricas['max_depth'] = max_depth\n",
    "metricas['umbral_corte'] = umbral_corte\n",
    "    \n",
    "parametros = {\n",
    "    'max_depth' : max_depth,\n",
    "    'umbral_corte' : umbral_corte\n",
    "}\n",
    "    \n",
    "[metricas, parametros]"
   ]
  },
  {
   "cell_type": "code",
   "execution_count": 15,
   "id": "a5434837-b027-459b-8ecd-fc2cb42c04d0",
   "metadata": {},
   "outputs": [],
   "source": [
    "a_mlflow_u.log_experimento(\n",
    "    host = 'http://localhost:5000', \n",
    "    nombre_experimento=\"AnalisisDeCervezas\", \n",
    "    run_name=\"Tercera ejecucion\", \n",
    "    descripcion=\"Rpart con umbral de corte modificado utilizando optimización gausiana\", \n",
    "    dataset_tag=\"validacion\", \n",
    "    parametros=parametros, \n",
    "    metricas=metricas,\n",
    "    model=clf, \n",
    "    artifact_path=\"model\"\n",
    ")"
   ]
  }
 ],
 "metadata": {
  "kernelspec": {
   "display_name": "Python 3 (ipykernel)",
   "language": "python",
   "name": "python3"
  },
  "language_info": {
   "codemirror_mode": {
    "name": "ipython",
    "version": 3
   },
   "file_extension": ".py",
   "mimetype": "text/x-python",
   "name": "python",
   "nbconvert_exporter": "python",
   "pygments_lexer": "ipython3",
   "version": "3.9.16"
  }
 },
 "nbformat": 4,
 "nbformat_minor": 5
}
