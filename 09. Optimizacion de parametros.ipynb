{
 "cells": [
  {
   "cell_type": "markdown",
   "id": "f35f0b59-701d-4214-888d-81af796adeba",
   "metadata": {},
   "source": [
    "# 8. Primera optimización de parámetros"
   ]
  },
  {
   "cell_type": "markdown",
   "id": "30332897-7eaf-462e-b73c-751f9614bce3",
   "metadata": {
    "tags": []
   },
   "source": [
    "## Importamos paquetes necesarios"
   ]
  },
  {
   "cell_type": "code",
   "execution_count": 1,
   "id": "2a1530cc-481e-4d1a-8a60-693577d7f6b6",
   "metadata": {
    "tags": []
   },
   "outputs": [],
   "source": [
    "import pandas as pd\n",
    "import numpy as np\n",
    "import pydotplus\n",
    "\n",
    "import matplotlib.pyplot as plt\n",
    "import seaborn as sns\n",
    "\n",
    "from sklearn.model_selection import train_test_split\n",
    "from sklearn.metrics import ConfusionMatrixDisplay\n",
    "from sklearn.metrics import confusion_matrix\n",
    "from sklearn.tree import export_graphviz\n",
    "\n",
    "from sklearn.model_selection import KFold\n",
    "from sklearn.model_selection import cross_val_score\n",
    "from sklearn.model_selection import cross_validate\n",
    "from sklearn.tree import DecisionTreeClassifier\n",
    "\n",
    "from skopt import gp_minimize\n",
    "from skopt.space import Categorical, Dimension, Integer, Real  # noqa\n",
    "\n",
    "from IPython.display import Image  \n",
    "\n",
    "import graphviz_tools as agt\n",
    "import mlflow_utils as a_mlflow_u\n",
    "import tree_utils as atu"
   ]
  },
  {
   "cell_type": "markdown",
   "id": "521c0be0-a693-4bcd-9eb0-3ee15e3ca3eb",
   "metadata": {},
   "source": [
    "## Cargamos nuestros dataset"
   ]
  },
  {
   "cell_type": "code",
   "execution_count": 2,
   "id": "ed045b71-c7d5-44fd-9a28-4cedbbde4fa8",
   "metadata": {},
   "outputs": [
    {
     "data": {
      "text/html": [
       "<div>\n",
       "<style scoped>\n",
       "    .dataframe tbody tr th:only-of-type {\n",
       "        vertical-align: middle;\n",
       "    }\n",
       "\n",
       "    .dataframe tbody tr th {\n",
       "        vertical-align: top;\n",
       "    }\n",
       "\n",
       "    .dataframe thead th {\n",
       "        text-align: right;\n",
       "    }\n",
       "</style>\n",
       "<table border=\"1\" class=\"dataframe\">\n",
       "  <thead>\n",
       "    <tr style=\"text-align: right;\">\n",
       "      <th></th>\n",
       "      <th>beer_abv</th>\n",
       "      <th>review_aroma</th>\n",
       "      <th>review_appearance</th>\n",
       "      <th>review_taste</th>\n",
       "      <th>review_overall</th>\n",
       "      <th>review_palate</th>\n",
       "      <th>es_popular</th>\n",
       "    </tr>\n",
       "  </thead>\n",
       "  <tbody>\n",
       "    <tr>\n",
       "      <th>0</th>\n",
       "      <td>6.0</td>\n",
       "      <td>3.564000</td>\n",
       "      <td>3.736000</td>\n",
       "      <td>3.592000</td>\n",
       "      <td>3.776000</td>\n",
       "      <td>3.620000</td>\n",
       "      <td>NO</td>\n",
       "    </tr>\n",
       "    <tr>\n",
       "      <th>1</th>\n",
       "      <td>4.5</td>\n",
       "      <td>2.608108</td>\n",
       "      <td>3.351351</td>\n",
       "      <td>2.743243</td>\n",
       "      <td>2.945946</td>\n",
       "      <td>3.054054</td>\n",
       "      <td>NO</td>\n",
       "    </tr>\n",
       "    <tr>\n",
       "      <th>2</th>\n",
       "      <td>4.4</td>\n",
       "      <td>3.727273</td>\n",
       "      <td>3.727273</td>\n",
       "      <td>3.545455</td>\n",
       "      <td>3.545455</td>\n",
       "      <td>3.545455</td>\n",
       "      <td>NO</td>\n",
       "    </tr>\n",
       "    <tr>\n",
       "      <th>3</th>\n",
       "      <td>7.5</td>\n",
       "      <td>3.750000</td>\n",
       "      <td>3.500000</td>\n",
       "      <td>3.750000</td>\n",
       "      <td>3.750000</td>\n",
       "      <td>4.000000</td>\n",
       "      <td>NO</td>\n",
       "    </tr>\n",
       "    <tr>\n",
       "      <th>4</th>\n",
       "      <td>7.8</td>\n",
       "      <td>2.500000</td>\n",
       "      <td>3.500000</td>\n",
       "      <td>3.500000</td>\n",
       "      <td>3.500000</td>\n",
       "      <td>3.500000</td>\n",
       "      <td>NO</td>\n",
       "    </tr>\n",
       "  </tbody>\n",
       "</table>\n",
       "</div>"
      ],
      "text/plain": [
       "   beer_abv  review_aroma  review_appearance  review_taste  review_overall   \n",
       "0       6.0      3.564000           3.736000      3.592000        3.776000  \\\n",
       "1       4.5      2.608108           3.351351      2.743243        2.945946   \n",
       "2       4.4      3.727273           3.727273      3.545455        3.545455   \n",
       "3       7.5      3.750000           3.500000      3.750000        3.750000   \n",
       "4       7.8      2.500000           3.500000      3.500000        3.500000   \n",
       "\n",
       "   review_palate es_popular  \n",
       "0       3.620000         NO  \n",
       "1       3.054054         NO  \n",
       "2       3.545455         NO  \n",
       "3       4.000000         NO  \n",
       "4       3.500000         NO  "
      ]
     },
     "execution_count": 2,
     "metadata": {},
     "output_type": "execute_result"
    }
   ],
   "source": [
    "file_cervezas_unicas_resumen_valores_con_clase_training = 'dataset/cervezas_unicas_resumen_valores_con_clase_train.csv'\n",
    "file_cervezas_unicas_resumen_valores_con_clase_testing = 'dataset/cervezas_unicas_resumen_valores_con_clase_test.csv'\n",
    "\n",
    "campos = ['beer_abv', 'review_aroma', 'review_appearance', 'review_taste', 'review_overall', 'review_palate', 'es_popular']\n",
    "\n",
    "df_training_validacion = pd.read_csv(file_cervezas_unicas_resumen_valores_con_clase_training)\n",
    "df_testing = pd.read_csv(file_cervezas_unicas_resumen_valores_con_clase_testing)\n",
    "\n",
    "df_training_validacion = df_training_validacion.loc[:, campos]\n",
    "df_testing = df_testing.loc[:, campos]\n",
    "\n",
    "df_training_validacion.head()"
   ]
  },
  {
   "cell_type": "code",
   "execution_count": 3,
   "id": "1109ae17-3285-47dd-a8c8-608d65f68f8e",
   "metadata": {
    "tags": []
   },
   "outputs": [],
   "source": [
    "random_state = 1\n",
    "test_size = 0.3\n",
    "\n",
    "atributos = ['beer_abv', 'review_aroma', 'review_appearance', 'review_taste', 'review_overall', 'review_palate']\n",
    "clase = ['es_popular']\n",
    "\n",
    "Y_df_training_validacion = df_training_validacion.loc[:, clase]\n",
    "df_training_validacion = df_training_validacion.loc[:, atributos]"
   ]
  },
  {
   "cell_type": "markdown",
   "id": "72986fd7-057e-4515-b16a-cc2ff0234b5c",
   "metadata": {},
   "source": [
    "### Tambien abrimos en X e Y el dataset de testing"
   ]
  },
  {
   "cell_type": "code",
   "execution_count": 4,
   "id": "5966e938-0962-4d32-98dc-e3ad12b5873b",
   "metadata": {
    "tags": []
   },
   "outputs": [],
   "source": [
    "X_testing = df_testing.loc[:, atributos]\n",
    "Y_testing = df_testing.loc[:, clase]"
   ]
  },
  {
   "cell_type": "markdown",
   "id": "4723c646-2160-4518-a5ae-9e0599ff94f6",
   "metadata": {},
   "source": [
    "## Optimización del modelo"
   ]
  },
  {
   "cell_type": "markdown",
   "id": "31b8edb0-fef3-4a8a-b66f-b1aed7a89fa9",
   "metadata": {
    "tags": []
   },
   "source": [
    "# <span style=\"color:RED\"> EXPLICAR CROSS VALIDATION </span>"
   ]
  },
  {
   "cell_type": "code",
   "execution_count": 5,
   "id": "1170105e-60e9-4107-bd18-0de753b1bfce",
   "metadata": {
    "tags": []
   },
   "outputs": [
    {
     "data": {
      "text/plain": [
       "1963.86"
      ]
     },
     "execution_count": 5,
     "metadata": {},
     "output_type": "execute_result"
    }
   ],
   "source": [
    "def cv_con_umbral_de_corte(params):\n",
    "    umbral_corte = params[0]\n",
    "    max_depth = params[1]\n",
    "    X = df_training_validacion\n",
    "    y = Y_df_training_validacion\n",
    "    #criterion='entropy'\n",
    "    criterion='gini'\n",
    "    #criterion='log_loss'\n",
    "    clf = DecisionTreeClassifier(\n",
    "                criterion = criterion,\n",
    "                max_depth=max_depth,\n",
    "                random_state=1\n",
    "            )\n",
    "\n",
    "    # 5-fold cross validation\n",
    "    cv = KFold(n_splits=5, shuffle=True, random_state=42)\n",
    "\n",
    "    def all_metrics(clf, X, y):\n",
    "        y_pred = clf.predict_proba(X)\n",
    "        df_y_pred_proba = pd.DataFrame(y_pred, columns = ['NO_prob', 'SI_prob'])\n",
    "        \n",
    "        y_pred = atu.evaluar_corte(df_y_pred_proba['NO_prob'].values, umbral_corte, 'SI', 'NO')\n",
    "\n",
    "        metricas = atu.calcular_metricas(\n",
    "            y_true = y['es_popular'].values, \n",
    "            y_pred = y_pred, \n",
    "            labels=['NO', 'SI']\n",
    "        )\n",
    "\n",
    "        return metricas\n",
    "\n",
    "    scores = cross_validate(clf, X, y, scoring=all_metrics, cv=cv)\n",
    "\n",
    "    resultados = {\n",
    "        'true negatives':          round(np.mean(scores['test_true negatives']), 2),\n",
    "        'true positives':          round(np.mean(scores['test_true positives']),2),\n",
    "        'false positives':         round(np.mean(scores['test_false positives']),2),\n",
    "        'false negatives':         round(np.mean(scores['test_false negatives']),2),\n",
    "        'accuracy':                round(np.mean(scores['test_accuracy']),2),\n",
    "        'recall':                  round(np.mean(scores['test_recall']),2),\n",
    "        'precision':               round(np.mean(scores['test_precision']),2),\n",
    "        'specificity':             round(np.mean(scores['test_specificity']),2),\n",
    "        'tasa falso positivo':     round(np.mean(scores['test_tasa falso positivo']),2),\n",
    "        'tasa falso negativo':     round(np.mean(scores['test_tasa falso negativo']),2),\n",
    "        'f1':                      round(np.mean(scores['test_f1']),2),\n",
    "        'metrica negocio':         round(np.mean(scores['test_metrica negocio']),2),\n",
    "        'metrica optima negocio':  round(np.mean(scores['test_metrica optima negocio']),2)\n",
    "    }\n",
    "    return -resultados['metrica negocio']\n",
    "\n",
    "resultados = cv_con_umbral_de_corte([0.95, 4])\n",
    "-resultados"
   ]
  },
  {
   "cell_type": "code",
   "execution_count": 6,
   "id": "3eda3cef-bd16-454c-a4b7-305a3150461c",
   "metadata": {
    "tags": []
   },
   "outputs": [
    {
     "name": "stdout",
     "output_type": "stream",
     "text": [
      "[1, 20.04]\n",
      "[2, 20.04]\n",
      "[3, 40.79]\n",
      "[4, 327.42]\n",
      "[5, 327.42]\n",
      "[6, 327.42]\n",
      "[7, 327.42]\n",
      "[8, 1940.79]\n",
      "[9, 2118.96]\n",
      "[10, 2118.96]\n",
      "[11, 2118.96]\n",
      "[12, 2314.02]\n",
      "[13, 2314.02]\n",
      "[14, 2323.91]\n",
      "[15, 2324.71]\n",
      "[16, 2324.71]\n",
      "[17, 2324.71]\n",
      "[18, 2324.71]\n",
      "[19, 2324.71]\n",
      "[20, 2324.71]\n",
      "[21, 2324.71]\n",
      "[22, 2324.71]\n",
      "[23, 2324.71]\n",
      "[24, 2324.71]\n",
      "[25, 2324.71]\n",
      "[26, 2324.71]\n",
      "[27, 2324.71]\n",
      "[28, 2324.71]\n",
      "[29, 2324.71]\n",
      "[30, 2324.71]\n",
      "[31, 2324.71]\n",
      "[32, 2324.71]\n",
      "[33, 2324.71]\n",
      "[34, 2324.71]\n",
      "[35, 2324.71]\n",
      "[36, 2324.71]\n",
      "[37, 2324.71]\n",
      "[38, 2324.71]\n",
      "[39, 2324.71]\n",
      "[40, 2324.71]\n",
      "[41, 2324.71]\n",
      "[42, 2324.71]\n",
      "[43, 2324.71]\n",
      "[44, 2324.71]\n",
      "[45, 2324.71]\n",
      "[46, 2324.71]\n",
      "[47, 2324.71]\n",
      "[48, 2324.71]\n",
      "[49, 2324.71]\n",
      "[50, 2324.71]\n"
     ]
    }
   ],
   "source": [
    "import warnings\n",
    "warnings.filterwarnings('ignore')\n",
    "\n",
    "space  = [\n",
    "    Real(0.00001, 0.99999, name='umbral_corte'),\n",
    "    Integer(3, 6, name = 'max_depth')\n",
    "]\n",
    "\n",
    "res = gp_minimize(cv_con_umbral_de_corte,                  # the function to minimize\n",
    "                  space,     # the bounds on each dimension of x\n",
    "                  n_initial_points = 10,\n",
    "                  n_calls=50,         # the number of evaluations of f including at x0\n",
    "                  n_random_starts=10,  # the number of random initialization points\n",
    "                  random_state=777,\n",
    "                  callback = lambda res: print([len(res.func_vals), -res.fun])\n",
    "                 )"
   ]
  },
  {
   "cell_type": "code",
   "execution_count": 7,
   "id": "4ff9d02d-a7fe-4031-97fb-3dc5e5c6de92",
   "metadata": {
    "tags": []
   },
   "outputs": [
    {
     "data": {
      "text/plain": [
       "[[0.9332460409294779, 6], 2324.71]"
      ]
     },
     "execution_count": 7,
     "metadata": {},
     "output_type": "execute_result"
    }
   ],
   "source": [
    "[res.x, -res.fun]"
   ]
  },
  {
   "cell_type": "code",
   "execution_count": 8,
   "id": "3cfac386-c638-432e-8279-218cf1a15521",
   "metadata": {
    "tags": []
   },
   "outputs": [
    {
     "data": {
      "image/png": "[encoded data removed]",
      "text/plain": [
       "<Figure size 640x480 with 1 Axes>"
      ]
     },
     "metadata": {},
     "output_type": "display_data"
    }
   ],
   "source": [
    "sns.set_style(\"ticks\",{'axes.grid' : True})\n",
    "\n",
    "chart_df = pd.DataFrame(data = -res.func_vals, columns=['y'])\n",
    "chart_df.reset_index(inplace=True)\n",
    "chart_df.columns = ['iteracion', 'metrica negocio']\n",
    "g1 = sns.lineplot(data=chart_df, x=\"iteracion\", y=\"metrica negocio\")\n",
    "g1.set(xlabel='Iteracion', ylabel='metrica del negocio')\n",
    "plt.show()"
   ]
  },
  {
   "cell_type": "markdown",
   "id": "a6bc58ff-6870-4331-9fc6-c173931ef7f2",
   "metadata": {},
   "source": [
    "### Utilizamos estos parámetros para crear un nuevo modelo"
   ]
  },
  {
   "cell_type": "code",
   "execution_count": 9,
   "id": "1d714760-308a-4b2b-936a-783dfd069c7b",
   "metadata": {
    "tags": []
   },
   "outputs": [],
   "source": [
    "umbral_de_corte = res.x[0]\n",
    "max_depth = res.x[1]\n",
    "#criterion='entropy'\n",
    "criterion='gini'\n",
    "#criterion='log_loss'\n",
    "\n",
    "clf = DecisionTreeClassifier(\n",
    "            criterion = criterion,\n",
    "            max_depth=max_depth,\n",
    "            random_state=1\n",
    "        )\n",
    "_ = clf.fit(df_training_validacion, Y_df_training_validacion)\n"
   ]
  },
  {
   "cell_type": "markdown",
   "id": "134cb1f8-9c6d-4909-a1bb-5df19aed7a96",
   "metadata": {},
   "source": [
    "### Probamos los nuevos parámetros en validación"
   ]
  },
  {
   "cell_type": "code",
   "execution_count": 10,
   "id": "85e3b52a-a254-40c8-9f8f-dc38eda6205f",
   "metadata": {
    "tags": []
   },
   "outputs": [
    {
     "data": {
      "text/plain": [
       "[{'true negatives': 10592,\n",
       "  'true positives': 594,\n",
       "  'false positives': 3374,\n",
       "  'false negatives': 144,\n",
       "  'accuracy': 0.7607,\n",
       "  'recall': 0.8049,\n",
       "  'precision': 0.1497,\n",
       "  'specificity': 0.7584,\n",
       "  'tasa falso positivo': 0.2416,\n",
       "  'tasa falso negativo': 0.0103,\n",
       "  'f1': 0.2524,\n",
       "  'metrica negocio': 2305.149051490515,\n",
       "  'metrica optima negocio': 4000.0},\n",
       " {'max_depth': 6, 'umbral_corte': 0.9332460409294779}]"
      ]
     },
     "execution_count": 10,
     "metadata": {},
     "output_type": "execute_result"
    }
   ],
   "source": [
    "Y_testing_pred = clf.predict_proba(X_testing)\n",
    "\n",
    "df_y_testing_pred_proba = pd.DataFrame(Y_testing_pred, columns = ['NO_prob', 'SI_prob'])\n",
    "Y_testing_pred = atu.evaluar_corte(df_y_testing_pred_proba['NO_prob'].values, umbral_de_corte, 'SI', 'NO')\n",
    "\n",
    "metricas = atu.calcular_metricas(\n",
    "    y_true = Y_testing['es_popular'].values, \n",
    "    y_pred = Y_testing_pred, \n",
    "    labels=['NO', 'SI']\n",
    ")\n",
    "\n",
    "parametros = {\n",
    "    'max_depth': max_depth,\n",
    "    'umbral_corte': umbral_de_corte\n",
    "}\n",
    "   \n",
    "[metricas, parametros]"
   ]
  },
  {
   "cell_type": "code",
   "execution_count": 11,
   "id": "3f206c4a-d787-4302-a72b-4abb138fce08",
   "metadata": {
    "tags": []
   },
   "outputs": [],
   "source": [
    "a_mlflow_u.log_experimento(\n",
    "    host = 'http://localhost:5000', \n",
    "    nombre_experimento=\"AnalisisDeCervezas\", \n",
    "    run_name=\"Cuarta ejecucion\", \n",
    "    descripcion=\"Rpart optimización gausiana CV + umbral_corte + max_depth \", \n",
    "    dataset_tag=\"validacion\", \n",
    "    parametros=parametros, \n",
    "    metricas=metricas,\n",
    "    model=clf, \n",
    "    artifact_path=\"model\"\n",
    ")"
   ]
  },
  {
   "cell_type": "code",
   "execution_count": null,
   "id": "0725ca8c-99d7-4aff-88c5-755c2ce9fe7b",
   "metadata": {},
   "outputs": [],
   "source": []
  }
 ],
 "metadata": {
  "kernelspec": {
   "display_name": "Python 3 (ipykernel)",
   "language": "python",
   "name": "python3"
  },
  "language_info": {
   "codemirror_mode": {
    "name": "ipython",
    "version": 3
   },
   "file_extension": ".py",
   "mimetype": "text/x-python",
   "name": "python",
   "nbconvert_exporter": "python",
   "pygments_lexer": "ipython3",
   "version": "3.9.16"
  }
 },
 "nbformat": 4,
 "nbformat_minor": 5
}
