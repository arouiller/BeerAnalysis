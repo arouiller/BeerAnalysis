{
 "cells": [
  {
   "cell_type": "markdown",
   "id": "897958ac-5ab5-44fe-adb8-bf304085da00",
   "metadata": {
    "tags": []
   },
   "source": [
    "# 02. Adecuando nuestro ambiente"
   ]
  },
  {
   "cell_type": "markdown",
   "id": "156fa186-1b1e-414f-8c97-a964eb8c7e9d",
   "metadata": {},
   "source": [
    "### Instalación de paquetes necesarios"
   ]
  },
  {
   "cell_type": "code",
   "execution_count": 1,
   "id": "8fb3013c-e4be-48ff-b599-00dffe43ed33",
   "metadata": {
    "tags": []
   },
   "outputs": [
    {
     "name": "stdout",
     "output_type": "stream",
     "text": [
      "Requirement already satisfied: pandas in c:\\users\\arouiller\\appdata\\local\\miniconda3\\envs\\python_3_9_beer_analysis\\lib\\site-packages (2.0.0)\n",
      "Requirement already satisfied: pytz>=2020.1 in c:\\users\\arouiller\\appdata\\local\\miniconda3\\envs\\python_3_9_beer_analysis\\lib\\site-packages (from pandas) (2023.3)\n",
      "Requirement already satisfied: python-dateutil>=2.8.2 in c:\\users\\arouiller\\appdata\\local\\miniconda3\\envs\\python_3_9_beer_analysis\\lib\\site-packages (from pandas) (2.8.2)\n",
      "Requirement already satisfied: tzdata>=2022.1 in c:\\users\\arouiller\\appdata\\local\\miniconda3\\envs\\python_3_9_beer_analysis\\lib\\site-packages (from pandas) (2023.3)\n",
      "Requirement already satisfied: numpy>=1.20.3 in c:\\users\\arouiller\\appdata\\roaming\\python\\python39\\site-packages (from pandas) (1.22.4)\n",
      "Requirement already satisfied: six>=1.5 in c:\\users\\arouiller\\appdata\\local\\miniconda3\\envs\\python_3_9_beer_analysis\\lib\\site-packages (from python-dateutil>=2.8.2->pandas) (1.16.0)\n"
     ]
    }
   ],
   "source": [
    "!pip install pandas"
   ]
  },
  {
   "cell_type": "code",
   "execution_count": 2,
   "id": "f6bef96d-99e1-41c1-8bdb-7ec118e77ba6",
   "metadata": {
    "tags": []
   },
   "outputs": [
    {
     "name": "stdout",
     "output_type": "stream",
     "text": [
      "Requirement already satisfied: seaborn in c:\\users\\arouiller\\appdata\\local\\miniconda3\\envs\\python_3_9_beer_analysis\\lib\\site-packages (0.12.2)\n",
      "Requirement already satisfied: pandas>=0.25 in c:\\users\\arouiller\\appdata\\local\\miniconda3\\envs\\python_3_9_beer_analysis\\lib\\site-packages (from seaborn) (2.0.0)\n",
      "Requirement already satisfied: numpy!=1.24.0,>=1.17 in c:\\users\\arouiller\\appdata\\roaming\\python\\python39\\site-packages (from seaborn) (1.22.4)\n",
      "Requirement already satisfied: matplotlib!=3.6.1,>=3.1 in c:\\users\\arouiller\\appdata\\local\\miniconda3\\envs\\python_3_9_beer_analysis\\lib\\site-packages (from seaborn) (3.7.1)\n",
      "Requirement already satisfied: contourpy>=1.0.1 in c:\\users\\arouiller\\appdata\\local\\miniconda3\\envs\\python_3_9_beer_analysis\\lib\\site-packages (from matplotlib!=3.6.1,>=3.1->seaborn) (1.0.7)\n",
      "Requirement already satisfied: pyparsing>=2.3.1 in c:\\users\\arouiller\\appdata\\local\\miniconda3\\envs\\python_3_9_beer_analysis\\lib\\site-packages (from matplotlib!=3.6.1,>=3.1->seaborn) (3.0.9)\n",
      "Requirement already satisfied: fonttools>=4.22.0 in c:\\users\\arouiller\\appdata\\local\\miniconda3\\envs\\python_3_9_beer_analysis\\lib\\site-packages (from matplotlib!=3.6.1,>=3.1->seaborn) (4.39.3)\n",
      "Requirement already satisfied: packaging>=20.0 in c:\\users\\arouiller\\appdata\\local\\miniconda3\\envs\\python_3_9_beer_analysis\\lib\\site-packages (from matplotlib!=3.6.1,>=3.1->seaborn) (23.1)\n",
      "Requirement already satisfied: cycler>=0.10 in c:\\users\\arouiller\\appdata\\local\\miniconda3\\envs\\python_3_9_beer_analysis\\lib\\site-packages (from matplotlib!=3.6.1,>=3.1->seaborn) (0.11.0)\n",
      "Requirement already satisfied: importlib-resources>=3.2.0 in c:\\users\\arouiller\\appdata\\local\\miniconda3\\envs\\python_3_9_beer_analysis\\lib\\site-packages (from matplotlib!=3.6.1,>=3.1->seaborn) (5.12.0)\n",
      "Requirement already satisfied: pillow>=6.2.0 in c:\\users\\arouiller\\appdata\\local\\miniconda3\\envs\\python_3_9_beer_analysis\\lib\\site-packages (from matplotlib!=3.6.1,>=3.1->seaborn) (9.5.0)\n",
      "Requirement already satisfied: python-dateutil>=2.7 in c:\\users\\arouiller\\appdata\\local\\miniconda3\\envs\\python_3_9_beer_analysis\\lib\\site-packages (from matplotlib!=3.6.1,>=3.1->seaborn) (2.8.2)\n",
      "Requirement already satisfied: kiwisolver>=1.0.1 in c:\\users\\arouiller\\appdata\\local\\miniconda3\\envs\\python_3_9_beer_analysis\\lib\\site-packages (from matplotlib!=3.6.1,>=3.1->seaborn) (1.4.4)\n",
      "Requirement already satisfied: tzdata>=2022.1 in c:\\users\\arouiller\\appdata\\local\\miniconda3\\envs\\python_3_9_beer_analysis\\lib\\site-packages (from pandas>=0.25->seaborn) (2023.3)\n",
      "Requirement already satisfied: pytz>=2020.1 in c:\\users\\arouiller\\appdata\\local\\miniconda3\\envs\\python_3_9_beer_analysis\\lib\\site-packages (from pandas>=0.25->seaborn) (2023.3)\n",
      "Requirement already satisfied: zipp>=3.1.0 in c:\\users\\arouiller\\appdata\\local\\miniconda3\\envs\\python_3_9_beer_analysis\\lib\\site-packages (from importlib-resources>=3.2.0->matplotlib!=3.6.1,>=3.1->seaborn) (3.15.0)\n",
      "Requirement already satisfied: six>=1.5 in c:\\users\\arouiller\\appdata\\local\\miniconda3\\envs\\python_3_9_beer_analysis\\lib\\site-packages (from python-dateutil>=2.7->matplotlib!=3.6.1,>=3.1->seaborn) (1.16.0)\n"
     ]
    }
   ],
   "source": [
    "!pip install seaborn"
   ]
  },
  {
   "cell_type": "code",
   "execution_count": 3,
   "id": "d4f040cf-b112-4ee9-ba77-9dd9f4d7f068",
   "metadata": {
    "tags": []
   },
   "outputs": [
    {
     "name": "stdout",
     "output_type": "stream",
     "text": [
      "Requirement already satisfied: scikit-learn in c:\\users\\arouiller\\appdata\\local\\miniconda3\\envs\\python_3_9_beer_analysis\\lib\\site-packages (1.2.2)\n",
      "Requirement already satisfied: threadpoolctl>=2.0.0 in c:\\users\\arouiller\\appdata\\local\\miniconda3\\envs\\python_3_9_beer_analysis\\lib\\site-packages (from scikit-learn) (3.1.0)\n",
      "Requirement already satisfied: scipy>=1.3.2 in c:\\users\\arouiller\\appdata\\local\\miniconda3\\envs\\python_3_9_beer_analysis\\lib\\site-packages (from scikit-learn) (1.10.1)\n",
      "Requirement already satisfied: joblib>=1.1.1 in c:\\users\\arouiller\\appdata\\local\\miniconda3\\envs\\python_3_9_beer_analysis\\lib\\site-packages (from scikit-learn) (1.2.0)\n",
      "Requirement already satisfied: numpy>=1.17.3 in c:\\users\\arouiller\\appdata\\roaming\\python\\python39\\site-packages (from scikit-learn) (1.22.4)\n"
     ]
    }
   ],
   "source": [
    "!pip install scikit-learn"
   ]
  },
  {
   "cell_type": "code",
   "execution_count": 5,
   "id": "82a9de78-cce3-489c-aeb5-316d4edfd2d6",
   "metadata": {
    "tags": []
   },
   "outputs": [
    {
     "name": "stdout",
     "output_type": "stream",
     "text": [
      "Requirement already satisfied: mlflow in c:\\users\\arouiller\\appdata\\local\\miniconda3\\envs\\python_3_9_beer_analysis\\lib\\site-packages (2.3.1)\n",
      "Requirement already satisfied: waitress<3 in c:\\users\\arouiller\\appdata\\local\\miniconda3\\envs\\python_3_9_beer_analysis\\lib\\site-packages (from mlflow) (2.1.2)\n",
      "Requirement already satisfied: docker<7,>=4.0.0 in c:\\users\\arouiller\\appdata\\local\\miniconda3\\envs\\python_3_9_beer_analysis\\lib\\site-packages (from mlflow) (6.1.2)\n",
      "Requirement already satisfied: pyyaml<7,>=5.1 in c:\\users\\arouiller\\appdata\\local\\miniconda3\\envs\\python_3_9_beer_analysis\\lib\\site-packages (from mlflow) (6.0)\n",
      "Requirement already satisfied: Flask<3 in c:\\users\\arouiller\\appdata\\local\\miniconda3\\envs\\python_3_9_beer_analysis\\lib\\site-packages (from mlflow) (2.3.2)\n",
      "Requirement already satisfied: click<9,>=7.0 in c:\\users\\arouiller\\appdata\\local\\miniconda3\\envs\\python_3_9_beer_analysis\\lib\\site-packages (from mlflow) (8.1.3)\n",
      "Requirement already satisfied: querystring-parser<2 in c:\\users\\arouiller\\appdata\\local\\miniconda3\\envs\\python_3_9_beer_analysis\\lib\\site-packages (from mlflow) (1.2.4)\n",
      "Requirement already satisfied: pandas<3 in c:\\users\\arouiller\\appdata\\local\\miniconda3\\envs\\python_3_9_beer_analysis\\lib\\site-packages (from mlflow) (2.0.0)\n",
      "Requirement already satisfied: sqlparse<1,>=0.4.0 in c:\\users\\arouiller\\appdata\\local\\miniconda3\\envs\\python_3_9_beer_analysis\\lib\\site-packages (from mlflow) (0.4.4)\n",
      "Requirement already satisfied: pyarrow<12,>=4.0.0 in c:\\users\\arouiller\\appdata\\local\\miniconda3\\envs\\python_3_9_beer_analysis\\lib\\site-packages (from mlflow) (11.0.0)\n",
      "Requirement already satisfied: markdown<4,>=3.3 in c:\\users\\arouiller\\appdata\\local\\miniconda3\\envs\\python_3_9_beer_analysis\\lib\\site-packages (from mlflow) (3.4.3)\n",
      "Requirement already satisfied: pytz<2024 in c:\\users\\arouiller\\appdata\\local\\miniconda3\\envs\\python_3_9_beer_analysis\\lib\\site-packages (from mlflow) (2023.3)\n",
      "Requirement already satisfied: sqlalchemy<3,>=1.4.0 in c:\\users\\arouiller\\appdata\\local\\miniconda3\\envs\\python_3_9_beer_analysis\\lib\\site-packages (from mlflow) (2.0.13)\n",
      "Requirement already satisfied: gitpython<4,>=2.1.0 in c:\\users\\arouiller\\appdata\\local\\miniconda3\\envs\\python_3_9_beer_analysis\\lib\\site-packages (from mlflow) (3.1.31)\n",
      "Requirement already satisfied: protobuf<5,>=3.12.0 in c:\\users\\arouiller\\appdata\\local\\miniconda3\\envs\\python_3_9_beer_analysis\\lib\\site-packages (from mlflow) (4.23.0)\n",
      "Requirement already satisfied: packaging<24 in c:\\users\\arouiller\\appdata\\local\\miniconda3\\envs\\python_3_9_beer_analysis\\lib\\site-packages (from mlflow) (23.1)\n",
      "Requirement already satisfied: databricks-cli<1,>=0.8.7 in c:\\users\\arouiller\\appdata\\local\\miniconda3\\envs\\python_3_9_beer_analysis\\lib\\site-packages (from mlflow) (0.17.7)\n",
      "Requirement already satisfied: importlib-metadata!=4.7.0,<7,>=3.7.0 in c:\\users\\arouiller\\appdata\\local\\miniconda3\\envs\\python_3_9_beer_analysis\\lib\\site-packages (from mlflow) (6.3.0)\n",
      "Requirement already satisfied: scipy<2 in c:\\users\\arouiller\\appdata\\local\\miniconda3\\envs\\python_3_9_beer_analysis\\lib\\site-packages (from mlflow) (1.10.1)\n",
      "Requirement already satisfied: scikit-learn<2 in c:\\users\\arouiller\\appdata\\local\\miniconda3\\envs\\python_3_9_beer_analysis\\lib\\site-packages (from mlflow) (1.2.2)\n",
      "Requirement already satisfied: numpy<2 in c:\\users\\arouiller\\appdata\\roaming\\python\\python39\\site-packages (from mlflow) (1.22.4)\n",
      "Requirement already satisfied: entrypoints<1 in c:\\users\\arouiller\\appdata\\local\\miniconda3\\envs\\python_3_9_beer_analysis\\lib\\site-packages (from mlflow) (0.4)\n",
      "Requirement already satisfied: cloudpickle<3 in c:\\users\\arouiller\\appdata\\local\\miniconda3\\envs\\python_3_9_beer_analysis\\lib\\site-packages (from mlflow) (2.2.1)\n",
      "Requirement already satisfied: requests<3,>=2.17.3 in c:\\users\\arouiller\\appdata\\local\\miniconda3\\envs\\python_3_9_beer_analysis\\lib\\site-packages (from mlflow) (2.28.2)\n",
      "Requirement already satisfied: matplotlib<4 in c:\\users\\arouiller\\appdata\\local\\miniconda3\\envs\\python_3_9_beer_analysis\\lib\\site-packages (from mlflow) (3.7.1)\n",
      "Requirement already satisfied: Jinja2<4,>=3.0 in c:\\users\\arouiller\\appdata\\local\\miniconda3\\envs\\python_3_9_beer_analysis\\lib\\site-packages (from mlflow) (3.1.2)\n",
      "Requirement already satisfied: alembic!=1.10.0,<2 in c:\\users\\arouiller\\appdata\\local\\miniconda3\\envs\\python_3_9_beer_analysis\\lib\\site-packages (from mlflow) (1.10.4)\n",
      "Requirement already satisfied: typing-extensions>=4 in c:\\users\\arouiller\\appdata\\local\\miniconda3\\envs\\python_3_9_beer_analysis\\lib\\site-packages (from alembic!=1.10.0,<2->mlflow) (4.5.0)\n",
      "Requirement already satisfied: Mako in c:\\users\\arouiller\\appdata\\local\\miniconda3\\envs\\python_3_9_beer_analysis\\lib\\site-packages (from alembic!=1.10.0,<2->mlflow) (1.2.4)\n",
      "Requirement already satisfied: colorama in c:\\users\\arouiller\\appdata\\local\\miniconda3\\envs\\python_3_9_beer_analysis\\lib\\site-packages (from click<9,>=7.0->mlflow) (0.4.6)\n",
      "Requirement already satisfied: tabulate>=0.7.7 in c:\\users\\arouiller\\appdata\\local\\miniconda3\\envs\\python_3_9_beer_analysis\\lib\\site-packages (from databricks-cli<1,>=0.8.7->mlflow) (0.9.0)\n",
      "Requirement already satisfied: six>=1.10.0 in c:\\users\\arouiller\\appdata\\local\\miniconda3\\envs\\python_3_9_beer_analysis\\lib\\site-packages (from databricks-cli<1,>=0.8.7->mlflow) (1.16.0)\n",
      "Requirement already satisfied: oauthlib>=3.1.0 in c:\\users\\arouiller\\appdata\\local\\miniconda3\\envs\\python_3_9_beer_analysis\\lib\\site-packages (from databricks-cli<1,>=0.8.7->mlflow) (3.2.2)\n",
      "Requirement already satisfied: urllib3<2.0.0,>=1.26.7 in c:\\users\\arouiller\\appdata\\local\\miniconda3\\envs\\python_3_9_beer_analysis\\lib\\site-packages (from databricks-cli<1,>=0.8.7->mlflow) (1.26.15)\n",
      "Requirement already satisfied: pyjwt>=1.7.0 in c:\\users\\arouiller\\appdata\\local\\miniconda3\\envs\\python_3_9_beer_analysis\\lib\\site-packages (from databricks-cli<1,>=0.8.7->mlflow) (2.7.0)\n",
      "Requirement already satisfied: pywin32>=304 in c:\\users\\arouiller\\appdata\\local\\miniconda3\\envs\\python_3_9_beer_analysis\\lib\\site-packages (from docker<7,>=4.0.0->mlflow) (306)\n",
      "Requirement already satisfied: websocket-client>=0.32.0 in c:\\users\\arouiller\\appdata\\local\\miniconda3\\envs\\python_3_9_beer_analysis\\lib\\site-packages (from docker<7,>=4.0.0->mlflow) (1.5.1)\n",
      "Requirement already satisfied: blinker>=1.6.2 in c:\\users\\arouiller\\appdata\\local\\miniconda3\\envs\\python_3_9_beer_analysis\\lib\\site-packages (from Flask<3->mlflow) (1.6.2)\n",
      "Requirement already satisfied: itsdangerous>=2.1.2 in c:\\users\\arouiller\\appdata\\local\\miniconda3\\envs\\python_3_9_beer_analysis\\lib\\site-packages (from Flask<3->mlflow) (2.1.2)\n",
      "Requirement already satisfied: Werkzeug>=2.3.3 in c:\\users\\arouiller\\appdata\\local\\miniconda3\\envs\\python_3_9_beer_analysis\\lib\\site-packages (from Flask<3->mlflow) (2.3.4)\n",
      "Requirement already satisfied: gitdb<5,>=4.0.1 in c:\\users\\arouiller\\appdata\\local\\miniconda3\\envs\\python_3_9_beer_analysis\\lib\\site-packages (from gitpython<4,>=2.1.0->mlflow) (4.0.10)\n",
      "Requirement already satisfied: zipp>=0.5 in c:\\users\\arouiller\\appdata\\local\\miniconda3\\envs\\python_3_9_beer_analysis\\lib\\site-packages (from importlib-metadata!=4.7.0,<7,>=3.7.0->mlflow) (3.15.0)\n",
      "Requirement already satisfied: MarkupSafe>=2.0 in c:\\users\\arouiller\\appdata\\local\\miniconda3\\envs\\python_3_9_beer_analysis\\lib\\site-packages (from Jinja2<4,>=3.0->mlflow) (2.1.2)\n",
      "Requirement already satisfied: contourpy>=1.0.1 in c:\\users\\arouiller\\appdata\\local\\miniconda3\\envs\\python_3_9_beer_analysis\\lib\\site-packages (from matplotlib<4->mlflow) (1.0.7)\n",
      "Requirement already satisfied: pyparsing>=2.3.1 in c:\\users\\arouiller\\appdata\\local\\miniconda3\\envs\\python_3_9_beer_analysis\\lib\\site-packages (from matplotlib<4->mlflow) (3.0.9)\n",
      "Requirement already satisfied: pillow>=6.2.0 in c:\\users\\arouiller\\appdata\\local\\miniconda3\\envs\\python_3_9_beer_analysis\\lib\\site-packages (from matplotlib<4->mlflow) (9.5.0)\n",
      "Requirement already satisfied: python-dateutil>=2.7 in c:\\users\\arouiller\\appdata\\local\\miniconda3\\envs\\python_3_9_beer_analysis\\lib\\site-packages (from matplotlib<4->mlflow) (2.8.2)\n",
      "Requirement already satisfied: importlib-resources>=3.2.0 in c:\\users\\arouiller\\appdata\\local\\miniconda3\\envs\\python_3_9_beer_analysis\\lib\\site-packages (from matplotlib<4->mlflow) (5.12.0)\n",
      "Requirement already satisfied: cycler>=0.10 in c:\\users\\arouiller\\appdata\\local\\miniconda3\\envs\\python_3_9_beer_analysis\\lib\\site-packages (from matplotlib<4->mlflow) (0.11.0)\n",
      "Requirement already satisfied: fonttools>=4.22.0 in c:\\users\\arouiller\\appdata\\local\\miniconda3\\envs\\python_3_9_beer_analysis\\lib\\site-packages (from matplotlib<4->mlflow) (4.39.3)\n",
      "Requirement already satisfied: kiwisolver>=1.0.1 in c:\\users\\arouiller\\appdata\\local\\miniconda3\\envs\\python_3_9_beer_analysis\\lib\\site-packages (from matplotlib<4->mlflow) (1.4.4)\n",
      "Requirement already satisfied: tzdata>=2022.1 in c:\\users\\arouiller\\appdata\\local\\miniconda3\\envs\\python_3_9_beer_analysis\\lib\\site-packages (from pandas<3->mlflow) (2023.3)\n",
      "Requirement already satisfied: idna<4,>=2.5 in c:\\users\\arouiller\\appdata\\local\\miniconda3\\envs\\python_3_9_beer_analysis\\lib\\site-packages (from requests<3,>=2.17.3->mlflow) (3.4)\n",
      "Requirement already satisfied: charset-normalizer<4,>=2 in c:\\users\\arouiller\\appdata\\local\\miniconda3\\envs\\python_3_9_beer_analysis\\lib\\site-packages (from requests<3,>=2.17.3->mlflow) (3.1.0)\n",
      "Requirement already satisfied: certifi>=2017.4.17 in c:\\users\\arouiller\\appdata\\local\\miniconda3\\envs\\python_3_9_beer_analysis\\lib\\site-packages (from requests<3,>=2.17.3->mlflow) (2022.12.7)\n",
      "Requirement already satisfied: threadpoolctl>=2.0.0 in c:\\users\\arouiller\\appdata\\local\\miniconda3\\envs\\python_3_9_beer_analysis\\lib\\site-packages (from scikit-learn<2->mlflow) (3.1.0)\n",
      "Requirement already satisfied: joblib>=1.1.1 in c:\\users\\arouiller\\appdata\\local\\miniconda3\\envs\\python_3_9_beer_analysis\\lib\\site-packages (from scikit-learn<2->mlflow) (1.2.0)\n",
      "Requirement already satisfied: greenlet!=0.4.17 in c:\\users\\arouiller\\appdata\\local\\miniconda3\\envs\\python_3_9_beer_analysis\\lib\\site-packages (from sqlalchemy<3,>=1.4.0->mlflow) (2.0.2)\n",
      "Requirement already satisfied: smmap<6,>=3.0.1 in c:\\users\\arouiller\\appdata\\local\\miniconda3\\envs\\python_3_9_beer_analysis\\lib\\site-packages (from gitdb<5,>=4.0.1->gitpython<4,>=2.1.0->mlflow) (5.0.0)\n"
     ]
    }
   ],
   "source": [
    "!pip install mlflow"
   ]
  },
  {
   "cell_type": "code",
   "execution_count": 1,
   "id": "2bf976da-e524-48e5-90d0-6851b7dfcdce",
   "metadata": {
    "tags": []
   },
   "outputs": [
    {
     "name": "stdout",
     "output_type": "stream",
     "text": [
      "Requirement already satisfied: matplotlib in c:\\users\\arouiller\\appdata\\local\\miniconda3\\envs\\python_3_9_beer_analysis\\lib\\site-packages (3.7.1)\n",
      "Requirement already satisfied: kiwisolver>=1.0.1 in c:\\users\\arouiller\\appdata\\local\\miniconda3\\envs\\python_3_9_beer_analysis\\lib\\site-packages (from matplotlib) (1.4.4)\n",
      "Requirement already satisfied: python-dateutil>=2.7 in c:\\users\\arouiller\\appdata\\local\\miniconda3\\envs\\python_3_9_beer_analysis\\lib\\site-packages (from matplotlib) (2.8.2)\n",
      "Requirement already satisfied: pyparsing>=2.3.1 in c:\\users\\arouiller\\appdata\\local\\miniconda3\\envs\\python_3_9_beer_analysis\\lib\\site-packages (from matplotlib) (3.0.9)\n",
      "Requirement already satisfied: numpy>=1.20 in c:\\users\\arouiller\\appdata\\roaming\\python\\python39\\site-packages (from matplotlib) (1.22.4)\n",
      "Requirement already satisfied: contourpy>=1.0.1 in c:\\users\\arouiller\\appdata\\local\\miniconda3\\envs\\python_3_9_beer_analysis\\lib\\site-packages (from matplotlib) (1.0.7)\n",
      "Requirement already satisfied: fonttools>=4.22.0 in c:\\users\\arouiller\\appdata\\local\\miniconda3\\envs\\python_3_9_beer_analysis\\lib\\site-packages (from matplotlib) (4.39.3)\n",
      "Requirement already satisfied: cycler>=0.10 in c:\\users\\arouiller\\appdata\\local\\miniconda3\\envs\\python_3_9_beer_analysis\\lib\\site-packages (from matplotlib) (0.11.0)\n",
      "Requirement already satisfied: importlib-resources>=3.2.0 in c:\\users\\arouiller\\appdata\\local\\miniconda3\\envs\\python_3_9_beer_analysis\\lib\\site-packages (from matplotlib) (5.12.0)\n",
      "Requirement already satisfied: pillow>=6.2.0 in c:\\users\\arouiller\\appdata\\local\\miniconda3\\envs\\python_3_9_beer_analysis\\lib\\site-packages (from matplotlib) (9.5.0)\n",
      "Requirement already satisfied: packaging>=20.0 in c:\\users\\arouiller\\appdata\\local\\miniconda3\\envs\\python_3_9_beer_analysis\\lib\\site-packages (from matplotlib) (23.1)\n",
      "Requirement already satisfied: zipp>=3.1.0 in c:\\users\\arouiller\\appdata\\local\\miniconda3\\envs\\python_3_9_beer_analysis\\lib\\site-packages (from importlib-resources>=3.2.0->matplotlib) (3.15.0)\n",
      "Requirement already satisfied: six>=1.5 in c:\\users\\arouiller\\appdata\\local\\miniconda3\\envs\\python_3_9_beer_analysis\\lib\\site-packages (from python-dateutil>=2.7->matplotlib) (1.16.0)\n"
     ]
    }
   ],
   "source": [
    "!pip install matplotlib"
   ]
  },
  {
   "cell_type": "code",
   "execution_count": 6,
   "id": "e5233d8e-b54e-49f9-a6cc-8d56557bef1c",
   "metadata": {
    "tags": []
   },
   "outputs": [
    {
     "name": "stdout",
     "output_type": "stream",
     "text": [
      "Requirement already satisfied: plotly in c:\\users\\arouiller\\appdata\\local\\miniconda3\\envs\\python_3_9_beer_analysis\\lib\\site-packages (5.14.1)\n",
      "Requirement already satisfied: tenacity>=6.2.0 in c:\\users\\arouiller\\appdata\\local\\miniconda3\\envs\\python_3_9_beer_analysis\\lib\\site-packages (from plotly) (8.2.2)\n",
      "Requirement already satisfied: packaging in c:\\users\\arouiller\\appdata\\local\\miniconda3\\envs\\python_3_9_beer_analysis\\lib\\site-packages (from plotly) (23.1)\n"
     ]
    }
   ],
   "source": [
    "!pip install plotly"
   ]
  },
  {
   "cell_type": "code",
   "execution_count": 4,
   "id": "70e11811-37fc-4361-9170-ede7057b6751",
   "metadata": {
    "tags": []
   },
   "outputs": [
    {
     "name": "stdout",
     "output_type": "stream",
     "text": [
      "Requirement already satisfied: pydotplus in c:\\users\\arouiller\\appdata\\local\\miniconda3\\envs\\python_3_9_beer_analysis\\lib\\site-packages (2.0.2)\n",
      "Requirement already satisfied: pyparsing>=2.0.1 in c:\\users\\arouiller\\appdata\\local\\miniconda3\\envs\\python_3_9_beer_analysis\\lib\\site-packages (from pydotplus) (3.0.9)\n"
     ]
    }
   ],
   "source": [
    "!pip install pydotplus"
   ]
  },
  {
   "cell_type": "code",
   "execution_count": 7,
   "id": "8e660902-aaf0-431c-a6e4-f80b24d02a06",
   "metadata": {},
   "outputs": [
    {
     "name": "stdout",
     "output_type": "stream",
     "text": [
      "Requirement already satisfied: shap in c:\\users\\arouiller\\appdata\\local\\miniconda3\\envs\\python_3_9_beer_analysis\\lib\\site-packages (0.41.0)\n",
      "Requirement already satisfied: cloudpickle in c:\\users\\arouiller\\appdata\\local\\miniconda3\\envs\\python_3_9_beer_analysis\\lib\\site-packages (from shap) (2.2.1)\n",
      "Requirement already satisfied: numba in c:\\users\\arouiller\\appdata\\local\\miniconda3\\envs\\python_3_9_beer_analysis\\lib\\site-packages (from shap) (0.57.0)\n",
      "Requirement already satisfied: numpy in c:\\users\\arouiller\\appdata\\roaming\\python\\python39\\site-packages (from shap) (1.22.4)\n",
      "Requirement already satisfied: slicer==0.0.7 in c:\\users\\arouiller\\appdata\\local\\miniconda3\\envs\\python_3_9_beer_analysis\\lib\\site-packages (from shap) (0.0.7)\n",
      "Requirement already satisfied: pandas in c:\\users\\arouiller\\appdata\\local\\miniconda3\\envs\\python_3_9_beer_analysis\\lib\\site-packages (from shap) (2.0.0)\n",
      "Requirement already satisfied: tqdm>4.25.0 in c:\\users\\arouiller\\appdata\\local\\miniconda3\\envs\\python_3_9_beer_analysis\\lib\\site-packages (from shap) (4.65.0)\n",
      "Requirement already satisfied: scipy in c:\\users\\arouiller\\appdata\\local\\miniconda3\\envs\\python_3_9_beer_analysis\\lib\\site-packages (from shap) (1.10.1)\n",
      "Requirement already satisfied: packaging>20.9 in c:\\users\\arouiller\\appdata\\local\\miniconda3\\envs\\python_3_9_beer_analysis\\lib\\site-packages (from shap) (23.1)\n",
      "Requirement already satisfied: scikit-learn in c:\\users\\arouiller\\appdata\\local\\miniconda3\\envs\\python_3_9_beer_analysis\\lib\\site-packages (from shap) (1.2.2)\n",
      "Requirement already satisfied: colorama in c:\\users\\arouiller\\appdata\\local\\miniconda3\\envs\\python_3_9_beer_analysis\\lib\\site-packages (from tqdm>4.25.0->shap) (0.4.6)\n",
      "Requirement already satisfied: llvmlite<0.41,>=0.40.0dev0 in c:\\users\\arouiller\\appdata\\local\\miniconda3\\envs\\python_3_9_beer_analysis\\lib\\site-packages (from numba->shap) (0.40.0)\n",
      "Requirement already satisfied: python-dateutil>=2.8.2 in c:\\users\\arouiller\\appdata\\local\\miniconda3\\envs\\python_3_9_beer_analysis\\lib\\site-packages (from pandas->shap) (2.8.2)\n",
      "Requirement already satisfied: pytz>=2020.1 in c:\\users\\arouiller\\appdata\\local\\miniconda3\\envs\\python_3_9_beer_analysis\\lib\\site-packages (from pandas->shap) (2023.3)\n",
      "Requirement already satisfied: tzdata>=2022.1 in c:\\users\\arouiller\\appdata\\local\\miniconda3\\envs\\python_3_9_beer_analysis\\lib\\site-packages (from pandas->shap) (2023.3)\n",
      "Requirement already satisfied: threadpoolctl>=2.0.0 in c:\\users\\arouiller\\appdata\\local\\miniconda3\\envs\\python_3_9_beer_analysis\\lib\\site-packages (from scikit-learn->shap) (3.1.0)\n",
      "Requirement already satisfied: joblib>=1.1.1 in c:\\users\\arouiller\\appdata\\local\\miniconda3\\envs\\python_3_9_beer_analysis\\lib\\site-packages (from scikit-learn->shap) (1.2.0)\n",
      "Requirement already satisfied: six>=1.5 in c:\\users\\arouiller\\appdata\\local\\miniconda3\\envs\\python_3_9_beer_analysis\\lib\\site-packages (from python-dateutil>=2.8.2->pandas->shap) (1.16.0)\n"
     ]
    }
   ],
   "source": [
    "!pip install shap"
   ]
  }
 ],
 "metadata": {
  "kernelspec": {
   "display_name": "Python 3 (ipykernel)",
   "language": "python",
   "name": "python3"
  },
  "language_info": {
   "codemirror_mode": {
    "name": "ipython",
    "version": 3
   },
   "file_extension": ".py",
   "mimetype": "text/x-python",
   "name": "python",
   "nbconvert_exporter": "python",
   "pygments_lexer": "ipython3",
   "version": "3.9.16"
  }
 },
 "nbformat": 4,
 "nbformat_minor": 5
}
