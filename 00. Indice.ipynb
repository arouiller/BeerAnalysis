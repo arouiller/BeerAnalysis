{
 "cells": [
  {
   "cell_type": "markdown",
   "id": "6312c412-fb4f-4b96-9659-9a42d5c56a12",
   "metadata": {},
   "source": [
    "# Lo importante, desde el análisis de datos, en la cerveza"
   ]
  },
  {
   "cell_type": "markdown",
   "id": "2482fe80-4387-458b-bd10-551fe4e2aea9",
   "metadata": {},
   "source": [
    "## Indice\n",
    "1. Adecuación del ambiente\n",
    "1. Análisis exploratorio y limpieza de datos\n",
    "1. Definición de qué es popularidad en nuestro dataset\n",
    "1. Identificación visual de las clases\n",
    "1. Separando dataset en training/testing y validacion\n",
    "1. Creación del primer modelo\n",
    "1. Realizando la primera mejora\n",
    "1. Optimización del punto de corte\n",
    "1. Primera optimización de parámetros\n",
    "1. A darle atomos\n",
    "1. Poda del árbol\n",
    "1. Comprendiendo lo que el árbol nos cuenta\n",
    "1. Contraste de modelos - quitar variables innecesarias\n",
    "1. Contraste de modelos - quitar vairables más importantes"
   ]
  },
  {
   "cell_type": "markdown",
   "id": "3416e112-35eb-476a-b23f-99167507fa4e",
   "metadata": {
    "tags": []
   },
   "source": [
    "![image info](./img-doc/CRISP.png)"
   ]
  },
  {
   "cell_type": "markdown",
   "id": "24746175-d54c-4eba-91ca-e9ef91595020",
   "metadata": {
    "tags": []
   },
   "source": [
    "![image info](./img-doc/Datasets.png)"
   ]
  },
  {
   "cell_type": "code",
   "execution_count": null,
   "id": "9917a8bf-3725-4643-984a-d7d60ad58fbc",
   "metadata": {},
   "outputs": [],
   "source": [
    "Origen de nuestros datos\n",
    "https://www.kaggle.com/datasets/thedevastator/1-5-million-beer-reviews-from-beer-advocate?select=beer_reviews.csv"
   ]
  }
 ],
 "metadata": {
  "kernelspec": {
   "display_name": "Python 3 (ipykernel)",
   "language": "python",
   "name": "python3"
  },
  "language_info": {
   "codemirror_mode": {
    "name": "ipython",
    "version": 3
   },
   "file_extension": ".py",
   "mimetype": "text/x-python",
   "name": "python",
   "nbconvert_exporter": "python",
   "pygments_lexer": "ipython3",
   "version": "3.9.16"
  }
 },
 "nbformat": 4,
 "nbformat_minor": 5
}
