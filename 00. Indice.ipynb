{
 "cells": [
  {
   "cell_type": "markdown",
   "id": "6312c412-fb4f-4b96-9659-9a42d5c56a12",
   "metadata": {},
   "source": [
    "# Lo importante, desde el análisis de datos, en la cerveza"
   ]
  },
  {
   "cell_type": "markdown",
   "id": "2482fe80-4387-458b-bd10-551fe4e2aea9",
   "metadata": {},
   "source": [
    "## Indice\n",
    "1. Adecuando nuestro ambiente (instalando los paquetes que son necesarios)\n",
    "1. Análisis exploratorio y limpieza de datos\n",
    "1. Definiendo qué es popularidad\n",
    "1. Identificación visual de las clases ¿se puede hacer?\n",
    "1. Separando dataset en training/testing y validacion\n",
    "1. Creando nuesto primer modelo\n",
    "1. La primera mejora, calculamos manualmente el mejor punto de corte\n",
    "1. Optimización de hiper parámetros, obteniendo el mejor punto de corte\n",
    "1. Optimización de hiper parámetros, sumanos otros parámetros más\n",
    "1. A darle atomos, sumamos varios parámetros\n",
    "1. Comprendiendo lo que el árbol nos cuenta\n",
    "1. Contraste de modelos - quitar variables importntes - parte 1\n",
    "1. Contraste de modelos - quitar variables importntes - parte 2\n",
    "1. Contraste de modelos - quitar variables importntes - parte 3\n",
    "1. Contraste de modelos - quitar variables importntes - parte 4\n",
    "1. Analizando el modelo ganador"
   ]
  },
  {
   "cell_type": "markdown",
   "id": "3416e112-35eb-476a-b23f-99167507fa4e",
   "metadata": {
    "tags": []
   },
   "source": [
    "![image info](./img-doc/CRISP.png)"
   ]
  },
  {
   "cell_type": "markdown",
   "id": "24746175-d54c-4eba-91ca-e9ef91595020",
   "metadata": {
    "tags": []
   },
   "source": [
    "![image info](./img-doc/Datasets.png)"
   ]
  },
  {
   "cell_type": "code",
   "execution_count": null,
   "id": "9917a8bf-3725-4643-984a-d7d60ad58fbc",
   "metadata": {},
   "outputs": [],
   "source": [
    "Origen de nuestros datos\n",
    "https://www.kaggle.com/datasets/thedevastator/1-5-million-beer-reviews-from-beer-advocate?select=beer_reviews.csv"
   ]
  }
 ],
 "metadata": {
  "kernelspec": {
   "display_name": "Python 3 (ipykernel)",
   "language": "python",
   "name": "python3"
  },
  "language_info": {
   "codemirror_mode": {
    "name": "ipython",
    "version": 3
   },
   "file_extension": ".py",
   "mimetype": "text/x-python",
   "name": "python",
   "nbconvert_exporter": "python",
   "pygments_lexer": "ipython3",
   "version": "3.9.16"
  }
 },
 "nbformat": 4,
 "nbformat_minor": 5
}
