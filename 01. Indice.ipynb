{
 "cells": [
  {
   "cell_type": "markdown",
   "id": "6312c412-fb4f-4b96-9659-9a42d5c56a12",
   "metadata": {},
   "source": [
    "# Lo importante, desde el análisis de datos, en la cerveza"
   ]
  },
  {
   "cell_type": "markdown",
   "id": "118d00c5-c121-45c9-9345-7eb8f4fa2369",
   "metadata": {},
   "source": [
    "### Algunas cosas para leer\n",
    "\n",
    "#### Metodolgía CRISP\n",
    "https://www.iic.uam.es/innovacion/metodologia-crisp-dm-ciencia-de-datos/\n",
    "\n",
    "#### Training, testing y validación\n",
    "https://en.wikipedia.org/wiki/Training,_validation,_and_test_data_sets"
   ]
  },
  {
   "cell_type": "markdown",
   "id": "2482fe80-4387-458b-bd10-551fe4e2aea9",
   "metadata": {},
   "source": [
    "## Indice\n",
    "1. Adecuando nuestro ambiente (instalando los paquetes que son necesarios)\n",
    "1. Análisis exploratorio y limpieza de datos\n",
    "1. Definiendo qué es popularidad\n",
    "1. Identificación visual de las clases ¿se puede hacer?\n",
    "1. Separando dataset en training/testing y validacion\n",
    "1. Creando nuesto primer modelo\n",
    "1. La primera mejora, calculamos manualmente el mejor punto de corte\n",
    "1. Optimización de hiper parámetros, obteniendo el mejor punto de corte\n",
    "1. Optimización de hiper parámetros, sumanos otros parámetros más\n",
    "1. A darle atomos, sumamos varios parámetros\n",
    "1. Comprendiendo lo que el árbol nos cuenta\n",
    "1. Contraste de modelos - quitar variables importantes - parte 1\n",
    "1. Contraste de modelos - quitar variables importantes - parte 2\n",
    "1. Contraste de modelos - quitar variables importantes - parte 3\n",
    "1. Contraste de modelos - quitar variables importantes - parte 4\n",
    "1. Analizando el modelo ganador"
   ]
  },
  {
   "cell_type": "markdown",
   "id": "599f618f-8bc2-49d2-bdac-a7dd644fc5c4",
   "metadata": {},
   "source": [
    "## Metodología CRISP"
   ]
  },
  {
   "cell_type": "markdown",
   "id": "3416e112-35eb-476a-b23f-99167507fa4e",
   "metadata": {
    "tags": []
   },
   "source": [
    "![image info](./img-doc/CRISP-DM.png)"
   ]
  },
  {
   "cell_type": "markdown",
   "id": "b1a5bee0-4011-4985-bd6a-6561306349c1",
   "metadata": {},
   "source": [
    "### Cómo dividimos nuestros datos"
   ]
  },
  {
   "cell_type": "markdown",
   "id": "24746175-d54c-4eba-91ca-e9ef91595020",
   "metadata": {
    "tags": []
   },
   "source": [
    "![image info](./img-doc/Datasets.png)"
   ]
  }
 ],
 "metadata": {
  "kernelspec": {
   "display_name": "Python 3 (ipykernel)",
   "language": "python",
   "name": "python3"
  },
  "language_info": {
   "codemirror_mode": {
    "name": "ipython",
    "version": 3
   },
   "file_extension": ".py",
   "mimetype": "text/x-python",
   "name": "python",
   "nbconvert_exporter": "python",
   "pygments_lexer": "ipython3",
   "version": "3.9.16"
  }
 },
 "nbformat": 4,
 "nbformat_minor": 5
}
