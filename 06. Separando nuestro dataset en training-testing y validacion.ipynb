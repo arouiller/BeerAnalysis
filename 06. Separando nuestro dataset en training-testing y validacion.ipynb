{
 "cells": [
  {
   "cell_type": "markdown",
   "id": "51d9a7fa-6628-4e43-8ac6-38851d6946c3",
   "metadata": {
    "tags": []
   },
   "source": [
    "# 06. Separando nuestro dataset"
   ]
  },
  {
   "cell_type": "markdown",
   "id": "ea557b7b-6959-4459-88e9-0d25a2acf9c7",
   "metadata": {},
   "source": [
    "![image info](./img-doc/Datasets.png)"
   ]
  },
  {
   "cell_type": "markdown",
   "id": "30332897-7eaf-462e-b73c-751f9614bce3",
   "metadata": {
    "tags": []
   },
   "source": [
    "## Importamos paquetes necesarios"
   ]
  },
  {
   "cell_type": "code",
   "execution_count": 1,
   "id": "2a1530cc-481e-4d1a-8a60-693577d7f6b6",
   "metadata": {
    "tags": []
   },
   "outputs": [],
   "source": [
    "import pandas as pd\n",
    "\n",
    "from sklearn.model_selection import train_test_split "
   ]
  },
  {
   "cell_type": "markdown",
   "id": "1edb4836-950e-4131-8e68-e803a0ec3f50",
   "metadata": {},
   "source": [
    "## Separando nuestros datasets"
   ]
  },
  {
   "cell_type": "code",
   "execution_count": 2,
   "id": "f91cf8bc-8a7d-4365-afb3-9c6c73bf51d9",
   "metadata": {
    "tags": []
   },
   "outputs": [
    {
     "data": {
      "text/html": [
       "<div>\n",
       "<style scoped>\n",
       "    .dataframe tbody tr th:only-of-type {\n",
       "        vertical-align: middle;\n",
       "    }\n",
       "\n",
       "    .dataframe tbody tr th {\n",
       "        vertical-align: top;\n",
       "    }\n",
       "\n",
       "    .dataframe thead th {\n",
       "        text-align: right;\n",
       "    }\n",
       "</style>\n",
       "<table border=\"1\" class=\"dataframe\">\n",
       "  <thead>\n",
       "    <tr style=\"text-align: right;\">\n",
       "      <th></th>\n",
       "      <th>beer_beerid</th>\n",
       "      <th>beer_name</th>\n",
       "      <th>brewery_id</th>\n",
       "      <th>brewery_name</th>\n",
       "      <th>beer_style</th>\n",
       "      <th>beer_abv</th>\n",
       "      <th>review_overall</th>\n",
       "      <th>review_aroma</th>\n",
       "      <th>review_appearance</th>\n",
       "      <th>review_palate</th>\n",
       "      <th>review_taste</th>\n",
       "      <th>cantidad_revisiones</th>\n",
       "      <th>revision_primera</th>\n",
       "      <th>revision_ultima</th>\n",
       "      <th>edad</th>\n",
       "      <th>disponibilidad</th>\n",
       "      <th>es_popular</th>\n",
       "    </tr>\n",
       "  </thead>\n",
       "  <tbody>\n",
       "    <tr>\n",
       "      <th>0</th>\n",
       "      <td>47986</td>\n",
       "      <td>Sausa Weizen</td>\n",
       "      <td>10325</td>\n",
       "      <td>Vecchio Birraio</td>\n",
       "      <td>Hefeweizen</td>\n",
       "      <td>5.0</td>\n",
       "      <td>1.5</td>\n",
       "      <td>2.0</td>\n",
       "      <td>2.5</td>\n",
       "      <td>1.5</td>\n",
       "      <td>1.5</td>\n",
       "      <td>1</td>\n",
       "      <td>2009-02-16</td>\n",
       "      <td>2009-02-16</td>\n",
       "      <td>3</td>\n",
       "      <td>1</td>\n",
       "      <td>NO</td>\n",
       "    </tr>\n",
       "    <tr>\n",
       "      <th>1</th>\n",
       "      <td>48213</td>\n",
       "      <td>Red Moon</td>\n",
       "      <td>10325</td>\n",
       "      <td>Vecchio Birraio</td>\n",
       "      <td>English Strong Ale</td>\n",
       "      <td>6.2</td>\n",
       "      <td>3.0</td>\n",
       "      <td>2.5</td>\n",
       "      <td>3.0</td>\n",
       "      <td>3.0</td>\n",
       "      <td>3.0</td>\n",
       "      <td>1</td>\n",
       "      <td>2009-03-01</td>\n",
       "      <td>2009-03-01</td>\n",
       "      <td>3</td>\n",
       "      <td>1</td>\n",
       "      <td>NO</td>\n",
       "    </tr>\n",
       "    <tr>\n",
       "      <th>2</th>\n",
       "      <td>48215</td>\n",
       "      <td>Black Horse Black Beer</td>\n",
       "      <td>10325</td>\n",
       "      <td>Vecchio Birraio</td>\n",
       "      <td>Foreign / Export Stout</td>\n",
       "      <td>6.5</td>\n",
       "      <td>3.0</td>\n",
       "      <td>2.5</td>\n",
       "      <td>3.0</td>\n",
       "      <td>3.0</td>\n",
       "      <td>3.0</td>\n",
       "      <td>1</td>\n",
       "      <td>2009-03-01</td>\n",
       "      <td>2009-03-01</td>\n",
       "      <td>3</td>\n",
       "      <td>1</td>\n",
       "      <td>NO</td>\n",
       "    </tr>\n",
       "    <tr>\n",
       "      <th>3</th>\n",
       "      <td>47969</td>\n",
       "      <td>Sausa Pils</td>\n",
       "      <td>10325</td>\n",
       "      <td>Vecchio Birraio</td>\n",
       "      <td>German Pilsener</td>\n",
       "      <td>5.0</td>\n",
       "      <td>3.0</td>\n",
       "      <td>3.0</td>\n",
       "      <td>3.5</td>\n",
       "      <td>2.5</td>\n",
       "      <td>3.0</td>\n",
       "      <td>1</td>\n",
       "      <td>2009-02-15</td>\n",
       "      <td>2009-02-15</td>\n",
       "      <td>3</td>\n",
       "      <td>1</td>\n",
       "      <td>NO</td>\n",
       "    </tr>\n",
       "    <tr>\n",
       "      <th>4</th>\n",
       "      <td>64883</td>\n",
       "      <td>Cauldron DIPA</td>\n",
       "      <td>1075</td>\n",
       "      <td>Caldera Brewing Company</td>\n",
       "      <td>American Double / Imperial IPA</td>\n",
       "      <td>7.7</td>\n",
       "      <td>4.0</td>\n",
       "      <td>4.5</td>\n",
       "      <td>4.0</td>\n",
       "      <td>4.0</td>\n",
       "      <td>4.5</td>\n",
       "      <td>1</td>\n",
       "      <td>2010-12-30</td>\n",
       "      <td>2010-12-30</td>\n",
       "      <td>2</td>\n",
       "      <td>1</td>\n",
       "      <td>NO</td>\n",
       "    </tr>\n",
       "  </tbody>\n",
       "</table>\n",
       "</div>"
      ],
      "text/plain": [
       "   beer_beerid               beer_name  brewery_id             brewery_name   \n",
       "0        47986            Sausa Weizen       10325          Vecchio Birraio  \\\n",
       "1        48213                Red Moon       10325          Vecchio Birraio   \n",
       "2        48215  Black Horse Black Beer       10325          Vecchio Birraio   \n",
       "3        47969              Sausa Pils       10325          Vecchio Birraio   \n",
       "4        64883           Cauldron DIPA        1075  Caldera Brewing Company   \n",
       "\n",
       "                       beer_style  beer_abv  review_overall  review_aroma   \n",
       "0                      Hefeweizen       5.0             1.5           2.0  \\\n",
       "1              English Strong Ale       6.2             3.0           2.5   \n",
       "2          Foreign / Export Stout       6.5             3.0           2.5   \n",
       "3                 German Pilsener       5.0             3.0           3.0   \n",
       "4  American Double / Imperial IPA       7.7             4.0           4.5   \n",
       "\n",
       "   review_appearance  review_palate  review_taste  cantidad_revisiones   \n",
       "0                2.5            1.5           1.5                    1  \\\n",
       "1                3.0            3.0           3.0                    1   \n",
       "2                3.0            3.0           3.0                    1   \n",
       "3                3.5            2.5           3.0                    1   \n",
       "4                4.0            4.0           4.5                    1   \n",
       "\n",
       "  revision_primera revision_ultima  edad  disponibilidad es_popular  \n",
       "0       2009-02-16      2009-02-16     3               1         NO  \n",
       "1       2009-03-01      2009-03-01     3               1         NO  \n",
       "2       2009-03-01      2009-03-01     3               1         NO  \n",
       "3       2009-02-15      2009-02-15     3               1         NO  \n",
       "4       2010-12-30      2010-12-30     2               1         NO  "
      ]
     },
     "execution_count": 2,
     "metadata": {},
     "output_type": "execute_result"
    }
   ],
   "source": [
    "file_cervezas_unicas_resumen_valores_con_clase = 'dataset/cervezas_unicas_resumen_valores_con_clase.csv'\n",
    "df = pd.read_csv(file_cervezas_unicas_resumen_valores_con_clase)\n",
    "df.head()"
   ]
  },
  {
   "cell_type": "code",
   "execution_count": 5,
   "id": "83337b3f-d43a-4058-9ef8-982676b02668",
   "metadata": {
    "tags": []
   },
   "outputs": [],
   "source": [
    "file_cervezas_unicas_resumen_valores_con_clase_training = 'dataset/cervezas_unicas_resumen_valores_con_clase_train.csv'\n",
    "file_cervezas_unicas_resumen_valores_con_clase_testing = 'dataset/cervezas_unicas_resumen_valores_con_clase_test.csv'\n",
    "\n",
    "\n",
    "df_X = df.loc[:, ['beer_beerid', 'beer_name', 'brewery_id', 'brewery_name', 'beer_style',\n",
    "       'beer_abv', 'review_overall', 'review_aroma', 'review_appearance',\n",
    "       'review_palate', 'review_taste', 'cantidad_revisiones',\n",
    "       'revision_primera', 'revision_ultima', 'es_popular']]\n",
    "\n",
    "df_Y = df.loc[:, ['es_popular']]\n",
    "\n",
    "df_train, df_test, y_train, y_test = train_test_split(df_X, df_Y, test_size=0.3, random_state=1, stratify=df_Y)\n",
    "\n",
    "df_train['es_popular'] = y_train['es_popular']\n",
    "\n",
    "df_test['es_popular'] = y_test['es_popular']\n",
    "\n",
    "df_train.to_csv(file_cervezas_unicas_resumen_valores_con_clase_training, index=False)\n",
    "df_test.to_csv(file_cervezas_unicas_resumen_valores_con_clase_testing, index=False)"
   ]
  }
 ],
 "metadata": {
  "kernelspec": {
   "display_name": "Python 3 (ipykernel)",
   "language": "python",
   "name": "python3"
  },
  "language_info": {
   "codemirror_mode": {
    "name": "ipython",
    "version": 3
   },
   "file_extension": ".py",
   "mimetype": "text/x-python",
   "name": "python",
   "nbconvert_exporter": "python",
   "pygments_lexer": "ipython3",
   "version": "3.9.16"
  }
 },
 "nbformat": 4,
 "nbformat_minor": 5
}
