{
 "cells": [
  {
   "cell_type": "markdown",
   "id": "ef373e3c-f101-4414-9bee-3b858694314a",
   "metadata": {},
   "source": [
    "# 07. Creando nuestro primer modelo"
   ]
  },
  {
   "cell_type": "markdown",
   "id": "2802a1d6-73a8-4ca6-b6ab-15f21dbd6325",
   "metadata": {},
   "source": [
    "### Algunas cosas para leer\n",
    "\n",
    "#### ¿Qué es un árbol de decisión?\n",
    "https://www.ibm.com/es-es/topics/decision-trees\n",
    "\n",
    "#### ¿Qué es la matriz de confusión y las métricas asociadas?\n",
    "https://profesordata.com/2020/08/07/evaluando-los-modelos-de-clasificacion-en-aprendizaje-automatico-la-matriz-de-confusion-claramente-explicada/\n",
    "\n",
    "#### ¿Qué es MLFflow?\n",
    "https://anderfernandez.com/blog/tutorial-mlflow-completo/#:~:text=MLflow%20es%20una%20herramienta%20de,tal%20forma%20que%20sea%20reproducible."
   ]
  },
  {
   "cell_type": "markdown",
   "id": "30332897-7eaf-462e-b73c-751f9614bce3",
   "metadata": {
    "tags": []
   },
   "source": [
    "## Importamos paquetes necesarios"
   ]
  },
  {
   "cell_type": "code",
   "execution_count": 1,
   "id": "2a1530cc-481e-4d1a-8a60-693577d7f6b6",
   "metadata": {
    "tags": []
   },
   "outputs": [],
   "source": [
    "import pandas as pd\n",
    "import numpy as np\n",
    "import pydotplus\n",
    "\n",
    "import matplotlib.pyplot as plt\n",
    "\n",
    "from sklearn.model_selection import train_test_split\n",
    "from sklearn.metrics import ConfusionMatrixDisplay\n",
    "from sklearn.metrics import confusion_matrix\n",
    "\n",
    "from sklearn.tree import DecisionTreeClassifier\n",
    "\n",
    "from IPython.display import Image  \n",
    "\n",
    "import graphviz_tools as agt\n",
    "import mlflow_utils as a_mlflow_u\n",
    "import tree_utils as atu"
   ]
  },
  {
   "cell_type": "markdown",
   "id": "39462cb7-47aa-4db7-aebe-90ba81a77c38",
   "metadata": {
    "tags": []
   },
   "source": [
    "# Preparando nuestro primer modelo"
   ]
  },
  {
   "cell_type": "markdown",
   "id": "521c0be0-a693-4bcd-9eb0-3ee15e3ca3eb",
   "metadata": {},
   "source": [
    "## Cargamos nuestros dataset"
   ]
  },
  {
   "cell_type": "code",
   "execution_count": 2,
   "id": "ed045b71-c7d5-44fd-9a28-4cedbbde4fa8",
   "metadata": {},
   "outputs": [
    {
     "data": {
      "text/html": [
       "<div>\n",
       "<style scoped>\n",
       "    .dataframe tbody tr th:only-of-type {\n",
       "        vertical-align: middle;\n",
       "    }\n",
       "\n",
       "    .dataframe tbody tr th {\n",
       "        vertical-align: top;\n",
       "    }\n",
       "\n",
       "    .dataframe thead th {\n",
       "        text-align: right;\n",
       "    }\n",
       "</style>\n",
       "<table border=\"1\" class=\"dataframe\">\n",
       "  <thead>\n",
       "    <tr style=\"text-align: right;\">\n",
       "      <th></th>\n",
       "      <th>beer_abv</th>\n",
       "      <th>review_aroma</th>\n",
       "      <th>review_appearance</th>\n",
       "      <th>review_taste</th>\n",
       "      <th>review_overall</th>\n",
       "      <th>review_palate</th>\n",
       "      <th>es_popular</th>\n",
       "    </tr>\n",
       "  </thead>\n",
       "  <tbody>\n",
       "    <tr>\n",
       "      <th>0</th>\n",
       "      <td>6.0</td>\n",
       "      <td>3.564000</td>\n",
       "      <td>3.736000</td>\n",
       "      <td>3.592000</td>\n",
       "      <td>3.776000</td>\n",
       "      <td>3.620000</td>\n",
       "      <td>NO</td>\n",
       "    </tr>\n",
       "    <tr>\n",
       "      <th>1</th>\n",
       "      <td>4.5</td>\n",
       "      <td>2.608108</td>\n",
       "      <td>3.351351</td>\n",
       "      <td>2.743243</td>\n",
       "      <td>2.945946</td>\n",
       "      <td>3.054054</td>\n",
       "      <td>NO</td>\n",
       "    </tr>\n",
       "    <tr>\n",
       "      <th>2</th>\n",
       "      <td>4.4</td>\n",
       "      <td>3.727273</td>\n",
       "      <td>3.727273</td>\n",
       "      <td>3.545455</td>\n",
       "      <td>3.545455</td>\n",
       "      <td>3.545455</td>\n",
       "      <td>NO</td>\n",
       "    </tr>\n",
       "    <tr>\n",
       "      <th>3</th>\n",
       "      <td>7.5</td>\n",
       "      <td>3.750000</td>\n",
       "      <td>3.500000</td>\n",
       "      <td>3.750000</td>\n",
       "      <td>3.750000</td>\n",
       "      <td>4.000000</td>\n",
       "      <td>NO</td>\n",
       "    </tr>\n",
       "    <tr>\n",
       "      <th>4</th>\n",
       "      <td>7.8</td>\n",
       "      <td>2.500000</td>\n",
       "      <td>3.500000</td>\n",
       "      <td>3.500000</td>\n",
       "      <td>3.500000</td>\n",
       "      <td>3.500000</td>\n",
       "      <td>NO</td>\n",
       "    </tr>\n",
       "  </tbody>\n",
       "</table>\n",
       "</div>"
      ],
      "text/plain": [
       "   beer_abv  review_aroma  review_appearance  review_taste  review_overall   \n",
       "0       6.0      3.564000           3.736000      3.592000        3.776000  \\\n",
       "1       4.5      2.608108           3.351351      2.743243        2.945946   \n",
       "2       4.4      3.727273           3.727273      3.545455        3.545455   \n",
       "3       7.5      3.750000           3.500000      3.750000        3.750000   \n",
       "4       7.8      2.500000           3.500000      3.500000        3.500000   \n",
       "\n",
       "   review_palate es_popular  \n",
       "0       3.620000         NO  \n",
       "1       3.054054         NO  \n",
       "2       3.545455         NO  \n",
       "3       4.000000         NO  \n",
       "4       3.500000         NO  "
      ]
     },
     "execution_count": 2,
     "metadata": {},
     "output_type": "execute_result"
    }
   ],
   "source": [
    "file_cervezas_unicas_resumen_valores_con_clase_training = 'dataset/cervezas_unicas_resumen_valores_con_clase_train.csv'\n",
    "file_cervezas_unicas_resumen_valores_con_clase_testing = 'dataset/cervezas_unicas_resumen_valores_con_clase_test.csv'\n",
    "\n",
    "campos = ['beer_abv', 'review_aroma', 'review_appearance', 'review_taste', 'review_overall', 'review_palate', 'es_popular']\n",
    "\n",
    "df_training_validacion = pd.read_csv(file_cervezas_unicas_resumen_valores_con_clase_training)\n",
    "df_testing = pd.read_csv(file_cervezas_unicas_resumen_valores_con_clase_testing)\n",
    "\n",
    "df_training_validacion = df_training_validacion.loc[:, campos]\n",
    "df_testing = df_testing.loc[:, campos]\n",
    "\n",
    "df_training_validacion.head()"
   ]
  },
  {
   "cell_type": "markdown",
   "id": "2695a7d2-cbd7-4521-a4f0-66b39861cbc4",
   "metadata": {},
   "source": [
    "## Separamos en training y validacion"
   ]
  },
  {
   "cell_type": "markdown",
   "id": "92ab2e23-1fc1-45f7-9f9f-732637ece674",
   "metadata": {},
   "source": [
    "![image info](./img-doc/Datasets.png)"
   ]
  },
  {
   "cell_type": "code",
   "execution_count": 3,
   "id": "1109ae17-3285-47dd-a8c8-608d65f68f8e",
   "metadata": {
    "tags": []
   },
   "outputs": [],
   "source": [
    "random_state = 1\n",
    "test_size = 0.3\n",
    "\n",
    "atributos = ['beer_abv', 'review_aroma', 'review_appearance', 'review_taste', 'review_overall', 'review_palate']\n",
    "clase = ['es_popular']\n",
    "\n",
    "Y_df_training_validacion = df_training_validacion.loc[:, clase]\n",
    "df_training_validacion = df_training_validacion.loc[:, atributos]\n",
    "\n",
    "X_train, X_validacion, Y_train, Y_validacion = train_test_split(\n",
    "    df_training_validacion, \n",
    "    Y_df_training_validacion, \n",
    "    test_size=test_size, \n",
    "    random_state=random_state\n",
    ")"
   ]
  },
  {
   "cell_type": "markdown",
   "id": "72986fd7-057e-4515-b16a-cc2ff0234b5c",
   "metadata": {},
   "source": [
    "### Tambien abrimos en X e Y el dataset de testing"
   ]
  },
  {
   "cell_type": "code",
   "execution_count": 4,
   "id": "5966e938-0962-4d32-98dc-e3ad12b5873b",
   "metadata": {
    "tags": []
   },
   "outputs": [],
   "source": [
    "X_testing = df_testing.loc[:, atributos]\n",
    "Y_testing = df_testing.loc[:, clase]"
   ]
  },
  {
   "cell_type": "markdown",
   "id": "4723c646-2160-4518-a5ae-9e0599ff94f6",
   "metadata": {},
   "source": [
    "## Generamos nuestro primer modelo"
   ]
  },
  {
   "cell_type": "code",
   "execution_count": 6,
   "id": "d97b35bc-8736-433b-958d-a3d98e009e47",
   "metadata": {
    "tags": []
   },
   "outputs": [],
   "source": [
    "max_depth = 4\n",
    "criterion='gini'\n",
    "clf = DecisionTreeClassifier(\n",
    "            criterion = criterion,\n",
    "            max_depth=max_depth,\n",
    "            random_state=1\n",
    "        )\n",
    "_ = clf.fit(X_train, Y_train)\n"
   ]
  },
  {
   "cell_type": "code",
   "execution_count": 7,
   "id": "ceac01b7-5a45-4f5b-aa88-1789bb7cd1f1",
   "metadata": {
    "tags": []
   },
   "outputs": [
    {
     "data": {
      "image/png": "[encoded data removed]",
      "text/plain": [
       "<IPython.core.display.Image object>"
      ]
     },
     "execution_count": 7,
     "metadata": {},
     "output_type": "execute_result"
    }
   ],
   "source": [
    "dot_data_value = agt.crear_arbol(clf, negative_class = 'NO', positive_class = 'SI', umbral = 0.5)\n",
    "\n",
    "graph = pydotplus.graph_from_dot_data(dot_data_value)  \n",
    "graph.set_size('\"50,50\"')\n",
    "graph.write_png('img/modelo_1.png')\n",
    "Image(graph.create_png())"
   ]
  },
  {
   "cell_type": "markdown",
   "id": "d6e3402c-c6ff-42df-9b97-0744828f0c7d",
   "metadata": {},
   "source": [
    "## Entendiendo cómo se particionan los datos"
   ]
  },
  {
   "cell_type": "markdown",
   "id": "cf5f8c95-533a-4de6-b3ea-58785640b5d3",
   "metadata": {},
   "source": [
    "### Gini index\n",
    "\n",
    "$\\Large Ig=1-\\sum_{j=1}^{c} (p_j)^2$\n"
   ]
  },
  {
   "cell_type": "code",
   "execution_count": 8,
   "id": "e946a1dc-430f-4c0f-a479-a2517e062f26",
   "metadata": {
    "tags": []
   },
   "outputs": [
    {
     "data": {
      "text/html": [
       "<div>\n",
       "<style scoped>\n",
       "    .dataframe tbody tr th:only-of-type {\n",
       "        vertical-align: middle;\n",
       "    }\n",
       "\n",
       "    .dataframe tbody tr th {\n",
       "        vertical-align: top;\n",
       "    }\n",
       "\n",
       "    .dataframe thead th {\n",
       "        text-align: right;\n",
       "    }\n",
       "</style>\n",
       "<table border=\"1\" class=\"dataframe\">\n",
       "  <thead>\n",
       "    <tr style=\"text-align: right;\">\n",
       "      <th></th>\n",
       "      <th>children_left</th>\n",
       "      <th>children_right</th>\n",
       "      <th>feature</th>\n",
       "      <th>threshold</th>\n",
       "      <th>impurity</th>\n",
       "      <th>node_samples</th>\n",
       "      <th>NO</th>\n",
       "      <th>SI</th>\n",
       "    </tr>\n",
       "  </thead>\n",
       "  <tbody>\n",
       "    <tr>\n",
       "      <th>0</th>\n",
       "      <td>1</td>\n",
       "      <td>14</td>\n",
       "      <td>4</td>\n",
       "      <td>3.500828</td>\n",
       "      <td>0.096071</td>\n",
       "      <td>24014</td>\n",
       "      <td>22799</td>\n",
       "      <td>1215</td>\n",
       "    </tr>\n",
       "    <tr>\n",
       "      <th>1</th>\n",
       "      <td>2</td>\n",
       "      <td>9</td>\n",
       "      <td>4</td>\n",
       "      <td>3.498377</td>\n",
       "      <td>0.033593</td>\n",
       "      <td>9012</td>\n",
       "      <td>8858</td>\n",
       "      <td>154</td>\n",
       "    </tr>\n",
       "    <tr>\n",
       "      <th>2</th>\n",
       "      <td>3</td>\n",
       "      <td>6</td>\n",
       "      <td>4</td>\n",
       "      <td>3.376341</td>\n",
       "      <td>0.047643</td>\n",
       "      <td>6266</td>\n",
       "      <td>6113</td>\n",
       "      <td>153</td>\n",
       "    </tr>\n",
       "    <tr>\n",
       "      <th>3</th>\n",
       "      <td>4</td>\n",
       "      <td>5</td>\n",
       "      <td>4</td>\n",
       "      <td>3.006854</td>\n",
       "      <td>0.035782</td>\n",
       "      <td>5762</td>\n",
       "      <td>5657</td>\n",
       "      <td>105</td>\n",
       "    </tr>\n",
       "    <tr>\n",
       "      <th>4</th>\n",
       "      <td>-1</td>\n",
       "      <td>-1</td>\n",
       "      <td>-2</td>\n",
       "      <td>-2.000000</td>\n",
       "      <td>0.018425</td>\n",
       "      <td>3979</td>\n",
       "      <td>3942</td>\n",
       "      <td>37</td>\n",
       "    </tr>\n",
       "    <tr>\n",
       "      <th>5</th>\n",
       "      <td>-1</td>\n",
       "      <td>-1</td>\n",
       "      <td>-2</td>\n",
       "      <td>-2.000000</td>\n",
       "      <td>0.073367</td>\n",
       "      <td>1783</td>\n",
       "      <td>1715</td>\n",
       "      <td>68</td>\n",
       "    </tr>\n",
       "    <tr>\n",
       "      <th>6</th>\n",
       "      <td>7</td>\n",
       "      <td>8</td>\n",
       "      <td>4</td>\n",
       "      <td>3.382259</td>\n",
       "      <td>0.172336</td>\n",
       "      <td>504</td>\n",
       "      <td>456</td>\n",
       "      <td>48</td>\n",
       "    </tr>\n",
       "    <tr>\n",
       "      <th>7</th>\n",
       "      <td>-1</td>\n",
       "      <td>-1</td>\n",
       "      <td>-2</td>\n",
       "      <td>-2.000000</td>\n",
       "      <td>0.500000</td>\n",
       "      <td>14</td>\n",
       "      <td>7</td>\n",
       "      <td>7</td>\n",
       "    </tr>\n",
       "    <tr>\n",
       "      <th>8</th>\n",
       "      <td>-1</td>\n",
       "      <td>-1</td>\n",
       "      <td>-2</td>\n",
       "      <td>-2.000000</td>\n",
       "      <td>0.153344</td>\n",
       "      <td>490</td>\n",
       "      <td>449</td>\n",
       "      <td>41</td>\n",
       "    </tr>\n",
       "    <tr>\n",
       "      <th>9</th>\n",
       "      <td>10</td>\n",
       "      <td>13</td>\n",
       "      <td>3</td>\n",
       "      <td>3.154514</td>\n",
       "      <td>0.000728</td>\n",
       "      <td>2746</td>\n",
       "      <td>2745</td>\n",
       "      <td>1</td>\n",
       "    </tr>\n",
       "    <tr>\n",
       "      <th>10</th>\n",
       "      <td>11</td>\n",
       "      <td>12</td>\n",
       "      <td>3</td>\n",
       "      <td>3.133681</td>\n",
       "      <td>0.004890</td>\n",
       "      <td>408</td>\n",
       "      <td>407</td>\n",
       "      <td>1</td>\n",
       "    </tr>\n",
       "    <tr>\n",
       "      <th>11</th>\n",
       "      <td>-1</td>\n",
       "      <td>-1</td>\n",
       "      <td>-2</td>\n",
       "      <td>-2.000000</td>\n",
       "      <td>0.000000</td>\n",
       "      <td>407</td>\n",
       "      <td>407</td>\n",
       "      <td>0</td>\n",
       "    </tr>\n",
       "    <tr>\n",
       "      <th>12</th>\n",
       "      <td>-1</td>\n",
       "      <td>-1</td>\n",
       "      <td>-2</td>\n",
       "      <td>-2.000000</td>\n",
       "      <td>0.000000</td>\n",
       "      <td>1</td>\n",
       "      <td>0</td>\n",
       "      <td>1</td>\n",
       "    </tr>\n",
       "    <tr>\n",
       "      <th>13</th>\n",
       "      <td>-1</td>\n",
       "      <td>-1</td>\n",
       "      <td>-2</td>\n",
       "      <td>-2.000000</td>\n",
       "      <td>0.000000</td>\n",
       "      <td>2338</td>\n",
       "      <td>2338</td>\n",
       "      <td>0</td>\n",
       "    </tr>\n",
       "    <tr>\n",
       "      <th>14</th>\n",
       "      <td>15</td>\n",
       "      <td>22</td>\n",
       "      <td>4</td>\n",
       "      <td>3.999475</td>\n",
       "      <td>0.131444</td>\n",
       "      <td>15002</td>\n",
       "      <td>13941</td>\n",
       "      <td>1061</td>\n",
       "    </tr>\n",
       "    <tr>\n",
       "      <th>15</th>\n",
       "      <td>16</td>\n",
       "      <td>19</td>\n",
       "      <td>4</td>\n",
       "      <td>3.900216</td>\n",
       "      <td>0.207491</td>\n",
       "      <td>5903</td>\n",
       "      <td>5209</td>\n",
       "      <td>694</td>\n",
       "    </tr>\n",
       "    <tr>\n",
       "      <th>16</th>\n",
       "      <td>17</td>\n",
       "      <td>18</td>\n",
       "      <td>2</td>\n",
       "      <td>3.506323</td>\n",
       "      <td>0.180625</td>\n",
       "      <td>5120</td>\n",
       "      <td>4606</td>\n",
       "      <td>514</td>\n",
       "    </tr>\n",
       "    <tr>\n",
       "      <th>17</th>\n",
       "      <td>-1</td>\n",
       "      <td>-1</td>\n",
       "      <td>-2</td>\n",
       "      <td>-2.000000</td>\n",
       "      <td>0.072076</td>\n",
       "      <td>828</td>\n",
       "      <td>797</td>\n",
       "      <td>31</td>\n",
       "    </tr>\n",
       "    <tr>\n",
       "      <th>18</th>\n",
       "      <td>-1</td>\n",
       "      <td>-1</td>\n",
       "      <td>-2</td>\n",
       "      <td>-2.000000</td>\n",
       "      <td>0.199742</td>\n",
       "      <td>4292</td>\n",
       "      <td>3809</td>\n",
       "      <td>483</td>\n",
       "    </tr>\n",
       "    <tr>\n",
       "      <th>19</th>\n",
       "      <td>20</td>\n",
       "      <td>21</td>\n",
       "      <td>4</td>\n",
       "      <td>3.966809</td>\n",
       "      <td>0.354076</td>\n",
       "      <td>783</td>\n",
       "      <td>603</td>\n",
       "      <td>180</td>\n",
       "    </tr>\n",
       "    <tr>\n",
       "      <th>20</th>\n",
       "      <td>-1</td>\n",
       "      <td>-1</td>\n",
       "      <td>-2</td>\n",
       "      <td>-2.000000</td>\n",
       "      <td>0.313538</td>\n",
       "      <td>637</td>\n",
       "      <td>513</td>\n",
       "      <td>124</td>\n",
       "    </tr>\n",
       "    <tr>\n",
       "      <th>21</th>\n",
       "      <td>-1</td>\n",
       "      <td>-1</td>\n",
       "      <td>-2</td>\n",
       "      <td>-2.000000</td>\n",
       "      <td>0.472884</td>\n",
       "      <td>146</td>\n",
       "      <td>90</td>\n",
       "      <td>56</td>\n",
       "    </tr>\n",
       "    <tr>\n",
       "      <th>22</th>\n",
       "      <td>23</td>\n",
       "      <td>26</td>\n",
       "      <td>4</td>\n",
       "      <td>4.000919</td>\n",
       "      <td>0.077415</td>\n",
       "      <td>9099</td>\n",
       "      <td>8732</td>\n",
       "      <td>367</td>\n",
       "    </tr>\n",
       "    <tr>\n",
       "      <th>23</th>\n",
       "      <td>24</td>\n",
       "      <td>25</td>\n",
       "      <td>0</td>\n",
       "      <td>8.950000</td>\n",
       "      <td>0.001972</td>\n",
       "      <td>4052</td>\n",
       "      <td>4048</td>\n",
       "      <td>4</td>\n",
       "    </tr>\n",
       "    <tr>\n",
       "      <th>24</th>\n",
       "      <td>-1</td>\n",
       "      <td>-1</td>\n",
       "      <td>-2</td>\n",
       "      <td>-2.000000</td>\n",
       "      <td>0.001106</td>\n",
       "      <td>3615</td>\n",
       "      <td>3613</td>\n",
       "      <td>2</td>\n",
       "    </tr>\n",
       "    <tr>\n",
       "      <th>25</th>\n",
       "      <td>-1</td>\n",
       "      <td>-1</td>\n",
       "      <td>-2</td>\n",
       "      <td>-2.000000</td>\n",
       "      <td>0.009111</td>\n",
       "      <td>437</td>\n",
       "      <td>435</td>\n",
       "      <td>2</td>\n",
       "    </tr>\n",
       "    <tr>\n",
       "      <th>26</th>\n",
       "      <td>27</td>\n",
       "      <td>28</td>\n",
       "      <td>4</td>\n",
       "      <td>4.124717</td>\n",
       "      <td>0.133502</td>\n",
       "      <td>5047</td>\n",
       "      <td>4684</td>\n",
       "      <td>363</td>\n",
       "    </tr>\n",
       "    <tr>\n",
       "      <th>27</th>\n",
       "      <td>-1</td>\n",
       "      <td>-1</td>\n",
       "      <td>-2</td>\n",
       "      <td>-2.000000</td>\n",
       "      <td>0.358792</td>\n",
       "      <td>875</td>\n",
       "      <td>670</td>\n",
       "      <td>205</td>\n",
       "    </tr>\n",
       "    <tr>\n",
       "      <th>28</th>\n",
       "      <td>-1</td>\n",
       "      <td>-1</td>\n",
       "      <td>-2</td>\n",
       "      <td>-2.000000</td>\n",
       "      <td>0.072875</td>\n",
       "      <td>4172</td>\n",
       "      <td>4014</td>\n",
       "      <td>158</td>\n",
       "    </tr>\n",
       "  </tbody>\n",
       "</table>\n",
       "</div>"
      ],
      "text/plain": [
       "    children_left  children_right  feature  threshold  impurity  node_samples   \n",
       "0               1              14        4   3.500828  0.096071         24014  \\\n",
       "1               2               9        4   3.498377  0.033593          9012   \n",
       "2               3               6        4   3.376341  0.047643          6266   \n",
       "3               4               5        4   3.006854  0.035782          5762   \n",
       "4              -1              -1       -2  -2.000000  0.018425          3979   \n",
       "5              -1              -1       -2  -2.000000  0.073367          1783   \n",
       "6               7               8        4   3.382259  0.172336           504   \n",
       "7              -1              -1       -2  -2.000000  0.500000            14   \n",
       "8              -1              -1       -2  -2.000000  0.153344           490   \n",
       "9              10              13        3   3.154514  0.000728          2746   \n",
       "10             11              12        3   3.133681  0.004890           408   \n",
       "11             -1              -1       -2  -2.000000  0.000000           407   \n",
       "12             -1              -1       -2  -2.000000  0.000000             1   \n",
       "13             -1              -1       -2  -2.000000  0.000000          2338   \n",
       "14             15              22        4   3.999475  0.131444         15002   \n",
       "15             16              19        4   3.900216  0.207491          5903   \n",
       "16             17              18        2   3.506323  0.180625          5120   \n",
       "17             -1              -1       -2  -2.000000  0.072076           828   \n",
       "18             -1              -1       -2  -2.000000  0.199742          4292   \n",
       "19             20              21        4   3.966809  0.354076           783   \n",
       "20             -1              -1       -2  -2.000000  0.313538           637   \n",
       "21             -1              -1       -2  -2.000000  0.472884           146   \n",
       "22             23              26        4   4.000919  0.077415          9099   \n",
       "23             24              25        0   8.950000  0.001972          4052   \n",
       "24             -1              -1       -2  -2.000000  0.001106          3615   \n",
       "25             -1              -1       -2  -2.000000  0.009111           437   \n",
       "26             27              28        4   4.124717  0.133502          5047   \n",
       "27             -1              -1       -2  -2.000000  0.358792           875   \n",
       "28             -1              -1       -2  -2.000000  0.072875          4172   \n",
       "\n",
       "       NO    SI  \n",
       "0   22799  1215  \n",
       "1    8858   154  \n",
       "2    6113   153  \n",
       "3    5657   105  \n",
       "4    3942    37  \n",
       "5    1715    68  \n",
       "6     456    48  \n",
       "7       7     7  \n",
       "8     449    41  \n",
       "9    2745     1  \n",
       "10    407     1  \n",
       "11    407     0  \n",
       "12      0     1  \n",
       "13   2338     0  \n",
       "14  13941  1061  \n",
       "15   5209   694  \n",
       "16   4606   514  \n",
       "17    797    31  \n",
       "18   3809   483  \n",
       "19    603   180  \n",
       "20    513   124  \n",
       "21     90    56  \n",
       "22   8732   367  \n",
       "23   4048     4  \n",
       "24   3613     2  \n",
       "25    435     2  \n",
       "26   4684   363  \n",
       "27    670   205  \n",
       "28   4014   158  "
      ]
     },
     "execution_count": 8,
     "metadata": {},
     "output_type": "execute_result"
    }
   ],
   "source": [
    "n_nodes = clf.tree_.node_count\n",
    "children_left = clf.tree_.children_left\n",
    "children_right = clf.tree_.children_right\n",
    "feature = clf.tree_.feature\n",
    "threshold = clf.tree_.threshold\n",
    "impurity = clf.tree_.impurity\n",
    "node_samples = clf.tree_.n_node_samples\n",
    "\n",
    "df_clases_en_nodo = pd.DataFrame(\n",
    "    clf.tree_.value.reshape(clf.tree_.node_count,clf.tree_.max_n_classes), columns = clf.classes_).astype(int)\n",
    "\n",
    "df_tree = pd.DataFrame(\n",
    "                        { \n",
    "                            'children_left': children_left,\n",
    "                            'children_right': children_right,\n",
    "                            'feature': feature,\n",
    "                            'threshold': threshold,\n",
    "                            'impurity': impurity ,\n",
    "                            'node_samples': node_samples\n",
    "                        })\n",
    "\n",
    "df_tree = pd.concat([df_tree, df_clases_en_nodo], axis=\"columns\")\n",
    "\n",
    "df_tree"
   ]
  },
  {
   "cell_type": "code",
   "execution_count": 9,
   "id": "15e39374-faff-4821-bd6e-6d491cf4bc4e",
   "metadata": {
    "tags": []
   },
   "outputs": [
    {
     "data": {
      "text/plain": [
       "{'samples_nodo': 24014,\n",
       " 'samples_nodo_izquierdo': 9012,\n",
       " 'samples_nodo_derecho': 15002,\n",
       " 'proporcion_samples_nodo_izquierdo': 0.38,\n",
       " 'proporcion_samples_nodo_derecho': 0.62,\n",
       " 'entropia_nodo': 0.0961,\n",
       " 'entropia_nodo_izquierdo': 0.0336,\n",
       " 'entropia_nodo_derecho': 0.1314,\n",
       " 'information_gain': 0.0013}"
      ]
     },
     "execution_count": 9,
     "metadata": {},
     "output_type": "execute_result"
    }
   ],
   "source": [
    "nodo_raiz_idx = 0\n",
    "atu.get_informacion_de_nodo(clf.tree_, nodo_raiz_idx)"
   ]
  },
  {
   "cell_type": "markdown",
   "id": "c2452fa2-19b1-4e72-968a-5d1fd207f781",
   "metadata": {},
   "source": [
    "## Analizamos los resultados con el dataset de validacion"
   ]
  },
  {
   "cell_type": "markdown",
   "id": "df65c221-7877-4f09-9b86-3d27a7be9846",
   "metadata": {},
   "source": [
    "#### Matriz de confusión"
   ]
  },
  {
   "cell_type": "code",
   "execution_count": 10,
   "id": "283e05e8-18dd-4186-b7cf-d2ca63a82878",
   "metadata": {
    "tags": []
   },
   "outputs": [
    {
     "data": {
      "text/html": [
       "<div>\n",
       "<style scoped>\n",
       "    .dataframe tbody tr th:only-of-type {\n",
       "        vertical-align: middle;\n",
       "    }\n",
       "\n",
       "    .dataframe tbody tr th {\n",
       "        vertical-align: top;\n",
       "    }\n",
       "\n",
       "    .dataframe thead th {\n",
       "        text-align: right;\n",
       "    }\n",
       "</style>\n",
       "<table border=\"1\" class=\"dataframe\">\n",
       "  <thead>\n",
       "    <tr style=\"text-align: right;\">\n",
       "      <th></th>\n",
       "      <th>real</th>\n",
       "      <th>prediccion</th>\n",
       "      <th>counts</th>\n",
       "    </tr>\n",
       "  </thead>\n",
       "  <tbody>\n",
       "    <tr>\n",
       "      <th>0</th>\n",
       "      <td>NO</td>\n",
       "      <td>NO</td>\n",
       "      <td>9786</td>\n",
       "    </tr>\n",
       "    <tr>\n",
       "      <th>1</th>\n",
       "      <td>NO</td>\n",
       "      <td>SI</td>\n",
       "      <td>1</td>\n",
       "    </tr>\n",
       "    <tr>\n",
       "      <th>2</th>\n",
       "      <td>SI</td>\n",
       "      <td>NO</td>\n",
       "      <td>506</td>\n",
       "    </tr>\n",
       "  </tbody>\n",
       "</table>\n",
       "</div>"
      ],
      "text/plain": [
       "  real prediccion  counts\n",
       "0   NO         NO    9786\n",
       "1   NO         SI       1\n",
       "2   SI         NO     506"
      ]
     },
     "execution_count": 10,
     "metadata": {},
     "output_type": "execute_result"
    }
   ],
   "source": [
    "Y_validacion_pred = clf.predict(X_validacion)\n",
    "\n",
    "df_matriz_confusion = Y_validacion.copy()\n",
    "df_matriz_confusion.columns = ['real']\n",
    "df_matriz_confusion['prediccion'] = Y_validacion_pred\n",
    "\n",
    "df_matriz_confusion.groupby(by=['real', 'prediccion']).size().reset_index(name='counts')"
   ]
  },
  {
   "cell_type": "code",
   "execution_count": 11,
   "id": "74d4b9e4-789f-43a1-9642-392d24e1e9e4",
   "metadata": {
    "tags": []
   },
   "outputs": [
    {
     "data": {
      "image/png": "[encoded data removed]",
      "text/plain": [
       "<Figure size 640x480 with 2 Axes>"
      ]
     },
     "metadata": {},
     "output_type": "display_data"
    }
   ],
   "source": [
    "cm = confusion_matrix(Y_validacion, Y_validacion_pred, labels=['SI', 'NO'])\n",
    "disp = ConfusionMatrixDisplay(confusion_matrix=cm, display_labels=['SI', 'NO'])\n",
    "disp.plot()\n",
    "plt.xlabel('Predicción')\n",
    "plt.ylabel('Real')\n",
    "plt.show()"
   ]
  },
  {
   "cell_type": "markdown",
   "id": "011e4922-4638-483d-b71b-c87047fbc3b6",
   "metadata": {},
   "source": [
    "### Calculando métricas"
   ]
  },
  {
   "cell_type": "code",
   "execution_count": 12,
   "id": "90977054-dced-41ae-a25c-709021498c0f",
   "metadata": {
    "tags": []
   },
   "outputs": [
    {
     "data": {
      "text/plain": [
       "[0, 1, 9786, 506]"
      ]
     },
     "execution_count": 12,
     "metadata": {},
     "output_type": "execute_result"
    }
   ],
   "source": [
    "true_positives = cm[0,0]\n",
    "true_negatives = cm[1,1]\n",
    "false_positives = cm[1, 0]\n",
    "false_negatives = cm[0,1]\n",
    "\n",
    "[true_positives, false_positives, true_negatives, false_negatives]"
   ]
  },
  {
   "cell_type": "markdown",
   "id": "3539f77a-f87f-4d8d-be94-8d3ccee9b4f2",
   "metadata": {},
   "source": [
    "#### Accuracy\n",
    "(tp + tn) / (tp + tn + fp + fn)\n",
    "\n",
    "Es el porcentaje total de elementos clasificados correctamente."
   ]
  },
  {
   "cell_type": "code",
   "execution_count": 13,
   "id": "d4128941-39ec-4e7a-9934-5d38ea30efdc",
   "metadata": {
    "tags": []
   },
   "outputs": [
    {
     "data": {
      "text/plain": [
       "0.9507432235499854"
      ]
     },
     "execution_count": 13,
     "metadata": {},
     "output_type": "execute_result"
    }
   ],
   "source": [
    "accuracy = (true_positives+true_negatives) / (true_positives + true_negatives + false_positives + false_negatives)\n",
    "accuracy"
   ]
  },
  {
   "cell_type": "markdown",
   "id": "cb706c04-1fe0-4b58-b79c-121a00bcfe1c",
   "metadata": {
    "tags": []
   },
   "source": [
    "#### Recall \n",
    "(tp ) / (tp + fn)\n",
    "\n",
    "Es el número de elementos identificados correctamente como positivos del total de positivos verdaderos."
   ]
  },
  {
   "cell_type": "code",
   "execution_count": 14,
   "id": "46ee009a-97d1-4815-8c24-f9feec00a0c9",
   "metadata": {
    "tags": []
   },
   "outputs": [
    {
     "data": {
      "text/plain": [
       "0.0"
      ]
     },
     "execution_count": 14,
     "metadata": {},
     "output_type": "execute_result"
    }
   ],
   "source": [
    "recall = (true_positives) / (true_positives + false_negatives)\n",
    "recall"
   ]
  },
  {
   "cell_type": "markdown",
   "id": "b5cbccfc-1e71-4e76-9de6-362fbb6c44e7",
   "metadata": {},
   "source": [
    "#### Precision \n",
    "(tp ) / (tp + fp)\n",
    "\n",
    "Es el número de elementos identificados correctamente como positivos de un total de elementos identificados como positivos.\n"
   ]
  },
  {
   "cell_type": "code",
   "execution_count": 15,
   "id": "2b156974-9d3d-4047-8e03-9da9a8203b6a",
   "metadata": {
    "tags": []
   },
   "outputs": [
    {
     "data": {
      "text/plain": [
       "0.0"
      ]
     },
     "execution_count": 15,
     "metadata": {},
     "output_type": "execute_result"
    }
   ],
   "source": [
    "precision = (true_positives) / (true_positives + false_positives)\n",
    "precision"
   ]
  },
  {
   "cell_type": "markdown",
   "id": "a0cabdbd-1f23-488f-a3a4-82b188f5420b",
   "metadata": {},
   "source": [
    "#### Especificidad\n",
    "(tn ) / (tn + fp)\n",
    "\n",
    "Es el número de ítems correctamente identificados como negativos  de un total de elementos identificados como negativos."
   ]
  },
  {
   "cell_type": "code",
   "execution_count": 16,
   "id": "cd0ac1bf-a9e1-4c2d-83c5-155c4e1b2b05",
   "metadata": {},
   "outputs": [
    {
     "data": {
      "text/plain": [
       "0.9998978236436089"
      ]
     },
     "execution_count": 16,
     "metadata": {},
     "output_type": "execute_result"
    }
   ],
   "source": [
    "specificity = (true_negatives) / (true_negatives + false_positives)\n",
    "specificity"
   ]
  },
  {
   "cell_type": "markdown",
   "id": "1a719e8d-b727-4aee-90e8-06b8af8d90f3",
   "metadata": {},
   "source": [
    "#### Tasa de falso positivo (error tipo 1)\n",
    "(fp)/(fp + tn)\n",
    "\n",
    "Número de elementos identificados erróneamente como positivos de total negativos verdaderos- FP / ( FP + TN)"
   ]
  },
  {
   "cell_type": "code",
   "execution_count": 17,
   "id": "f8c2fa10-639f-4b90-bb7c-779625fc625b",
   "metadata": {},
   "outputs": [
    {
     "data": {
      "text/plain": [
       "0.00010217635639113109"
      ]
     },
     "execution_count": 17,
     "metadata": {},
     "output_type": "execute_result"
    }
   ],
   "source": [
    "tasa_falso_positivo = (false_positives) / (true_negatives + false_positives)\n",
    "tasa_falso_positivo"
   ]
  },
  {
   "cell_type": "markdown",
   "id": "f015ca52-5600-488d-bc65-e5b4b63373ad",
   "metadata": {},
   "source": [
    "#### Tasa de falso negativo (error tipo 2)\n",
    "(fn)/(fn + tp)\n",
    "\n",
    "Número de elementos identificados erróneamente como s negativo del total de verdaderos positivos"
   ]
  },
  {
   "cell_type": "code",
   "execution_count": 18,
   "id": "e584f06f-3c86-4246-8de6-e2f357aa7da9",
   "metadata": {},
   "outputs": [
    {
     "data": {
      "text/plain": [
       "0.05170123633391233"
      ]
     },
     "execution_count": 18,
     "metadata": {},
     "output_type": "execute_result"
    }
   ],
   "source": [
    "tasa_falso_negativo = (false_negatives) / (true_negatives + false_positives)\n",
    "tasa_falso_negativo"
   ]
  },
  {
   "cell_type": "markdown",
   "id": "5efd112c-da29-4f93-b4fd-2223a96681d2",
   "metadata": {},
   "source": [
    "#### F1\n",
    "2 * (precision * recall) / (precision + recall)\n",
    "\n",
    "Es la media armónica de la precicisión y el recall"
   ]
  },
  {
   "cell_type": "code",
   "execution_count": 19,
   "id": "0b97b4fe-6f7c-4afc-90d6-19c7db2bcc5c",
   "metadata": {
    "tags": []
   },
   "outputs": [
    {
     "name": "stderr",
     "output_type": "stream",
     "text": [
      "C:\\Users\\arouiller\\AppData\\Local\\Temp\\ipykernel_3956\\1137257253.py:1: RuntimeWarning: invalid value encountered in double_scalars\n",
      "  f1 = 2 * (precision*recall)/(precision+recall)\n"
     ]
    },
    {
     "data": {
      "text/plain": [
       "nan"
      ]
     },
     "execution_count": 19,
     "metadata": {},
     "output_type": "execute_result"
    }
   ],
   "source": [
    "f1 = 2 * (precision*recall)/(precision+recall)\n",
    "f1"
   ]
  },
  {
   "cell_type": "markdown",
   "id": "81a511f5-48b7-4f8a-9c0a-2e9bd00800c2",
   "metadata": {},
   "source": [
    "#### Una Metrica del negocio\n",
    "\n",
    "$4000 por cada verdadero positivo\n",
    "\n",
    "-$200 por cada falso positivo\n",
    "\n",
    "dividido por el total de positivos (true_positives + false_negatives)"
   ]
  },
  {
   "cell_type": "code",
   "execution_count": 20,
   "id": "2bd4e334-ca31-49e7-8b66-7dff9a3f3322",
   "metadata": {
    "tags": []
   },
   "outputs": [
    {
     "data": {
      "text/plain": [
       "4000.0"
      ]
     },
     "execution_count": 20,
     "metadata": {},
     "output_type": "execute_result"
    }
   ],
   "source": [
    "metrica_negocio_optima = (4000*(true_positives+false_negatives)) /(true_positives + false_negatives)\n",
    "metrica_negocio_optima"
   ]
  },
  {
   "cell_type": "code",
   "execution_count": 21,
   "id": "b8929422-f3a4-4684-89e8-8178376ed2c8",
   "metadata": {
    "tags": []
   },
   "outputs": [
    {
     "data": {
      "text/plain": [
       "-0.3952569169960474"
      ]
     },
     "execution_count": 21,
     "metadata": {},
     "output_type": "execute_result"
    }
   ],
   "source": [
    "metrica_negocio = ((4000*true_positives) - (200*false_positives))/(true_positives + false_negatives)\n",
    "metrica_negocio"
   ]
  },
  {
   "cell_type": "code",
   "execution_count": 22,
   "id": "a48c92c1-e402-4c83-8cfa-c7a4aaa9ef2f",
   "metadata": {
    "tags": []
   },
   "outputs": [
    {
     "data": {
      "text/plain": [
       "{'true negatives': 9786,\n",
       " 'true positives': 0,\n",
       " 'false positives': 1,\n",
       " 'false negatives': 506,\n",
       " 'accuracy': 0.9507,\n",
       " 'recall': 0.0,\n",
       " 'precision': 0.0,\n",
       " 'specificity': 0.9999,\n",
       " 'tasa falso positivo': 0.0001,\n",
       " 'tasa falso negativo': 0.0517,\n",
       " 'f1': 0,\n",
       " 'metrica negocio': -0.3952569169960474,\n",
       " 'metrica optima negocio': 4000.0}"
      ]
     },
     "execution_count": 22,
     "metadata": {},
     "output_type": "execute_result"
    }
   ],
   "source": [
    "metricas = atu.calcular_metricas(\n",
    "    y_true = Y_validacion, \n",
    "    y_pred = Y_validacion_pred, \n",
    "    labels = ['NO', 'SI']\n",
    ")\n",
    "\n",
    "metricas"
   ]
  },
  {
   "cell_type": "code",
   "execution_count": 23,
   "id": "a5f13ab1-09fa-496e-9976-6543a67623df",
   "metadata": {
    "tags": []
   },
   "outputs": [
    {
     "name": "stderr",
     "output_type": "stream",
     "text": [
      "C:\\Users\\arouiller\\AppData\\Local\\miniconda3\\envs\\python_3_9_beer_analysis\\lib\\site-packages\\_distutils_hack\\__init__.py:33: UserWarning: Setuptools is replacing distutils.\n",
      "  warnings.warn(\"Setuptools is replacing distutils.\")\n"
     ]
    }
   ],
   "source": [
    "parametros = {\n",
    "    'max_depth': max_depth,\n",
    "    'umbral_corte': 0.5\n",
    "}\n",
    "\n",
    "a_mlflow_u.log_experimento(\n",
    "    host = 'http://localhost:5000', \n",
    "    nombre_experimento=\"AnalisisDeCervezas\", \n",
    "    run_name=\"Primera ejecucion\", \n",
    "    descripcion=\"Rpart con parámetros por defecto\", \n",
    "    dataset_tag=\"validacion\", \n",
    "    parametros=parametros, \n",
    "    metricas=metricas,\n",
    "    model=clf, \n",
    "    artifact_path=\"model\"\n",
    ")"
   ]
  },
  {
   "cell_type": "markdown",
   "id": "784847cd-6c53-4f81-9f2e-ea52e195d4f5",
   "metadata": {},
   "source": [
    "### Probemos con el dataset de testing"
   ]
  },
  {
   "cell_type": "code",
   "execution_count": 24,
   "id": "e957a03c-73a7-4e68-894b-4961a2212760",
   "metadata": {
    "tags": []
   },
   "outputs": [],
   "source": [
    "y_testing_pred = clf.predict(X_testing)"
   ]
  },
  {
   "cell_type": "code",
   "execution_count": 25,
   "id": "7850bae6-74a3-4ea9-9e31-f83b5769d147",
   "metadata": {
    "tags": []
   },
   "outputs": [
    {
     "data": {
      "text/plain": [
       "{'true negatives': 13965,\n",
       " 'true positives': 0,\n",
       " 'false positives': 1,\n",
       " 'false negatives': 738,\n",
       " 'accuracy': 0.9497,\n",
       " 'recall': 0.0,\n",
       " 'precision': 0.0,\n",
       " 'specificity': 0.9999,\n",
       " 'tasa falso positivo': 0.0001,\n",
       " 'tasa falso negativo': 0.0528,\n",
       " 'f1': 0,\n",
       " 'metrica negocio': -0.27100271002710025,\n",
       " 'metrica optima negocio': 4000.0}"
      ]
     },
     "execution_count": 25,
     "metadata": {},
     "output_type": "execute_result"
    }
   ],
   "source": [
    "metricas = atu.calcular_metricas(\n",
    "    y_true = Y_testing['es_popular'], \n",
    "    y_pred = y_testing_pred, \n",
    "    labels = ['NO', 'SI']\n",
    ")\n",
    "metricas"
   ]
  },
  {
   "cell_type": "code",
   "execution_count": 26,
   "id": "f14d9b25-c95d-4cb4-a0c2-6ac0d10ba135",
   "metadata": {
    "tags": []
   },
   "outputs": [],
   "source": [
    "parametros = {\n",
    "    'max_depth': max_depth,\n",
    "    'umbral_corte': 0.5\n",
    "}\n",
    "\n",
    "a_mlflow_u.log_experimento(\n",
    "    host = 'http://localhost:5000', \n",
    "    nombre_experimento=\"AnalisisDeCervezas\", \n",
    "    run_name=\"Primera ejecucion\", \n",
    "    descripcion=\"Rpart con parámetros por defecto\", \n",
    "    dataset_tag=\"testing\", \n",
    "    parametros=parametros, \n",
    "    metricas=metricas,\n",
    "    model=clf, \n",
    "    artifact_path=\"model\"\n",
    ")"
   ]
  }
 ],
 "metadata": {
  "kernelspec": {
   "display_name": "Python 3 (ipykernel)",
   "language": "python",
   "name": "python3"
  },
  "language_info": {
   "codemirror_mode": {
    "name": "ipython",
    "version": 3
   },
   "file_extension": ".py",
   "mimetype": "text/x-python",
   "name": "python",
   "nbconvert_exporter": "python",
   "pygments_lexer": "ipython3",
   "version": "3.9.16"
  }
 },
 "nbformat": 4,
 "nbformat_minor": 5
}
