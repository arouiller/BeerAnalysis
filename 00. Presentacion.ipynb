{
 "cells": [
  {
   "cell_type": "markdown",
   "id": "3416e112-35eb-476a-b23f-99167507fa4e",
   "metadata": {
    "tags": []
   },
   "source": [
    "![image info](./img-presentacion/Slide_1.png)"
   ]
  },
  {
   "cell_type": "markdown",
   "id": "d687087b-7588-431d-8a38-1705535d0d4c",
   "metadata": {
    "tags": []
   },
   "source": [
    "![image info](./img-presentacion/Slide_2.png)"
   ]
  },
  {
   "cell_type": "markdown",
   "id": "1c820ede-6da2-4e0f-8460-e9a682dd9b2b",
   "metadata": {
    "tags": []
   },
   "source": [
    "![image info](./img-presentacion/Slide_3.png)"
   ]
  }
 ],
 "metadata": {
  "kernelspec": {
   "display_name": "Python 3 (ipykernel)",
   "language": "python",
   "name": "python3"
  },
  "language_info": {
   "codemirror_mode": {
    "name": "ipython",
    "version": 3
   },
   "file_extension": ".py",
   "mimetype": "text/x-python",
   "name": "python",
   "nbconvert_exporter": "python",
   "pygments_lexer": "ipython3",
   "version": "3.9.16"
  }
 },
 "nbformat": 4,
 "nbformat_minor": 5
}
